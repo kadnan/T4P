{
 "cells": [
  {
   "cell_type": "code",
   "execution_count": 152,
   "id": "a181f49d-d276-454e-aa48-41379b8a779d",
   "metadata": {},
   "outputs": [],
   "source": [
    "import numpy as np\n",
    "import pandas as pd\n",
    "import pandas_ta as ta\n",
    "import matplotlib.pyplot as plt\n",
    "import yfinance as yf\n",
    "import mplfinance as mpf\n",
    "import requests\n",
    "import plotly.graph_objects as go\n",
    "import talib"
   ]
  },
  {
   "cell_type": "code",
   "execution_count": 153,
   "id": "7934b442-17cb-4b2e-9425-e81520ebe2cb",
   "metadata": {},
   "outputs": [],
   "source": [
    "def get_tsla_recent_data():\n",
    "    session = requests.Session()\n",
    "    session.headers.update({'User-Agent': 'Mozilla/5.0 (Windows NT 10.0; Win64; x64) AppleWebKit/537.36 (KHTML, like Gecko) Chrome/58.0.3029.110 Safari/537.3'})\n",
    "    tsla = yf.Ticker('TSLA')\n",
    "    df = tsla.history(period='4mo', interval='4h')\n",
    "    return df\n",
    "\n",
    "def visualize(df, title=\"TSLA Candlestick Chart\"):\n",
    "    \"\"\"\n",
    "    Plots a candlestick chart using mplfinance for the given DataFrame.\n",
    "\n",
    "    Parameters:\n",
    "    df (pd.DataFrame): The DataFrame containing OHLC data.\n",
    "    title (str): The title of the chart.\n",
    "    \"\"\"\n",
    "    # Ensure the DataFrame index is a datetime index\n",
    "    df = df.copy()\n",
    "    df.index = pd.to_datetime(df.index)\n",
    "\n",
    "    # Plot the candlestick chart\n",
    "    mpf.plot(df, type='candle', style='charles', title=title, ylabel=\"Price\",\n",
    "             volume=True, figsize=(10, 5))\n",
    "\n",
    "def visualize_interactive(df, title=\"TSLA Candlestick Chart\"):\n",
    "    fig = go.Figure()\n",
    "    \n",
    "    # Add candlestick chart\n",
    "    fig.add_trace(go.Candlestick(\n",
    "        x=df.index,\n",
    "        open=df['Open'],\n",
    "        high=df['High'],\n",
    "        low=df['Low'],\n",
    "        close=df['Close'],\n",
    "        name='TSLA'\n",
    "    ))\n",
    "    \n",
    "    # Add SMA 50 line\n",
    "    fig.add_trace(go.Scatter(\n",
    "        x=df.index,\n",
    "        y=df['SMA_short'],\n",
    "        mode='lines',\n",
    "        name='SMA Short',\n",
    "        line=dict(color='blue', width=2)\n",
    "    ))\n",
    "    \n",
    "    # Add SMA 200 line\n",
    "    fig.add_trace(go.Scatter(\n",
    "        x=df.index,\n",
    "        y=df['SMA_long'],\n",
    "        mode='lines',\n",
    "        name='SMA Long',\n",
    "        line=dict(color='orange', width=2)\n",
    "    ))\n",
    "    \n",
    "    fig.update_layout(title=title, xaxis_rangeslider_visible=False)\n",
    "    fig.show()\n",
    "\n",
    "def generate_ma_crossover_signals(df, short_ma_col='SMA_short', long_ma_col='SMA_long'):    \n",
    "    df = df.copy()\n",
    "    \n",
    "    # Initialize signal column\n",
    "    df['Signal'] = 0\n",
    "    \n",
    "    # Generate crossover signals\n",
    "    # Buy signal: Short MA crosses above Long MA (Golden Cross)\n",
    "    df['Signal'] = np.where(\n",
    "        (df[short_ma_col] > df[long_ma_col]) & \n",
    "        (df[short_ma_col].shift(1) <= df[long_ma_col].shift(1)), \n",
    "        1, df['Signal']\n",
    "    )\n",
    "    \n",
    "    # Sell signal: Short MA crosses below Long MA (Death Cross)\n",
    "    df['Signal'] = np.where(\n",
    "        (df[short_ma_col] < df[long_ma_col]) & \n",
    "        (df[short_ma_col].shift(1) >= df[long_ma_col].shift(1)), \n",
    "        -1, df['Signal']\n",
    "    )\n",
    "        \n",
    "    # Add signal markers for plotting\n",
    "    df['Buy_Signal'] = np.where(df['Signal'] == 1, df['Close'], np.nan)\n",
    "    df['Sell_Signal'] = np.where(df['Signal'] == -1, df['Close'], np.nan)\n",
    "    \n",
    "    return df\n",
    "\n",
    "def visualize_interactive_with_signals(df, title=\"TSLA with MA Crossover Signals\"):\n",
    "    fig = go.Figure()\n",
    "    \n",
    "    # Candlestick chart\n",
    "    fig.add_trace(go.Candlestick(\n",
    "        x=df.index, open=df['Open'], high=df['High'], \n",
    "        low=df['Low'], close=df['Close'], name='TSLA'\n",
    "    ))\n",
    "    \n",
    "    # Moving averages\n",
    "    fig.add_trace(go.Scatter(x=df.index, y=df['SMA_short'], mode='lines', \n",
    "                            name='SMA Short', line=dict(color='blue', width=2)))\n",
    "    fig.add_trace(go.Scatter(x=df.index, y=df['SMA_long'], mode='lines', \n",
    "                            name='SMA Long', line=dict(color='red', width=2)))\n",
    "    \n",
    "    # Buy signals with text\n",
    "    buy_signals = df[df['Signal'] == 1]\n",
    "    if not buy_signals.empty:\n",
    "        fig.add_trace(go.Scatter(\n",
    "            x=buy_signals.index, \n",
    "            y=buy_signals['Close'],\n",
    "            mode='markers+text',\n",
    "            name='Buy Signal',\n",
    "            marker=dict(symbol='triangle-up', size=15, color='green'),\n",
    "            text='BUY',\n",
    "            textposition='top center',\n",
    "            textfont=dict(color='green', size=12, family='Arial Black')\n",
    "        ))\n",
    "    \n",
    "    # Sell signals with text\n",
    "    sell_signals = df[df['Signal'] == -1]\n",
    "    if not sell_signals.empty:\n",
    "        fig.add_trace(go.Scatter(\n",
    "            x=sell_signals.index, \n",
    "            y=sell_signals['Close'],\n",
    "            mode='markers+text',\n",
    "            name='Sell Signal',\n",
    "            marker=dict(symbol='triangle-down', size=15, color='red'),\n",
    "            text='SELL',\n",
    "            textposition='bottom center',\n",
    "            textfont=dict(color='red', size=12, family='Arial Black')\n",
    "        ))\n",
    "    \n",
    "    fig.update_layout(title=title, xaxis_rangeslider_visible=False)\n",
    "    fig.show()"
   ]
  },
  {
   "cell_type": "code",
   "execution_count": 154,
   "id": "c89f17dc-f858-4e86-b2de-cc13088f78cc",
   "metadata": {},
   "outputs": [],
   "source": [
    "df = get_tsla_recent_data()"
   ]
  },
  {
   "cell_type": "code",
   "execution_count": 155,
   "id": "bc8f3d18-6f36-46a3-9872-3447de52505e",
   "metadata": {},
   "outputs": [],
   "source": [
    "df['SMA_short'] = ta.sma(df['Close'], length=50)\n",
    "df['SMA_long'] = ta.sma(df['Close'], length=20)"
   ]
  },
  {
   "cell_type": "code",
   "execution_count": 156,
   "id": "1322f2a6-1460-4633-a047-8699cd8c7cb0",
   "metadata": {},
   "outputs": [
    {
     "data": {
      "text/html": [
       "<div>\n",
       "<style scoped>\n",
       "    .dataframe tbody tr th:only-of-type {\n",
       "        vertical-align: middle;\n",
       "    }\n",
       "\n",
       "    .dataframe tbody tr th {\n",
       "        vertical-align: top;\n",
       "    }\n",
       "\n",
       "    .dataframe thead th {\n",
       "        text-align: right;\n",
       "    }\n",
       "</style>\n",
       "<table border=\"1\" class=\"dataframe\">\n",
       "  <thead>\n",
       "    <tr style=\"text-align: right;\">\n",
       "      <th></th>\n",
       "      <th>Open</th>\n",
       "      <th>High</th>\n",
       "      <th>Low</th>\n",
       "      <th>Close</th>\n",
       "      <th>Volume</th>\n",
       "      <th>Dividends</th>\n",
       "      <th>Stock Splits</th>\n",
       "      <th>SMA_short</th>\n",
       "      <th>SMA_long</th>\n",
       "    </tr>\n",
       "    <tr>\n",
       "      <th>Datetime</th>\n",
       "      <th></th>\n",
       "      <th></th>\n",
       "      <th></th>\n",
       "      <th></th>\n",
       "      <th></th>\n",
       "      <th></th>\n",
       "      <th></th>\n",
       "      <th></th>\n",
       "      <th></th>\n",
       "    </tr>\n",
       "  </thead>\n",
       "  <tbody>\n",
       "    <tr>\n",
       "      <th>2025-02-27 09:30:00-05:00</th>\n",
       "      <td>291.000000</td>\n",
       "      <td>297.230011</td>\n",
       "      <td>280.880005</td>\n",
       "      <td>291.309998</td>\n",
       "      <td>66512352</td>\n",
       "      <td>0.0</td>\n",
       "      <td>0.0</td>\n",
       "      <td>NaN</td>\n",
       "      <td>NaN</td>\n",
       "    </tr>\n",
       "    <tr>\n",
       "      <th>2025-02-27 13:30:00-05:00</th>\n",
       "      <td>291.329987</td>\n",
       "      <td>291.824402</td>\n",
       "      <td>281.269989</td>\n",
       "      <td>281.959991</td>\n",
       "      <td>28012695</td>\n",
       "      <td>0.0</td>\n",
       "      <td>0.0</td>\n",
       "      <td>NaN</td>\n",
       "      <td>NaN</td>\n",
       "    </tr>\n",
       "    <tr>\n",
       "      <th>2025-02-28 09:30:00-05:00</th>\n",
       "      <td>279.459991</td>\n",
       "      <td>293.000000</td>\n",
       "      <td>273.600006</td>\n",
       "      <td>286.119995</td>\n",
       "      <td>72376364</td>\n",
       "      <td>0.0</td>\n",
       "      <td>0.0</td>\n",
       "      <td>NaN</td>\n",
       "      <td>NaN</td>\n",
       "    </tr>\n",
       "    <tr>\n",
       "      <th>2025-02-28 13:30:00-05:00</th>\n",
       "      <td>286.059998</td>\n",
       "      <td>293.609985</td>\n",
       "      <td>282.809998</td>\n",
       "      <td>293.309998</td>\n",
       "      <td>30413828</td>\n",
       "      <td>0.0</td>\n",
       "      <td>0.0</td>\n",
       "      <td>NaN</td>\n",
       "      <td>NaN</td>\n",
       "    </tr>\n",
       "    <tr>\n",
       "      <th>2025-03-03 09:30:00-05:00</th>\n",
       "      <td>300.367493</td>\n",
       "      <td>303.940002</td>\n",
       "      <td>285.029999</td>\n",
       "      <td>285.415009</td>\n",
       "      <td>74350541</td>\n",
       "      <td>0.0</td>\n",
       "      <td>0.0</td>\n",
       "      <td>NaN</td>\n",
       "      <td>NaN</td>\n",
       "    </tr>\n",
       "    <tr>\n",
       "      <th>...</th>\n",
       "      <td>...</td>\n",
       "      <td>...</td>\n",
       "      <td>...</td>\n",
       "      <td>...</td>\n",
       "      <td>...</td>\n",
       "      <td>...</td>\n",
       "      <td>...</td>\n",
       "      <td>...</td>\n",
       "      <td>...</td>\n",
       "    </tr>\n",
       "    <tr>\n",
       "      <th>2025-06-24 13:30:00-04:00</th>\n",
       "      <td>342.209991</td>\n",
       "      <td>343.709991</td>\n",
       "      <td>340.480011</td>\n",
       "      <td>340.480713</td>\n",
       "      <td>24046262</td>\n",
       "      <td>0.0</td>\n",
       "      <td>0.0</td>\n",
       "      <td>333.520474</td>\n",
       "      <td>328.440138</td>\n",
       "    </tr>\n",
       "    <tr>\n",
       "      <th>2025-06-25 09:30:00-04:00</th>\n",
       "      <td>341.790009</td>\n",
       "      <td>342.859985</td>\n",
       "      <td>320.399994</td>\n",
       "      <td>326.984985</td>\n",
       "      <td>84865454</td>\n",
       "      <td>0.0</td>\n",
       "      <td>0.0</td>\n",
       "      <td>333.220026</td>\n",
       "      <td>328.790387</td>\n",
       "    </tr>\n",
       "    <tr>\n",
       "      <th>2025-06-25 13:30:00-04:00</th>\n",
       "      <td>327.024994</td>\n",
       "      <td>328.390015</td>\n",
       "      <td>322.600006</td>\n",
       "      <td>327.589996</td>\n",
       "      <td>28412323</td>\n",
       "      <td>0.0</td>\n",
       "      <td>0.0</td>\n",
       "      <td>332.933226</td>\n",
       "      <td>328.862387</td>\n",
       "    </tr>\n",
       "    <tr>\n",
       "      <th>2025-06-26 09:30:00-04:00</th>\n",
       "      <td>324.609985</td>\n",
       "      <td>331.049988</td>\n",
       "      <td>323.609985</td>\n",
       "      <td>329.004395</td>\n",
       "      <td>56834593</td>\n",
       "      <td>0.0</td>\n",
       "      <td>0.0</td>\n",
       "      <td>332.506114</td>\n",
       "      <td>328.766107</td>\n",
       "    </tr>\n",
       "    <tr>\n",
       "      <th>2025-06-26 13:30:00-04:00</th>\n",
       "      <td>329.010010</td>\n",
       "      <td>329.130005</td>\n",
       "      <td>324.750000</td>\n",
       "      <td>325.769989</td>\n",
       "      <td>20196152</td>\n",
       "      <td>0.0</td>\n",
       "      <td>0.0</td>\n",
       "      <td>332.146313</td>\n",
       "      <td>328.730107</td>\n",
       "    </tr>\n",
       "  </tbody>\n",
       "</table>\n",
       "<p>166 rows × 9 columns</p>\n",
       "</div>"
      ],
      "text/plain": [
       "                                 Open        High         Low       Close  \\\n",
       "Datetime                                                                    \n",
       "2025-02-27 09:30:00-05:00  291.000000  297.230011  280.880005  291.309998   \n",
       "2025-02-27 13:30:00-05:00  291.329987  291.824402  281.269989  281.959991   \n",
       "2025-02-28 09:30:00-05:00  279.459991  293.000000  273.600006  286.119995   \n",
       "2025-02-28 13:30:00-05:00  286.059998  293.609985  282.809998  293.309998   \n",
       "2025-03-03 09:30:00-05:00  300.367493  303.940002  285.029999  285.415009   \n",
       "...                               ...         ...         ...         ...   \n",
       "2025-06-24 13:30:00-04:00  342.209991  343.709991  340.480011  340.480713   \n",
       "2025-06-25 09:30:00-04:00  341.790009  342.859985  320.399994  326.984985   \n",
       "2025-06-25 13:30:00-04:00  327.024994  328.390015  322.600006  327.589996   \n",
       "2025-06-26 09:30:00-04:00  324.609985  331.049988  323.609985  329.004395   \n",
       "2025-06-26 13:30:00-04:00  329.010010  329.130005  324.750000  325.769989   \n",
       "\n",
       "                             Volume  Dividends  Stock Splits   SMA_short  \\\n",
       "Datetime                                                                   \n",
       "2025-02-27 09:30:00-05:00  66512352        0.0           0.0         NaN   \n",
       "2025-02-27 13:30:00-05:00  28012695        0.0           0.0         NaN   \n",
       "2025-02-28 09:30:00-05:00  72376364        0.0           0.0         NaN   \n",
       "2025-02-28 13:30:00-05:00  30413828        0.0           0.0         NaN   \n",
       "2025-03-03 09:30:00-05:00  74350541        0.0           0.0         NaN   \n",
       "...                             ...        ...           ...         ...   \n",
       "2025-06-24 13:30:00-04:00  24046262        0.0           0.0  333.520474   \n",
       "2025-06-25 09:30:00-04:00  84865454        0.0           0.0  333.220026   \n",
       "2025-06-25 13:30:00-04:00  28412323        0.0           0.0  332.933226   \n",
       "2025-06-26 09:30:00-04:00  56834593        0.0           0.0  332.506114   \n",
       "2025-06-26 13:30:00-04:00  20196152        0.0           0.0  332.146313   \n",
       "\n",
       "                             SMA_long  \n",
       "Datetime                               \n",
       "2025-02-27 09:30:00-05:00         NaN  \n",
       "2025-02-27 13:30:00-05:00         NaN  \n",
       "2025-02-28 09:30:00-05:00         NaN  \n",
       "2025-02-28 13:30:00-05:00         NaN  \n",
       "2025-03-03 09:30:00-05:00         NaN  \n",
       "...                               ...  \n",
       "2025-06-24 13:30:00-04:00  328.440138  \n",
       "2025-06-25 09:30:00-04:00  328.790387  \n",
       "2025-06-25 13:30:00-04:00  328.862387  \n",
       "2025-06-26 09:30:00-04:00  328.766107  \n",
       "2025-06-26 13:30:00-04:00  328.730107  \n",
       "\n",
       "[166 rows x 9 columns]"
      ]
     },
     "execution_count": 156,
     "metadata": {},
     "output_type": "execute_result"
    }
   ],
   "source": [
    "df"
   ]
  },
  {
   "cell_type": "code",
   "execution_count": 157,
   "id": "03835e0e-a34b-4d93-90b8-ebd05ebc3122",
   "metadata": {},
   "outputs": [
    {
     "data": {
      "application/vnd.plotly.v1+json": {
       "config": {
        "plotlyServerURL": "https://plot.ly"
       },
       "data": [
        {
         "close": {
          "bdata": "AAAAwPU0ckAAAAAgXJ9xQAAAAIDr4XFAAAAAwPVUckAAAADgo9ZxQAAAAOB6zHFAAAAAAC3ycEAAAAAAAABxQAAAAADpBnFAAAAAACl0cUAAAABAM29wQAAAAEDhdnBAAAAAoEdDcEAAAACAFGpwQAAAAKCZYWxAAAAAYI/Ca0AAAACA6/lrQAAAAAAA0GxAAAAAQK1Hb0AAAADA9QhvQAAAAIA9gm1AAAAAgBQWbkAAAAAAZv9uQAAAAEBgP29AAAAAIFyLbUAAAACgmbltQAAAACDbX2xAAAAAIFwvbEAAAADAOUttQAAAACBcd21AAAAAoKRIbUAAAAAAAIhtQAAAACCFq25AAAAAIK4jb0AAAADgoyBxQAAAAEAKZ3FAAAAA4OdTcUAAAABgZgJyQAAAAOBR7nBAAAAAANf/cEAAAABA4R5xQAAAACCuE3FAAAAA4Hp0cEAAAAAA13dwQAAAAAAAyG9AAAAA4FE0cEAAAAAgahVxQAAAACCux3BAAAAAoEe5cUAAAABguKpxQAAAAOB6xHBAAAAAQAq9cEAAAACAiiBuQAAAAEDh6m1AAAAA4G8lbUAAAACgRyltQAAAAMDMtGxAAAAAYI+ya0AAAABAvchuQAAAAAAAAHFAAAAAQDO7bkAAAADAzIxvQAAAAMDMsG5AAAAAgMKFb0AAAAAgrv9uQAAAACCFi29AAAAAAMyEb0AAAAAA18NvQAAAAADX025AAAAAoJkxbkAAAAAg/eptQAAAAKBHMW5AAAAAYLjua0AAAABgZm5sQAAAAADXe21AAAAAwMzEbUAAAACgR/1vQAAAAKBHWW9AAAAAIIXrb0AAAAAAKThwQAAAAGBm6nFAAAAAAADOcUAAAADAOUhxQAAAAGAQ3nFAAAAAgD3OcUAAAACgKkByQAAAAOB6YHFAAAAAAOChcUAAAACgcMFxQAAAAAApiHFAAAAAQDNDckAAAAAAAPRxQAAAACCuh3FAAAAAQDODcUAAAACAcxtxQAAAAAAANHFAAAAAgOs1cUAAAABA4UJxQAAAAEAl8XFAAAAAgD3OcUAAAABgZp5yQAAAAKCgoXJAAAAAQKbkc0AAAACA6+lzQAAAAEAKl3RAAAAAQOHedEAAAADAHol1QAAAAGDstnVAAAAAgBSWdUAAAACAp2t1QAAAAIDrvXVAAAAAwMzcdUAAAABAHmB1QAAAAEDhXnVAAAAAgMLldUAAAAAAKXx1QAAAAAAAAHVAAAAA4HrodEAAAADgeox1QAAAACCuT3VAAAAAwKFwdUAAAACAPTZ1QAAAACAfmHZAAAAAIASsdkAAAACA66l2QAAAAGC4TnZAAAAAANeRdkAAAABAM2d2QAAAAKCAxnVAAAAAACmcdUAAAAAgXCN1QAAAAEAza3VAAAAAIK4ndkAAAAAghYd1QAAAACCuzXRAAAAAIFzDdEAAAACgmeVyQAAAAAC1y3FAAAAAQArBckAAAAAAAHJyQAAAAMD1kHJAAAAAQIRKc0AAAAAgrv9zQAAAAGBmYnRAAAAAQOGudEAAAAAA12d0QAAAAEB5UXRAAAAAwMzyc0AAAABgj8J0QAAAAKCZVXRAAAAAANeTdEAAAACAwpF0QAAAACBc6XNAAAAA4HrEc0AAAACgcB90QAAAACCFIXRAAAAAIK4XdEAAAABguCJ0QAAAAIDr8XVAAAAAIFzLdUAAAAAA12N1QAAAAACxR3VAAAAAgMJvdEAAAACgcHl0QAAAAAASkHRAAAAA4FFcdEA=",
          "dtype": "f8"
         },
         "high": {
          "bdata": "AAAAIK6TckAAAADAMD1yQAAAAAAAUHJAAAAAgMJZckAAAABACv9yQAAAAAApJHJAAAAA4HpkcUAAAACgR8VxQAAAAIBRZHFAAAAA4KN4cUAAAABgZgpxQAAAAIDCqXBAAAAAoP+jcEAAAABgS4RwQAAAAADXq29AAAAAQDObbEAAAABgRIltQAAAAKATom1AAAAAQOF6b0AAAABAM2NvQAAAAKBHCW9AAAAAQDNTbkAAAAAAelRvQAAAAGCPcm9AAAAA4HqgbkAAAACgcA1uQAAAAEAzw2xAAAAAYAl/bEAAAACAPaJtQAAAAMAeLW5AAAAAAADAbUAAAADAzJRtQAAAAAAp3G5AAAAAIK4vb0AAAADgUTxxQAAAAIA9anFAAAAAIFy5cUAAAABAMwNyQAAAAGBmznFAAAAAwP4XcUAAAACgcD1yQAAAAGC4enFAAAAAoJlBcUAAAABgZpZwQAAAAGBmDnBAAAAAwPVIcEAAAABAM1dxQAAAAGCPPnFAAAAAAD3GcUAAAAAA189xQAAAAMDMRHFAAAAAAADocEAAAAAAAFBwQAAAACBcx25AAAAAAACAb0AAAAAA16ttQAAAAIAUTm9AAAAAwGRmbUAAAACgmblvQAAAAEAKK3FAAAAAANdncEAAAADgowhwQAAAAOCjFHBAAAAAgD2Kb0AAAAAAAFhwQAAAAAAAAHBAAAAAAAAscEAAAABgf8dvQAAAAMDMbG9AAAAAoBrXbkAAAABA4YpuQAAAAMAeRW5AAAAAYLgGbUAAAAAA13tsQAAAAKBHWW5AAAAAAADQbUAAAABACjdwQAAAAKCtI3BAAAAAAGQicEAAAADgozhwQAAAAKCZ7XFAAAAAgD3qcUAAAACAwm1yQAAAACCF63FAAAAAwMwUckAAAADgo1RyQAAAAGC4lnFAAAAAQDPHcUAAAACg5i1yQAAAAIBjynFAAAAAANdnckAAAADgemxyQAAAAMDMzHFAAAAAAD22cUAAAAAgrltxQAAAAOBaS3FAAAAAYLhecUAAAAAAAFRxQAAAAMDMHHJAAAAA4KMcckAAAADgozBzQAAAAKBH0XJAAAAAQDMjdEAAAABAaf1zQAAAAADXl3RAAAAAIG4ZdUAAAAAAAOB1QAAAAAAA4HVAAAAAoDqidUAAAAAgrpd1QAAAAIDr+XVAAAAAQOHedUAAAAAAAHB1QAAAAOBRbHVAAAAAQCwpdkAAAADAry92QAAAAKCZtXVAAAAAQK1DdUAAAABgZpJ1QAAAAOBRtHVAAAAAQOFydUAAAABAcHF1QAAAAAAAsHZAAAAA4KO8dkAAAAAAANB2QAAAAADXv3ZAAAAAIFz7dkAAAABgj6Z2QAAAAEDhunZAAAAAQOEGdkAAAAAAKcB1QAAAAMD1cHVAAAAAYGY2dkAAAADAjSh2QAAAAKCZmXVAAAAAgOv5dEAAAABgzEh0QAAAAAAAEHNAAAAAAAAYc0AAAAAAAOByQAAAAKCZnXJAAAAAoEddc0AAAAAghRN0QAAAAKBHfXRAAAAAAAD4dEAAAACgR7F0QAAAAMDMyHRAAAAA4FFcdEAAAAAghc90QAAAACCuz3RAAAAAwMzAdEAAAAAg26p0QAAAAAApdHRAAAAAQAoLdEAAAADAzJR0QAAAAEAzU3RAAAAAgMLFdEAAAABgZkp0QAAAACCFV3ZAAAAAoJktdkAAAACAKER2QAAAACBce3VAAAAAgMJtdUAAAACAPYZ0QAAAAMDMsHRAAAAAgBSSdEA=",
          "dtype": "f8"
         },
         "low": {
          "bdata": "AAAAgBSOcUAAAADgUZRxQAAAAKCZGXFAAAAAwPWscUAAAADgetBxQAAAAMDMVHFAAAAAAHFdcEAAAACA6+FwQAAAACBcu3BAAAAAQDPzcEAAAADgUVxwQAAAAOBRQHBAAAAAIFxXb0AAAAAgXCdwQAAAAEDhMmxAAAAAgBSGa0AAAADA9UBrQAAAAGCP8mtAAAAAQDMjbkAAAAAAALhuQAAAAMD1MG1AAAAAYGZubUAAAAAgrhduQAAAAKBw7W5AAAAAYJoZbUAAAACASHltQAAAAMD1yGtAAAAAgJ7pa0AAAACgbqZsQAAAAIA9Am1AAAAAYJrBbEAAAADgevxsQAAAAAAAUm1AAAAA4KOQbkAAAACgRwVwQAAAAMD1FHFAAAAA4Hr0cEAAAABgZlJxQAAAAGBm2nBAAAAAACmocEAAAABAJf1wQAAAAMD1AHFAAAAA4KNMcEAAAACgR0lwQAAAAACGa25AAAAAoNiTb0AAAAAAADRwQAAAAKBwsXBAAAAA4KNob0AAAAAgXMdwQAAAAOBRWHBAAAAAgMKNcEAAAAAAAIBtQAAAAKBwzW1AAAAAAADIakAAAADgAHhsQAAAAGBmhmxAAAAAoJk5a0AAAADgevxrQAAAAKCZEW1AAAAAYI/qbUAAAACgpKBuQAAAAOCcK25AAAAAgOuhbkAAAACAwr1uQAAAAGBm5m5AAAAAoJnxbkAAAABA4VpvQAAAAGBmpm5AAAAA4Ho8bUAAAACg3bVtQAAAAAAA2G1AAAAA4Irla0AAAACgmdlrQAAAAAA0u2xAAAAAgM5ObUAAAACAwo1uQAAAAEDhSm9AAAAAYGYmb0AAAABAPtJvQAAAAIAUOnBAAAAAwMyQcUAAAABguAZxQAAAAIA9NnFAAAAAIIN3cUAAAABgZsJxQAAAAOCj7HBAAAAAIK5bcUAAAAAgrn9xQAAAAMD1fHFAAAAAwPV8cUAAAADgUdxxQAAAAGBmJnFAAAAAwPV0cUAAAACAwvVwQAAAAAAADHFAAAAA4BQCcUAAAAAAKfBwQAAAAGCPdnFAAAAAgMLJcUAAAADAnyByQAAAAAApiHJAAAAAAAB4c0AAAACAPcJzQAAAAMDMzHNAAAAAYLiKdEAAAAAAABB1QAAAACD2dHVAAAAA4HHrdEAAAACgmTl1QAAAAKBHZXVAAAAAgMKtdUAAAACAFNZ0QAAAAOB67HRAAAAAQOFtdUAAAACAFFp1QAAAAOCj+HRAAAAAQDPDdEAAAACAPbZ0QAAAAGBmSnVAAAAAIFzTdEAAAADgUTB1QAAAAMAetXVAAAAAwMxcdkAAAACAPWp2QAAAAGCPPnZAAAAAoAp3dkAAAAAAAEB2QAAAAOCjlHVAAAAAQDOXdUAAAACgR9V0QAAAAIDrHXVAAAAAAJp9dUAAAADgo3B1QAAAAABLdXRAAAAAQDO/dEAAAAAAANhyQAAAACBcE3FAAAAAoDMzckAAAACAPVJyQAAAAKCZnXFAAAAAgD2OckAAAAAArGpzQAAAAOCj4HNAAAAA4HpgdEAAAADgUSx0QAAAAOBRLHRAAAAAgBTOc0AAAADAzJRzQAAAAAAANHRAAAAAYI9mdEAAAAAgXHN0QAAAAKBw1XNAAAAAAACsc0AAAABAM7dzQAAAAKBwAXRAAAAA4Hrcc0AAAADgFPpzQAAAAAAAeHRAAAAAQAqndUAAAABACkd1QAAAACCuR3VAAAAAYGYGdEAAAACgmSl0QAAAAIDCOXRAAAAAAABMdEA=",
          "dtype": "f8"
         },
         "name": "TSLA",
         "open": {
          "bdata": "AAAAAAAwckAAAACgRzVyQAAAACBcd3FAAAAAwPXgcUAAAABA4cVyQAAAAKAj2HFAAAAAwMzscEAAAABguPFwQAAAACBcD3FAAAAAAAAGcUAAAAAAAABxQAAAAAAAcHBAAAAAYGY0cEAAAADgUURwQAAAAEAzk29AAAAA4B1lbEAAAACgpChsQAAAAAAA+GtAAAAA4KPobkAAAAAA10NvQAAAAAAABG9AAAAAoEeBbUAAAACA6+luQAAAACCu/25AAAAAQAqfbkAAAADgYYttQAAAAIAUhmxAAAAAYI9ebEAAAAAghfNsQAAAAGC4Sm1AAAAAQAorbUAAAABAM0ttQAAAACCFX21AAAAAANerbkAAAABAMyFwQAAAAKBwIXFAAAAAAAC4cUAAAAAAKVRxQAAAAAApqnFAAAAA4FHucEAAAAAgrgdxQAAAACBcH3FAAAAAAAA4cUAAAADgo3RwQAAAAKBwJW9AAAAAoJnJb0AAAACAwntwQAAAAMDMFHFAAAAAQDPTb0AAAAAgXLlxQAAAAADXk3BAAAAAgD3EcEAAAAAA1+tvQAAAAGC4Hm5AAAAAwPX4a0AAAACgcCFtQAAAAKCZoW5AAAAAgD2ybEAAAAAAABJsQAAAAMDMzG5AAAAA4HpAcEAAAADAzLhuQAAAAEDhem9AAAAAIPSwbkAAAABAMyVwQAAAAEAK/25AAAAAIIU7b0AAAABgj4JvQAAAAIAU9m5AAAAAoHDVbkAAAADgo2xuQAAAAMDM7G1AAAAA4KPIbEAAAABgZu5rQAAAAGC43mxAAAAAIK57bUAAAAAghdtvQAAAACCu/29AAAAAQDNTb0AAAAAghetvQAAAAEAKW3BAAAAAgD3qcUAAAAAghQ9yQAAAAEDhSHFAAAAA4KPXcUAAAABgj85xQAAAAIDrfXFAAAAAANdfcUAAAACgR4FxQAAAAIDrwXFAAAAAACnQcUAAAABguEJyQAAAAMAeyXFAAAAA4KOIcUAAAACgcBFxQAAAACCFG3FAAAAAQApNcUAAAADA7DVxQAAAAIAUenFAAAAAgMLxcUAAAADA9SJyQAAAACBcn3JAAAAAwPUedEAAAAAgXOVzQAAAAKBH/3NAAAAAgD2WdEAAAAAgXGd1QAAAACCFiXVAAAAAIIVFdUAAAABACpd1QAAAAEAKoXVAAAAAYLi+dUAAAABgDhd1QAAAAAAAYHVAAAAAQAq/dUAAAACgcOV1QAAAAEDhhnVAAAAAIGwAdUAAAABACr90QAAAAAApjHVAAAAAgD0YdUAAAADgenB1QAAAAKCZtXVAAAAAANeXdkAAAACgcM12QAAAAKBHqXZAAAAA4KPUdkAAAAAAZpJ2QAAAAKBHOXZAAAAAAADGdUAAAACAPXp1QAAAAIDrI3VAAAAAIIWpdUAAAADA/Cd2QAAAACCFkXVAAAAAgOvNdEAAAAAA1yd0QAAAAIDC5XJAAAAAIFytckAAAABgB8FyQAAAAGC43nFAAAAAoHCRckAAAADAHrFzQAAAAIAUAHRAAAAAQOHgdEAAAABguK50QAAAAEAzMXRAAAAAIFxRdEAAAAAAAKBzQAAAAGAww3RAAAAAQOGydEAAAADgo5J0QAAAAOBRYHRAAAAA4Hroc0AAAADAzNRzQAAAAOCjIHRAAAAAwPV8dEAAAADgsxd0QAAAAIA9eHRAAAAAwB7zdUAAAABgj0J2QAAAACBcY3VAAAAA4KNcdUAAAABgZnB0QAAAAIDCSXRAAAAAACmQdEA=",
          "dtype": "f8"
         },
         "type": "candlestick",
         "x": [
          "2025-02-27T09:30:00-05:00",
          "2025-02-27T13:30:00-05:00",
          "2025-02-28T09:30:00-05:00",
          "2025-02-28T13:30:00-05:00",
          "2025-03-03T09:30:00-05:00",
          "2025-03-03T13:30:00-05:00",
          "2025-03-04T09:30:00-05:00",
          "2025-03-04T13:30:00-05:00",
          "2025-03-05T09:30:00-05:00",
          "2025-03-05T13:30:00-05:00",
          "2025-03-06T09:30:00-05:00",
          "2025-03-06T13:30:00-05:00",
          "2025-03-07T09:30:00-05:00",
          "2025-03-07T13:30:00-05:00",
          "2025-03-10T09:30:00-04:00",
          "2025-03-10T13:30:00-04:00",
          "2025-03-11T09:30:00-04:00",
          "2025-03-11T13:30:00-04:00",
          "2025-03-12T09:30:00-04:00",
          "2025-03-12T13:30:00-04:00",
          "2025-03-13T09:30:00-04:00",
          "2025-03-13T13:30:00-04:00",
          "2025-03-14T09:30:00-04:00",
          "2025-03-14T13:30:00-04:00",
          "2025-03-17T09:30:00-04:00",
          "2025-03-17T13:30:00-04:00",
          "2025-03-18T09:30:00-04:00",
          "2025-03-18T13:30:00-04:00",
          "2025-03-19T09:30:00-04:00",
          "2025-03-19T13:30:00-04:00",
          "2025-03-20T09:30:00-04:00",
          "2025-03-20T13:30:00-04:00",
          "2025-03-21T09:30:00-04:00",
          "2025-03-21T13:30:00-04:00",
          "2025-03-24T09:30:00-04:00",
          "2025-03-24T13:30:00-04:00",
          "2025-03-25T09:30:00-04:00",
          "2025-03-25T13:30:00-04:00",
          "2025-03-26T09:30:00-04:00",
          "2025-03-26T13:30:00-04:00",
          "2025-03-27T09:30:00-04:00",
          "2025-03-27T13:30:00-04:00",
          "2025-03-28T09:30:00-04:00",
          "2025-03-28T13:30:00-04:00",
          "2025-03-31T09:30:00-04:00",
          "2025-03-31T13:30:00-04:00",
          "2025-04-01T09:30:00-04:00",
          "2025-04-01T13:30:00-04:00",
          "2025-04-02T09:30:00-04:00",
          "2025-04-02T13:30:00-04:00",
          "2025-04-03T09:30:00-04:00",
          "2025-04-03T13:30:00-04:00",
          "2025-04-04T09:30:00-04:00",
          "2025-04-04T13:30:00-04:00",
          "2025-04-07T09:30:00-04:00",
          "2025-04-07T13:30:00-04:00",
          "2025-04-08T09:30:00-04:00",
          "2025-04-08T13:30:00-04:00",
          "2025-04-09T09:30:00-04:00",
          "2025-04-09T13:30:00-04:00",
          "2025-04-10T09:30:00-04:00",
          "2025-04-10T13:30:00-04:00",
          "2025-04-11T09:30:00-04:00",
          "2025-04-11T13:30:00-04:00",
          "2025-04-14T09:30:00-04:00",
          "2025-04-14T13:30:00-04:00",
          "2025-04-15T09:30:00-04:00",
          "2025-04-15T13:30:00-04:00",
          "2025-04-16T09:30:00-04:00",
          "2025-04-16T13:30:00-04:00",
          "2025-04-17T09:30:00-04:00",
          "2025-04-17T13:30:00-04:00",
          "2025-04-21T09:30:00-04:00",
          "2025-04-21T13:30:00-04:00",
          "2025-04-22T09:30:00-04:00",
          "2025-04-22T13:30:00-04:00",
          "2025-04-23T09:30:00-04:00",
          "2025-04-23T13:30:00-04:00",
          "2025-04-24T09:30:00-04:00",
          "2025-04-24T13:30:00-04:00",
          "2025-04-25T09:30:00-04:00",
          "2025-04-25T13:30:00-04:00",
          "2025-04-28T09:30:00-04:00",
          "2025-04-28T13:30:00-04:00",
          "2025-04-29T09:30:00-04:00",
          "2025-04-29T13:30:00-04:00",
          "2025-04-30T09:30:00-04:00",
          "2025-04-30T13:30:00-04:00",
          "2025-05-01T09:30:00-04:00",
          "2025-05-01T13:30:00-04:00",
          "2025-05-02T09:30:00-04:00",
          "2025-05-02T13:30:00-04:00",
          "2025-05-05T09:30:00-04:00",
          "2025-05-05T13:30:00-04:00",
          "2025-05-06T09:30:00-04:00",
          "2025-05-06T13:30:00-04:00",
          "2025-05-07T09:30:00-04:00",
          "2025-05-07T13:30:00-04:00",
          "2025-05-08T09:30:00-04:00",
          "2025-05-08T13:30:00-04:00",
          "2025-05-09T09:30:00-04:00",
          "2025-05-09T13:30:00-04:00",
          "2025-05-12T09:30:00-04:00",
          "2025-05-12T13:30:00-04:00",
          "2025-05-13T09:30:00-04:00",
          "2025-05-13T13:30:00-04:00",
          "2025-05-14T09:30:00-04:00",
          "2025-05-14T13:30:00-04:00",
          "2025-05-15T09:30:00-04:00",
          "2025-05-15T13:30:00-04:00",
          "2025-05-16T09:30:00-04:00",
          "2025-05-16T13:30:00-04:00",
          "2025-05-19T09:30:00-04:00",
          "2025-05-19T13:30:00-04:00",
          "2025-05-20T09:30:00-04:00",
          "2025-05-20T13:30:00-04:00",
          "2025-05-21T09:30:00-04:00",
          "2025-05-21T13:30:00-04:00",
          "2025-05-22T09:30:00-04:00",
          "2025-05-22T13:30:00-04:00",
          "2025-05-23T09:30:00-04:00",
          "2025-05-23T13:30:00-04:00",
          "2025-05-27T09:30:00-04:00",
          "2025-05-27T13:30:00-04:00",
          "2025-05-28T09:30:00-04:00",
          "2025-05-28T13:30:00-04:00",
          "2025-05-29T09:30:00-04:00",
          "2025-05-29T13:30:00-04:00",
          "2025-05-30T09:30:00-04:00",
          "2025-05-30T13:30:00-04:00",
          "2025-06-02T09:30:00-04:00",
          "2025-06-02T13:30:00-04:00",
          "2025-06-03T09:30:00-04:00",
          "2025-06-03T13:30:00-04:00",
          "2025-06-04T09:30:00-04:00",
          "2025-06-04T13:30:00-04:00",
          "2025-06-05T09:30:00-04:00",
          "2025-06-05T13:30:00-04:00",
          "2025-06-06T09:30:00-04:00",
          "2025-06-06T13:30:00-04:00",
          "2025-06-09T09:30:00-04:00",
          "2025-06-09T13:30:00-04:00",
          "2025-06-10T09:30:00-04:00",
          "2025-06-10T13:30:00-04:00",
          "2025-06-11T09:30:00-04:00",
          "2025-06-11T13:30:00-04:00",
          "2025-06-12T09:30:00-04:00",
          "2025-06-12T13:30:00-04:00",
          "2025-06-13T09:30:00-04:00",
          "2025-06-13T13:30:00-04:00",
          "2025-06-16T09:30:00-04:00",
          "2025-06-16T13:30:00-04:00",
          "2025-06-17T09:30:00-04:00",
          "2025-06-17T13:30:00-04:00",
          "2025-06-18T09:30:00-04:00",
          "2025-06-18T13:30:00-04:00",
          "2025-06-20T09:30:00-04:00",
          "2025-06-20T13:30:00-04:00",
          "2025-06-23T09:30:00-04:00",
          "2025-06-23T13:30:00-04:00",
          "2025-06-24T09:30:00-04:00",
          "2025-06-24T13:30:00-04:00",
          "2025-06-25T09:30:00-04:00",
          "2025-06-25T13:30:00-04:00",
          "2025-06-26T09:30:00-04:00",
          "2025-06-26T13:30:00-04:00"
         ]
        },
        {
         "line": {
          "color": "blue",
          "width": 2
         },
         "mode": "lines",
         "name": "SMA Short",
         "type": "scatter",
         "x": [
          "2025-02-27T09:30:00-05:00",
          "2025-02-27T13:30:00-05:00",
          "2025-02-28T09:30:00-05:00",
          "2025-02-28T13:30:00-05:00",
          "2025-03-03T09:30:00-05:00",
          "2025-03-03T13:30:00-05:00",
          "2025-03-04T09:30:00-05:00",
          "2025-03-04T13:30:00-05:00",
          "2025-03-05T09:30:00-05:00",
          "2025-03-05T13:30:00-05:00",
          "2025-03-06T09:30:00-05:00",
          "2025-03-06T13:30:00-05:00",
          "2025-03-07T09:30:00-05:00",
          "2025-03-07T13:30:00-05:00",
          "2025-03-10T09:30:00-04:00",
          "2025-03-10T13:30:00-04:00",
          "2025-03-11T09:30:00-04:00",
          "2025-03-11T13:30:00-04:00",
          "2025-03-12T09:30:00-04:00",
          "2025-03-12T13:30:00-04:00",
          "2025-03-13T09:30:00-04:00",
          "2025-03-13T13:30:00-04:00",
          "2025-03-14T09:30:00-04:00",
          "2025-03-14T13:30:00-04:00",
          "2025-03-17T09:30:00-04:00",
          "2025-03-17T13:30:00-04:00",
          "2025-03-18T09:30:00-04:00",
          "2025-03-18T13:30:00-04:00",
          "2025-03-19T09:30:00-04:00",
          "2025-03-19T13:30:00-04:00",
          "2025-03-20T09:30:00-04:00",
          "2025-03-20T13:30:00-04:00",
          "2025-03-21T09:30:00-04:00",
          "2025-03-21T13:30:00-04:00",
          "2025-03-24T09:30:00-04:00",
          "2025-03-24T13:30:00-04:00",
          "2025-03-25T09:30:00-04:00",
          "2025-03-25T13:30:00-04:00",
          "2025-03-26T09:30:00-04:00",
          "2025-03-26T13:30:00-04:00",
          "2025-03-27T09:30:00-04:00",
          "2025-03-27T13:30:00-04:00",
          "2025-03-28T09:30:00-04:00",
          "2025-03-28T13:30:00-04:00",
          "2025-03-31T09:30:00-04:00",
          "2025-03-31T13:30:00-04:00",
          "2025-04-01T09:30:00-04:00",
          "2025-04-01T13:30:00-04:00",
          "2025-04-02T09:30:00-04:00",
          "2025-04-02T13:30:00-04:00",
          "2025-04-03T09:30:00-04:00",
          "2025-04-03T13:30:00-04:00",
          "2025-04-04T09:30:00-04:00",
          "2025-04-04T13:30:00-04:00",
          "2025-04-07T09:30:00-04:00",
          "2025-04-07T13:30:00-04:00",
          "2025-04-08T09:30:00-04:00",
          "2025-04-08T13:30:00-04:00",
          "2025-04-09T09:30:00-04:00",
          "2025-04-09T13:30:00-04:00",
          "2025-04-10T09:30:00-04:00",
          "2025-04-10T13:30:00-04:00",
          "2025-04-11T09:30:00-04:00",
          "2025-04-11T13:30:00-04:00",
          "2025-04-14T09:30:00-04:00",
          "2025-04-14T13:30:00-04:00",
          "2025-04-15T09:30:00-04:00",
          "2025-04-15T13:30:00-04:00",
          "2025-04-16T09:30:00-04:00",
          "2025-04-16T13:30:00-04:00",
          "2025-04-17T09:30:00-04:00",
          "2025-04-17T13:30:00-04:00",
          "2025-04-21T09:30:00-04:00",
          "2025-04-21T13:30:00-04:00",
          "2025-04-22T09:30:00-04:00",
          "2025-04-22T13:30:00-04:00",
          "2025-04-23T09:30:00-04:00",
          "2025-04-23T13:30:00-04:00",
          "2025-04-24T09:30:00-04:00",
          "2025-04-24T13:30:00-04:00",
          "2025-04-25T09:30:00-04:00",
          "2025-04-25T13:30:00-04:00",
          "2025-04-28T09:30:00-04:00",
          "2025-04-28T13:30:00-04:00",
          "2025-04-29T09:30:00-04:00",
          "2025-04-29T13:30:00-04:00",
          "2025-04-30T09:30:00-04:00",
          "2025-04-30T13:30:00-04:00",
          "2025-05-01T09:30:00-04:00",
          "2025-05-01T13:30:00-04:00",
          "2025-05-02T09:30:00-04:00",
          "2025-05-02T13:30:00-04:00",
          "2025-05-05T09:30:00-04:00",
          "2025-05-05T13:30:00-04:00",
          "2025-05-06T09:30:00-04:00",
          "2025-05-06T13:30:00-04:00",
          "2025-05-07T09:30:00-04:00",
          "2025-05-07T13:30:00-04:00",
          "2025-05-08T09:30:00-04:00",
          "2025-05-08T13:30:00-04:00",
          "2025-05-09T09:30:00-04:00",
          "2025-05-09T13:30:00-04:00",
          "2025-05-12T09:30:00-04:00",
          "2025-05-12T13:30:00-04:00",
          "2025-05-13T09:30:00-04:00",
          "2025-05-13T13:30:00-04:00",
          "2025-05-14T09:30:00-04:00",
          "2025-05-14T13:30:00-04:00",
          "2025-05-15T09:30:00-04:00",
          "2025-05-15T13:30:00-04:00",
          "2025-05-16T09:30:00-04:00",
          "2025-05-16T13:30:00-04:00",
          "2025-05-19T09:30:00-04:00",
          "2025-05-19T13:30:00-04:00",
          "2025-05-20T09:30:00-04:00",
          "2025-05-20T13:30:00-04:00",
          "2025-05-21T09:30:00-04:00",
          "2025-05-21T13:30:00-04:00",
          "2025-05-22T09:30:00-04:00",
          "2025-05-22T13:30:00-04:00",
          "2025-05-23T09:30:00-04:00",
          "2025-05-23T13:30:00-04:00",
          "2025-05-27T09:30:00-04:00",
          "2025-05-27T13:30:00-04:00",
          "2025-05-28T09:30:00-04:00",
          "2025-05-28T13:30:00-04:00",
          "2025-05-29T09:30:00-04:00",
          "2025-05-29T13:30:00-04:00",
          "2025-05-30T09:30:00-04:00",
          "2025-05-30T13:30:00-04:00",
          "2025-06-02T09:30:00-04:00",
          "2025-06-02T13:30:00-04:00",
          "2025-06-03T09:30:00-04:00",
          "2025-06-03T13:30:00-04:00",
          "2025-06-04T09:30:00-04:00",
          "2025-06-04T13:30:00-04:00",
          "2025-06-05T09:30:00-04:00",
          "2025-06-05T13:30:00-04:00",
          "2025-06-06T09:30:00-04:00",
          "2025-06-06T13:30:00-04:00",
          "2025-06-09T09:30:00-04:00",
          "2025-06-09T13:30:00-04:00",
          "2025-06-10T09:30:00-04:00",
          "2025-06-10T13:30:00-04:00",
          "2025-06-11T09:30:00-04:00",
          "2025-06-11T13:30:00-04:00",
          "2025-06-12T09:30:00-04:00",
          "2025-06-12T13:30:00-04:00",
          "2025-06-13T09:30:00-04:00",
          "2025-06-13T13:30:00-04:00",
          "2025-06-16T09:30:00-04:00",
          "2025-06-16T13:30:00-04:00",
          "2025-06-17T09:30:00-04:00",
          "2025-06-17T13:30:00-04:00",
          "2025-06-18T09:30:00-04:00",
          "2025-06-18T13:30:00-04:00",
          "2025-06-20T09:30:00-04:00",
          "2025-06-20T13:30:00-04:00",
          "2025-06-23T09:30:00-04:00",
          "2025-06-23T13:30:00-04:00",
          "2025-06-24T09:30:00-04:00",
          "2025-06-24T13:30:00-04:00",
          "2025-06-25T09:30:00-04:00",
          "2025-06-25T13:30:00-04:00",
          "2025-06-26T09:30:00-04:00",
          "2025-06-26T13:30:00-04:00"
         ],
         "y": {
          "bdata": "AAAAAAAA+H8AAAAAAAD4fwAAAAAAAPh/AAAAAAAA+H8AAAAAAAD4fwAAAAAAAPh/AAAAAAAA+H8AAAAAAAD4fwAAAAAAAPh/AAAAAAAA+H8AAAAAAAD4fwAAAAAAAPh/AAAAAAAA+H8AAAAAAAD4fwAAAAAAAPh/AAAAAAAA+H8AAAAAAAD4fwAAAAAAAPh/AAAAAAAA+H8AAAAAAAD4fwAAAAAAAPh/AAAAAAAA+H8AAAAAAAD4fwAAAAAAAPh/AAAAAAAA+H8AAAAAAAD4fwAAAAAAAPh/AAAAAAAA+H8AAAAAAAD4fwAAAAAAAPh/AAAAAAAA+H8AAAAAAAD4fwAAAAAAAPh/AAAAAAAA+H8AAAAAAAD4fwAAAAAAAPh/AAAAAAAA+H8AAAAAAAD4fwAAAAAAAPh/AAAAAAAA+H8AAAAAAAD4fwAAAAAAAPh/AAAAAAAA+H8AAAAAAAD4fwAAAAAAAPh/AAAAAAAA+H8AAAAAAAD4fwAAAAAAAPh/AAAAAAAA+H/D9SiMtjNwQOF6FO5XLHBAw/UoLNEncEA9CtdTYhlwQK5H4RodCHBA9ihcX8rub0AAAABA1s1vQPYoXC9Js29A9ihcXwSTb0BI4XqERoJvQJqZmQmhfW9A9ihcX69yb0B7FK43oGtvQMP1KAw7Ym9Arkfh6opbb0CkcD268WhvQNejcM1SfG9AMzMzA3aOb0CamZnpk51vQD0K19NCm29A9ihcL/SWb0D2KFx/DJlvQClcj8KXmW9AUrgeNeaJb0D2KFzPentvQI/C9Vgre29ACtejsGR7b0DD9Sjc5o1vQGZmZqYZnm9Aw/UozIurb0CkcD3qw7pvQGZmZtZJ3G9A7FG4jmj7b0DD9ShsrAdwQI/C9SBwE3BA4XoU9ugWcEDhehSmQBtwQPYoXAeBG3BApHA90pIZcECamZnByx1wQPYoXLeFIHBA16NwZV4mcEAfhevp2ipwQIXrUfBbMHBArkfh0rQ1cEDD9Sh07ztwQBSuR4kMQXBA7FG49rJBcEBxPQq/KURwQPYoXMdHRXBAw/UopP1FcEBI4XoceE9wQK5H4TIpWXBA16NwdeNxcEC4HoUTQotwQFyPwoUQqnBAuB6F80TKcECuR+EyC+9wQNejcA1RF3FAPQrX4wc3cUBcj8L1qU1xQAAAAHBPbnFAH4XrcXqNcUCF61FIWqxxQKRwPZoSyXFAhetRwNTpcUDXo3A9FAdyQNejcD3pIXJA16NwbaQ7ckAfheuxDVtyQIXrUQDfenJAj8L1yA2cckAK16OoXbtyQEjheoSK53JAhetRYNYSc0BI4Xq8ZTtzQIXrUWBnYXNAw/UoXBGDc0BmZmbehKVzQK5H4TpLw3NASOF61OTec0AAAACgZO9zQGZmZqblAXRA4XoUntgadEBI4XpkmC10QPYoXK/xPHRAXI/C1c5JdEAUrkchl1F0QPYoXE9tUnRAuB6F+4lXdEDhehQ+N1x0QPYoXF/FXXRA7FG4Dp9kdEBcj8LlQnF0QOxRuB73f3RA16NwHUaSdEAfheuxq6J0QOF6FO6UsnRASOF6FFfAdECPwvW4xM50QEjhejS323RAPQrXk77ldEBmZmbGqu90QEjheuTC73RAMzMzMwPvdECPwvXYnux0QDMzM1PV6HRArkfhynHhdEBcj8JFXNl0QOF6FH4y23RAFK5HgRzddEC4HoVLT9t0QMP1KNxT2HRAmpmZOYXTdEDhehR+7s50QK5H4QoZyHRAzczMTFfCdEA=",
          "dtype": "f8"
         }
        },
        {
         "line": {
          "color": "orange",
          "width": 2
         },
         "mode": "lines",
         "name": "SMA Long",
         "type": "scatter",
         "x": [
          "2025-02-27T09:30:00-05:00",
          "2025-02-27T13:30:00-05:00",
          "2025-02-28T09:30:00-05:00",
          "2025-02-28T13:30:00-05:00",
          "2025-03-03T09:30:00-05:00",
          "2025-03-03T13:30:00-05:00",
          "2025-03-04T09:30:00-05:00",
          "2025-03-04T13:30:00-05:00",
          "2025-03-05T09:30:00-05:00",
          "2025-03-05T13:30:00-05:00",
          "2025-03-06T09:30:00-05:00",
          "2025-03-06T13:30:00-05:00",
          "2025-03-07T09:30:00-05:00",
          "2025-03-07T13:30:00-05:00",
          "2025-03-10T09:30:00-04:00",
          "2025-03-10T13:30:00-04:00",
          "2025-03-11T09:30:00-04:00",
          "2025-03-11T13:30:00-04:00",
          "2025-03-12T09:30:00-04:00",
          "2025-03-12T13:30:00-04:00",
          "2025-03-13T09:30:00-04:00",
          "2025-03-13T13:30:00-04:00",
          "2025-03-14T09:30:00-04:00",
          "2025-03-14T13:30:00-04:00",
          "2025-03-17T09:30:00-04:00",
          "2025-03-17T13:30:00-04:00",
          "2025-03-18T09:30:00-04:00",
          "2025-03-18T13:30:00-04:00",
          "2025-03-19T09:30:00-04:00",
          "2025-03-19T13:30:00-04:00",
          "2025-03-20T09:30:00-04:00",
          "2025-03-20T13:30:00-04:00",
          "2025-03-21T09:30:00-04:00",
          "2025-03-21T13:30:00-04:00",
          "2025-03-24T09:30:00-04:00",
          "2025-03-24T13:30:00-04:00",
          "2025-03-25T09:30:00-04:00",
          "2025-03-25T13:30:00-04:00",
          "2025-03-26T09:30:00-04:00",
          "2025-03-26T13:30:00-04:00",
          "2025-03-27T09:30:00-04:00",
          "2025-03-27T13:30:00-04:00",
          "2025-03-28T09:30:00-04:00",
          "2025-03-28T13:30:00-04:00",
          "2025-03-31T09:30:00-04:00",
          "2025-03-31T13:30:00-04:00",
          "2025-04-01T09:30:00-04:00",
          "2025-04-01T13:30:00-04:00",
          "2025-04-02T09:30:00-04:00",
          "2025-04-02T13:30:00-04:00",
          "2025-04-03T09:30:00-04:00",
          "2025-04-03T13:30:00-04:00",
          "2025-04-04T09:30:00-04:00",
          "2025-04-04T13:30:00-04:00",
          "2025-04-07T09:30:00-04:00",
          "2025-04-07T13:30:00-04:00",
          "2025-04-08T09:30:00-04:00",
          "2025-04-08T13:30:00-04:00",
          "2025-04-09T09:30:00-04:00",
          "2025-04-09T13:30:00-04:00",
          "2025-04-10T09:30:00-04:00",
          "2025-04-10T13:30:00-04:00",
          "2025-04-11T09:30:00-04:00",
          "2025-04-11T13:30:00-04:00",
          "2025-04-14T09:30:00-04:00",
          "2025-04-14T13:30:00-04:00",
          "2025-04-15T09:30:00-04:00",
          "2025-04-15T13:30:00-04:00",
          "2025-04-16T09:30:00-04:00",
          "2025-04-16T13:30:00-04:00",
          "2025-04-17T09:30:00-04:00",
          "2025-04-17T13:30:00-04:00",
          "2025-04-21T09:30:00-04:00",
          "2025-04-21T13:30:00-04:00",
          "2025-04-22T09:30:00-04:00",
          "2025-04-22T13:30:00-04:00",
          "2025-04-23T09:30:00-04:00",
          "2025-04-23T13:30:00-04:00",
          "2025-04-24T09:30:00-04:00",
          "2025-04-24T13:30:00-04:00",
          "2025-04-25T09:30:00-04:00",
          "2025-04-25T13:30:00-04:00",
          "2025-04-28T09:30:00-04:00",
          "2025-04-28T13:30:00-04:00",
          "2025-04-29T09:30:00-04:00",
          "2025-04-29T13:30:00-04:00",
          "2025-04-30T09:30:00-04:00",
          "2025-04-30T13:30:00-04:00",
          "2025-05-01T09:30:00-04:00",
          "2025-05-01T13:30:00-04:00",
          "2025-05-02T09:30:00-04:00",
          "2025-05-02T13:30:00-04:00",
          "2025-05-05T09:30:00-04:00",
          "2025-05-05T13:30:00-04:00",
          "2025-05-06T09:30:00-04:00",
          "2025-05-06T13:30:00-04:00",
          "2025-05-07T09:30:00-04:00",
          "2025-05-07T13:30:00-04:00",
          "2025-05-08T09:30:00-04:00",
          "2025-05-08T13:30:00-04:00",
          "2025-05-09T09:30:00-04:00",
          "2025-05-09T13:30:00-04:00",
          "2025-05-12T09:30:00-04:00",
          "2025-05-12T13:30:00-04:00",
          "2025-05-13T09:30:00-04:00",
          "2025-05-13T13:30:00-04:00",
          "2025-05-14T09:30:00-04:00",
          "2025-05-14T13:30:00-04:00",
          "2025-05-15T09:30:00-04:00",
          "2025-05-15T13:30:00-04:00",
          "2025-05-16T09:30:00-04:00",
          "2025-05-16T13:30:00-04:00",
          "2025-05-19T09:30:00-04:00",
          "2025-05-19T13:30:00-04:00",
          "2025-05-20T09:30:00-04:00",
          "2025-05-20T13:30:00-04:00",
          "2025-05-21T09:30:00-04:00",
          "2025-05-21T13:30:00-04:00",
          "2025-05-22T09:30:00-04:00",
          "2025-05-22T13:30:00-04:00",
          "2025-05-23T09:30:00-04:00",
          "2025-05-23T13:30:00-04:00",
          "2025-05-27T09:30:00-04:00",
          "2025-05-27T13:30:00-04:00",
          "2025-05-28T09:30:00-04:00",
          "2025-05-28T13:30:00-04:00",
          "2025-05-29T09:30:00-04:00",
          "2025-05-29T13:30:00-04:00",
          "2025-05-30T09:30:00-04:00",
          "2025-05-30T13:30:00-04:00",
          "2025-06-02T09:30:00-04:00",
          "2025-06-02T13:30:00-04:00",
          "2025-06-03T09:30:00-04:00",
          "2025-06-03T13:30:00-04:00",
          "2025-06-04T09:30:00-04:00",
          "2025-06-04T13:30:00-04:00",
          "2025-06-05T09:30:00-04:00",
          "2025-06-05T13:30:00-04:00",
          "2025-06-06T09:30:00-04:00",
          "2025-06-06T13:30:00-04:00",
          "2025-06-09T09:30:00-04:00",
          "2025-06-09T13:30:00-04:00",
          "2025-06-10T09:30:00-04:00",
          "2025-06-10T13:30:00-04:00",
          "2025-06-11T09:30:00-04:00",
          "2025-06-11T13:30:00-04:00",
          "2025-06-12T09:30:00-04:00",
          "2025-06-12T13:30:00-04:00",
          "2025-06-13T09:30:00-04:00",
          "2025-06-13T13:30:00-04:00",
          "2025-06-16T09:30:00-04:00",
          "2025-06-16T13:30:00-04:00",
          "2025-06-17T09:30:00-04:00",
          "2025-06-17T13:30:00-04:00",
          "2025-06-18T09:30:00-04:00",
          "2025-06-18T13:30:00-04:00",
          "2025-06-20T09:30:00-04:00",
          "2025-06-20T13:30:00-04:00",
          "2025-06-23T09:30:00-04:00",
          "2025-06-23T13:30:00-04:00",
          "2025-06-24T09:30:00-04:00",
          "2025-06-24T13:30:00-04:00",
          "2025-06-25T09:30:00-04:00",
          "2025-06-25T13:30:00-04:00",
          "2025-06-26T09:30:00-04:00",
          "2025-06-26T13:30:00-04:00"
         ],
         "y": {
          "bdata": "AAAAAAAA+H8AAAAAAAD4fwAAAAAAAPh/AAAAAAAA+H8AAAAAAAD4fwAAAAAAAPh/AAAAAAAA+H8AAAAAAAD4fwAAAAAAAPh/AAAAAAAA+H8AAAAAAAD4fwAAAAAAAPh/AAAAAAAA+H8AAAAAAAD4fwAAAAAAAPh/AAAAAAAA+H8AAAAAAAD4fwAAAAAAAPh/AAAAAAAA+H8zMzNDHndwQM3MzBztSnBAzczMBOkpcECamZkxZgtwQAAAAKB40W9AzczMpPmCb0AzMzOjzjdvQJqZmbEu8W5AmpmZGcCmbkBmZmYW0mluQJqZmTEsJG5AZmZm5kj2bUCamZn5y8ptQAAAAHgLs21AmpmZuWudbUDNzMzUmuhtQDMzM+PHQm5AAAAAgEaYbkAAAADwg/RuQDMzM0OQFW9AAAAA4H87b0AzMzNTE3hvQGZmZrYjrG9AmpmZGZ7Eb0BmZmaWO9pvQJqZmWHd9m9AZmZmvpsMcECamZnFrjFwQM3MzCwVVHBAAAAAUHd7cEDNzMygBKFwQDMzM9s5vHBAZmZmXnrVcEAzMzPnANJwQDMzM/suynBAzczMyHypcEAAAAAQXoVwQJqZmclKX3BAzczMQAkqcEDNzMywVhZwQJqZmb1YFnBAMzMz68P/b0CamZnxb95vQGZmZn4Hwm9AMzMz6+6vb0AzMzPT6qVvQGZmZn7cmm9AZmZmrvV4b0CamZnR+2FvQJqZmQHZJm9AAAAAQA7lbkCamZnRwbZuQDMzM5O3jG5AzczMRKBwbkAAAAAgml1uQM3MzBTsYW5AzczMvLJpbkCamZnhuJNuQDMzM0t1wm5AmpmZSf/QbkAzMzNjA71uQAAAABBL/m5AMzMz00Ayb0BmZmb21WNvQDMzMxPBmW9AmpmZUcvUb0AAAAAQHgpwQGZmZk7SHnBAmpmZITg1cEDNzMz8MVNwQDMzM/9ccnBAAAAACKaccEDNzMxwN8FwQDMzMyPV7nBAMzMzVwgZcUAAAAAkTzdxQM3MzDj9VHFAMzMzm41kcUBmZmZ63XhxQDMzMwM8knFAZmZm1ommcUBmZmbWia9xQDMzM6seunFAZmZmforbcUCamZnZu/VxQAAAALBfGXJAmpmZ0eg6ckBmZmY2JHByQM3MzNRkpHJAZmZmBm3VckCamZlZMwdzQAAAAJC8M3NAzczMzMZlc0AzMzOb/5ZzQAAAAOhhyHNAAAAAqLIFdECamZmBgTx0QAAAAIgCbXRAzczMnLCbdEAzMzNL28l0QGZmZoa69nRAAAAAGNcadUAAAADw3jt1QAAAAMhxXnVAAAAA0L+BdUAzMzMTS5x1QGZmZm6vrnVAAAAA2Ou7dUAAAAAwvMR1QGZmZv4nx3VAZmZm3pTJdUAAAACA2sF1QM3MzGwsvHVAmpmZ0SbGdUAzMzMDL8h1QGZmZv4tunVAzczMjPCwdUAAAAAIBZZ1QGZmZlYubnVAzczMtGhKdUCamZmZuSV1QAAAAADxAHVAAAAA8FrodEBmZmYWIsd0QDMzMzPaqXRAZmZmFoCQdEDNzMwEKHh0QAAAAIhWW3RAmpmZAes7dEBmZma+6y50QGZmZsaXHnRAAAAAuGoXdEAzMzN7iwx0QGZmZi7U73NAZmZm3kbZc0AAAACYkNBzQDMzMwt5yHNAZmZm3sbXc0DNzMw8uvVzQM3MzEySHnRAmpmZgXBJdEBmZmZelW10QGZmZs4Kh3RAzczMbKWMdEBmZmZWzI10QJqZmflBjHRAzczMhK6LdEA=",
          "dtype": "f8"
         }
        }
       ],
       "layout": {
        "template": {
         "data": {
          "bar": [
           {
            "error_x": {
             "color": "#2a3f5f"
            },
            "error_y": {
             "color": "#2a3f5f"
            },
            "marker": {
             "line": {
              "color": "#E5ECF6",
              "width": 0.5
             },
             "pattern": {
              "fillmode": "overlay",
              "size": 10,
              "solidity": 0.2
             }
            },
            "type": "bar"
           }
          ],
          "barpolar": [
           {
            "marker": {
             "line": {
              "color": "#E5ECF6",
              "width": 0.5
             },
             "pattern": {
              "fillmode": "overlay",
              "size": 10,
              "solidity": 0.2
             }
            },
            "type": "barpolar"
           }
          ],
          "carpet": [
           {
            "aaxis": {
             "endlinecolor": "#2a3f5f",
             "gridcolor": "white",
             "linecolor": "white",
             "minorgridcolor": "white",
             "startlinecolor": "#2a3f5f"
            },
            "baxis": {
             "endlinecolor": "#2a3f5f",
             "gridcolor": "white",
             "linecolor": "white",
             "minorgridcolor": "white",
             "startlinecolor": "#2a3f5f"
            },
            "type": "carpet"
           }
          ],
          "choropleth": [
           {
            "colorbar": {
             "outlinewidth": 0,
             "ticks": ""
            },
            "type": "choropleth"
           }
          ],
          "contour": [
           {
            "colorbar": {
             "outlinewidth": 0,
             "ticks": ""
            },
            "colorscale": [
             [
              0,
              "#0d0887"
             ],
             [
              0.1111111111111111,
              "#46039f"
             ],
             [
              0.2222222222222222,
              "#7201a8"
             ],
             [
              0.3333333333333333,
              "#9c179e"
             ],
             [
              0.4444444444444444,
              "#bd3786"
             ],
             [
              0.5555555555555556,
              "#d8576b"
             ],
             [
              0.6666666666666666,
              "#ed7953"
             ],
             [
              0.7777777777777778,
              "#fb9f3a"
             ],
             [
              0.8888888888888888,
              "#fdca26"
             ],
             [
              1,
              "#f0f921"
             ]
            ],
            "type": "contour"
           }
          ],
          "contourcarpet": [
           {
            "colorbar": {
             "outlinewidth": 0,
             "ticks": ""
            },
            "type": "contourcarpet"
           }
          ],
          "heatmap": [
           {
            "colorbar": {
             "outlinewidth": 0,
             "ticks": ""
            },
            "colorscale": [
             [
              0,
              "#0d0887"
             ],
             [
              0.1111111111111111,
              "#46039f"
             ],
             [
              0.2222222222222222,
              "#7201a8"
             ],
             [
              0.3333333333333333,
              "#9c179e"
             ],
             [
              0.4444444444444444,
              "#bd3786"
             ],
             [
              0.5555555555555556,
              "#d8576b"
             ],
             [
              0.6666666666666666,
              "#ed7953"
             ],
             [
              0.7777777777777778,
              "#fb9f3a"
             ],
             [
              0.8888888888888888,
              "#fdca26"
             ],
             [
              1,
              "#f0f921"
             ]
            ],
            "type": "heatmap"
           }
          ],
          "histogram": [
           {
            "marker": {
             "pattern": {
              "fillmode": "overlay",
              "size": 10,
              "solidity": 0.2
             }
            },
            "type": "histogram"
           }
          ],
          "histogram2d": [
           {
            "colorbar": {
             "outlinewidth": 0,
             "ticks": ""
            },
            "colorscale": [
             [
              0,
              "#0d0887"
             ],
             [
              0.1111111111111111,
              "#46039f"
             ],
             [
              0.2222222222222222,
              "#7201a8"
             ],
             [
              0.3333333333333333,
              "#9c179e"
             ],
             [
              0.4444444444444444,
              "#bd3786"
             ],
             [
              0.5555555555555556,
              "#d8576b"
             ],
             [
              0.6666666666666666,
              "#ed7953"
             ],
             [
              0.7777777777777778,
              "#fb9f3a"
             ],
             [
              0.8888888888888888,
              "#fdca26"
             ],
             [
              1,
              "#f0f921"
             ]
            ],
            "type": "histogram2d"
           }
          ],
          "histogram2dcontour": [
           {
            "colorbar": {
             "outlinewidth": 0,
             "ticks": ""
            },
            "colorscale": [
             [
              0,
              "#0d0887"
             ],
             [
              0.1111111111111111,
              "#46039f"
             ],
             [
              0.2222222222222222,
              "#7201a8"
             ],
             [
              0.3333333333333333,
              "#9c179e"
             ],
             [
              0.4444444444444444,
              "#bd3786"
             ],
             [
              0.5555555555555556,
              "#d8576b"
             ],
             [
              0.6666666666666666,
              "#ed7953"
             ],
             [
              0.7777777777777778,
              "#fb9f3a"
             ],
             [
              0.8888888888888888,
              "#fdca26"
             ],
             [
              1,
              "#f0f921"
             ]
            ],
            "type": "histogram2dcontour"
           }
          ],
          "mesh3d": [
           {
            "colorbar": {
             "outlinewidth": 0,
             "ticks": ""
            },
            "type": "mesh3d"
           }
          ],
          "parcoords": [
           {
            "line": {
             "colorbar": {
              "outlinewidth": 0,
              "ticks": ""
             }
            },
            "type": "parcoords"
           }
          ],
          "pie": [
           {
            "automargin": true,
            "type": "pie"
           }
          ],
          "scatter": [
           {
            "fillpattern": {
             "fillmode": "overlay",
             "size": 10,
             "solidity": 0.2
            },
            "type": "scatter"
           }
          ],
          "scatter3d": [
           {
            "line": {
             "colorbar": {
              "outlinewidth": 0,
              "ticks": ""
             }
            },
            "marker": {
             "colorbar": {
              "outlinewidth": 0,
              "ticks": ""
             }
            },
            "type": "scatter3d"
           }
          ],
          "scattercarpet": [
           {
            "marker": {
             "colorbar": {
              "outlinewidth": 0,
              "ticks": ""
             }
            },
            "type": "scattercarpet"
           }
          ],
          "scattergeo": [
           {
            "marker": {
             "colorbar": {
              "outlinewidth": 0,
              "ticks": ""
             }
            },
            "type": "scattergeo"
           }
          ],
          "scattergl": [
           {
            "marker": {
             "colorbar": {
              "outlinewidth": 0,
              "ticks": ""
             }
            },
            "type": "scattergl"
           }
          ],
          "scattermap": [
           {
            "marker": {
             "colorbar": {
              "outlinewidth": 0,
              "ticks": ""
             }
            },
            "type": "scattermap"
           }
          ],
          "scattermapbox": [
           {
            "marker": {
             "colorbar": {
              "outlinewidth": 0,
              "ticks": ""
             }
            },
            "type": "scattermapbox"
           }
          ],
          "scatterpolar": [
           {
            "marker": {
             "colorbar": {
              "outlinewidth": 0,
              "ticks": ""
             }
            },
            "type": "scatterpolar"
           }
          ],
          "scatterpolargl": [
           {
            "marker": {
             "colorbar": {
              "outlinewidth": 0,
              "ticks": ""
             }
            },
            "type": "scatterpolargl"
           }
          ],
          "scatterternary": [
           {
            "marker": {
             "colorbar": {
              "outlinewidth": 0,
              "ticks": ""
             }
            },
            "type": "scatterternary"
           }
          ],
          "surface": [
           {
            "colorbar": {
             "outlinewidth": 0,
             "ticks": ""
            },
            "colorscale": [
             [
              0,
              "#0d0887"
             ],
             [
              0.1111111111111111,
              "#46039f"
             ],
             [
              0.2222222222222222,
              "#7201a8"
             ],
             [
              0.3333333333333333,
              "#9c179e"
             ],
             [
              0.4444444444444444,
              "#bd3786"
             ],
             [
              0.5555555555555556,
              "#d8576b"
             ],
             [
              0.6666666666666666,
              "#ed7953"
             ],
             [
              0.7777777777777778,
              "#fb9f3a"
             ],
             [
              0.8888888888888888,
              "#fdca26"
             ],
             [
              1,
              "#f0f921"
             ]
            ],
            "type": "surface"
           }
          ],
          "table": [
           {
            "cells": {
             "fill": {
              "color": "#EBF0F8"
             },
             "line": {
              "color": "white"
             }
            },
            "header": {
             "fill": {
              "color": "#C8D4E3"
             },
             "line": {
              "color": "white"
             }
            },
            "type": "table"
           }
          ]
         },
         "layout": {
          "annotationdefaults": {
           "arrowcolor": "#2a3f5f",
           "arrowhead": 0,
           "arrowwidth": 1
          },
          "autotypenumbers": "strict",
          "coloraxis": {
           "colorbar": {
            "outlinewidth": 0,
            "ticks": ""
           }
          },
          "colorscale": {
           "diverging": [
            [
             0,
             "#8e0152"
            ],
            [
             0.1,
             "#c51b7d"
            ],
            [
             0.2,
             "#de77ae"
            ],
            [
             0.3,
             "#f1b6da"
            ],
            [
             0.4,
             "#fde0ef"
            ],
            [
             0.5,
             "#f7f7f7"
            ],
            [
             0.6,
             "#e6f5d0"
            ],
            [
             0.7,
             "#b8e186"
            ],
            [
             0.8,
             "#7fbc41"
            ],
            [
             0.9,
             "#4d9221"
            ],
            [
             1,
             "#276419"
            ]
           ],
           "sequential": [
            [
             0,
             "#0d0887"
            ],
            [
             0.1111111111111111,
             "#46039f"
            ],
            [
             0.2222222222222222,
             "#7201a8"
            ],
            [
             0.3333333333333333,
             "#9c179e"
            ],
            [
             0.4444444444444444,
             "#bd3786"
            ],
            [
             0.5555555555555556,
             "#d8576b"
            ],
            [
             0.6666666666666666,
             "#ed7953"
            ],
            [
             0.7777777777777778,
             "#fb9f3a"
            ],
            [
             0.8888888888888888,
             "#fdca26"
            ],
            [
             1,
             "#f0f921"
            ]
           ],
           "sequentialminus": [
            [
             0,
             "#0d0887"
            ],
            [
             0.1111111111111111,
             "#46039f"
            ],
            [
             0.2222222222222222,
             "#7201a8"
            ],
            [
             0.3333333333333333,
             "#9c179e"
            ],
            [
             0.4444444444444444,
             "#bd3786"
            ],
            [
             0.5555555555555556,
             "#d8576b"
            ],
            [
             0.6666666666666666,
             "#ed7953"
            ],
            [
             0.7777777777777778,
             "#fb9f3a"
            ],
            [
             0.8888888888888888,
             "#fdca26"
            ],
            [
             1,
             "#f0f921"
            ]
           ]
          },
          "colorway": [
           "#636efa",
           "#EF553B",
           "#00cc96",
           "#ab63fa",
           "#FFA15A",
           "#19d3f3",
           "#FF6692",
           "#B6E880",
           "#FF97FF",
           "#FECB52"
          ],
          "font": {
           "color": "#2a3f5f"
          },
          "geo": {
           "bgcolor": "white",
           "lakecolor": "white",
           "landcolor": "#E5ECF6",
           "showlakes": true,
           "showland": true,
           "subunitcolor": "white"
          },
          "hoverlabel": {
           "align": "left"
          },
          "hovermode": "closest",
          "mapbox": {
           "style": "light"
          },
          "paper_bgcolor": "white",
          "plot_bgcolor": "#E5ECF6",
          "polar": {
           "angularaxis": {
            "gridcolor": "white",
            "linecolor": "white",
            "ticks": ""
           },
           "bgcolor": "#E5ECF6",
           "radialaxis": {
            "gridcolor": "white",
            "linecolor": "white",
            "ticks": ""
           }
          },
          "scene": {
           "xaxis": {
            "backgroundcolor": "#E5ECF6",
            "gridcolor": "white",
            "gridwidth": 2,
            "linecolor": "white",
            "showbackground": true,
            "ticks": "",
            "zerolinecolor": "white"
           },
           "yaxis": {
            "backgroundcolor": "#E5ECF6",
            "gridcolor": "white",
            "gridwidth": 2,
            "linecolor": "white",
            "showbackground": true,
            "ticks": "",
            "zerolinecolor": "white"
           },
           "zaxis": {
            "backgroundcolor": "#E5ECF6",
            "gridcolor": "white",
            "gridwidth": 2,
            "linecolor": "white",
            "showbackground": true,
            "ticks": "",
            "zerolinecolor": "white"
           }
          },
          "shapedefaults": {
           "line": {
            "color": "#2a3f5f"
           }
          },
          "ternary": {
           "aaxis": {
            "gridcolor": "white",
            "linecolor": "white",
            "ticks": ""
           },
           "baxis": {
            "gridcolor": "white",
            "linecolor": "white",
            "ticks": ""
           },
           "bgcolor": "#E5ECF6",
           "caxis": {
            "gridcolor": "white",
            "linecolor": "white",
            "ticks": ""
           }
          },
          "title": {
           "x": 0.05
          },
          "xaxis": {
           "automargin": true,
           "gridcolor": "white",
           "linecolor": "white",
           "ticks": "",
           "title": {
            "standoff": 15
           },
           "zerolinecolor": "white",
           "zerolinewidth": 2
          },
          "yaxis": {
           "automargin": true,
           "gridcolor": "white",
           "linecolor": "white",
           "ticks": "",
           "title": {
            "standoff": 15
           },
           "zerolinecolor": "white",
           "zerolinewidth": 2
          }
         }
        },
        "title": {
         "text": "TSLA Candlestick Chart"
        },
        "xaxis": {
         "rangeslider": {
          "visible": false
         }
        }
       }
      },
      "image/png": "[encoded data removed]"
     },
     "metadata": {},
     "output_type": "display_data"
    }
   ],
   "source": [
    "visualize_interactive(df)"
   ]
  },
  {
   "cell_type": "code",
   "execution_count": 158,
   "id": "33d4d2f8-53d1-496f-a0a4-20b364748eb2",
   "metadata": {},
   "outputs": [],
   "source": [
    "df_with_signals = generate_ma_crossover_signals(df)"
   ]
  },
  {
   "cell_type": "code",
   "execution_count": 159,
   "id": "0132ac9d-19be-495c-aa1d-1ee8dc38b998",
   "metadata": {},
   "outputs": [
    {
     "name": "stdout",
     "output_type": "stream",
     "text": [
      "Buy Signals:\n",
      "                                Close   SMA_short    SMA_long\n",
      "Datetime                                                     \n",
      "2025-04-15 09:30:00-04:00  252.149902  252.451906  251.779990\n",
      "2025-06-11 09:30:00-04:00  330.929993  329.142118  329.031271\n",
      "\n",
      "Sell Signals:\n",
      "                                Close   SMA_short    SMA_long\n",
      "Datetime                                                     \n",
      "2025-04-30 09:30:00-04:00  278.029999  257.719001  257.926344\n"
     ]
    }
   ],
   "source": [
    "print(\"Buy Signals:\")\n",
    "print(df_with_signals[df_with_signals['Signal'] == 1][['Close', 'SMA_short', 'SMA_long']])\n",
    "print(\"\\nSell Signals:\")\n",
    "print(df_with_signals[df_with_signals['Signal'] == -1][['Close', 'SMA_short', 'SMA_long']])"
   ]
  },
  {
   "cell_type": "code",
   "execution_count": 160,
   "id": "4c617f2e-7d08-49a3-9620-cd3ac8ebd1f0",
   "metadata": {},
   "outputs": [
    {
     "data": {
      "application/vnd.plotly.v1+json": {
       "config": {
        "plotlyServerURL": "https://plot.ly"
       },
       "data": [
        {
         "close": {
          "bdata": "AAAAwPU0ckAAAAAgXJ9xQAAAAIDr4XFAAAAAwPVUckAAAADgo9ZxQAAAAOB6zHFAAAAAAC3ycEAAAAAAAABxQAAAAADpBnFAAAAAACl0cUAAAABAM29wQAAAAEDhdnBAAAAAoEdDcEAAAACAFGpwQAAAAKCZYWxAAAAAYI/Ca0AAAACA6/lrQAAAAAAA0GxAAAAAQK1Hb0AAAADA9QhvQAAAAIA9gm1AAAAAgBQWbkAAAAAAZv9uQAAAAEBgP29AAAAAIFyLbUAAAACgmbltQAAAACDbX2xAAAAAIFwvbEAAAADAOUttQAAAACBcd21AAAAAoKRIbUAAAAAAAIhtQAAAACCFq25AAAAAIK4jb0AAAADgoyBxQAAAAEAKZ3FAAAAA4OdTcUAAAABgZgJyQAAAAOBR7nBAAAAAANf/cEAAAABA4R5xQAAAACCuE3FAAAAA4Hp0cEAAAAAA13dwQAAAAAAAyG9AAAAA4FE0cEAAAAAgahVxQAAAACCux3BAAAAAoEe5cUAAAABguKpxQAAAAOB6xHBAAAAAQAq9cEAAAACAiiBuQAAAAEDh6m1AAAAA4G8lbUAAAACgRyltQAAAAMDMtGxAAAAAYI+ya0AAAABAvchuQAAAAAAAAHFAAAAAQDO7bkAAAADAzIxvQAAAAMDMsG5AAAAAgMKFb0AAAAAgrv9uQAAAACCFi29AAAAAAMyEb0AAAAAA18NvQAAAAADX025AAAAAoJkxbkAAAAAg/eptQAAAAKBHMW5AAAAAYLjua0AAAABgZm5sQAAAAADXe21AAAAAwMzEbUAAAACgR/1vQAAAAKBHWW9AAAAAIIXrb0AAAAAAKThwQAAAAGBm6nFAAAAAAADOcUAAAADAOUhxQAAAAGAQ3nFAAAAAgD3OcUAAAACgKkByQAAAAOB6YHFAAAAAAOChcUAAAACgcMFxQAAAAAApiHFAAAAAQDNDckAAAAAAAPRxQAAAACCuh3FAAAAAQDODcUAAAACAcxtxQAAAAAAANHFAAAAAgOs1cUAAAABA4UJxQAAAAEAl8XFAAAAAgD3OcUAAAABgZp5yQAAAAKCgoXJAAAAAQKbkc0AAAACA6+lzQAAAAEAKl3RAAAAAQOHedEAAAADAHol1QAAAAGDstnVAAAAAgBSWdUAAAACAp2t1QAAAAIDrvXVAAAAAwMzcdUAAAABAHmB1QAAAAEDhXnVAAAAAgMLldUAAAAAAKXx1QAAAAAAAAHVAAAAA4HrodEAAAADgeox1QAAAACCuT3VAAAAAwKFwdUAAAACAPTZ1QAAAACAfmHZAAAAAIASsdkAAAACA66l2QAAAAGC4TnZAAAAAANeRdkAAAABAM2d2QAAAAKCAxnVAAAAAACmcdUAAAAAgXCN1QAAAAEAza3VAAAAAIK4ndkAAAAAghYd1QAAAACCuzXRAAAAAIFzDdEAAAACgmeVyQAAAAAC1y3FAAAAAQArBckAAAAAAAHJyQAAAAMD1kHJAAAAAQIRKc0AAAAAgrv9zQAAAAGBmYnRAAAAAQOGudEAAAAAA12d0QAAAAEB5UXRAAAAAwMzyc0AAAABgj8J0QAAAAKCZVXRAAAAAANeTdEAAAACAwpF0QAAAACBc6XNAAAAA4HrEc0AAAACgcB90QAAAACCFIXRAAAAAIK4XdEAAAABguCJ0QAAAAIDr8XVAAAAAIFzLdUAAAAAA12N1QAAAAACxR3VAAAAAgMJvdEAAAACgcHl0QAAAAAASkHRAAAAA4FFcdEA=",
          "dtype": "f8"
         },
         "high": {
          "bdata": "AAAAIK6TckAAAADAMD1yQAAAAAAAUHJAAAAAgMJZckAAAABACv9yQAAAAAApJHJAAAAA4HpkcUAAAACgR8VxQAAAAIBRZHFAAAAA4KN4cUAAAABgZgpxQAAAAIDCqXBAAAAAoP+jcEAAAABgS4RwQAAAAADXq29AAAAAQDObbEAAAABgRIltQAAAAKATom1AAAAAQOF6b0AAAABAM2NvQAAAAKBHCW9AAAAAQDNTbkAAAAAAelRvQAAAAGCPcm9AAAAA4HqgbkAAAACgcA1uQAAAAEAzw2xAAAAAYAl/bEAAAACAPaJtQAAAAMAeLW5AAAAAAADAbUAAAADAzJRtQAAAAAAp3G5AAAAAIK4vb0AAAADgUTxxQAAAAIA9anFAAAAAIFy5cUAAAABAMwNyQAAAAGBmznFAAAAAwP4XcUAAAACgcD1yQAAAAGC4enFAAAAAoJlBcUAAAABgZpZwQAAAAGBmDnBAAAAAwPVIcEAAAABAM1dxQAAAAGCPPnFAAAAAAD3GcUAAAAAA189xQAAAAMDMRHFAAAAAAADocEAAAAAAAFBwQAAAACBcx25AAAAAAACAb0AAAAAA16ttQAAAAIAUTm9AAAAAwGRmbUAAAACgmblvQAAAAEAKK3FAAAAAANdncEAAAADgowhwQAAAAOCjFHBAAAAAgD2Kb0AAAAAAAFhwQAAAAAAAAHBAAAAAAAAscEAAAABgf8dvQAAAAMDMbG9AAAAAoBrXbkAAAABA4YpuQAAAAMAeRW5AAAAAYLgGbUAAAAAA13tsQAAAAKBHWW5AAAAAAADQbUAAAABACjdwQAAAAKCtI3BAAAAAAGQicEAAAADgozhwQAAAAKCZ7XFAAAAAgD3qcUAAAACAwm1yQAAAACCF63FAAAAAwMwUckAAAADgo1RyQAAAAGC4lnFAAAAAQDPHcUAAAACg5i1yQAAAAIBjynFAAAAAANdnckAAAADgemxyQAAAAMDMzHFAAAAAAD22cUAAAAAgrltxQAAAAOBaS3FAAAAAYLhecUAAAAAAAFRxQAAAAMDMHHJAAAAA4KMcckAAAADgozBzQAAAAKBH0XJAAAAAQDMjdEAAAABAaf1zQAAAAADXl3RAAAAAIG4ZdUAAAAAAAOB1QAAAAAAA4HVAAAAAoDqidUAAAAAgrpd1QAAAAIDr+XVAAAAAQOHedUAAAAAAAHB1QAAAAOBRbHVAAAAAQCwpdkAAAADAry92QAAAAKCZtXVAAAAAQK1DdUAAAABgZpJ1QAAAAOBRtHVAAAAAQOFydUAAAABAcHF1QAAAAAAAsHZAAAAA4KO8dkAAAAAAANB2QAAAAADXv3ZAAAAAIFz7dkAAAABgj6Z2QAAAAEDhunZAAAAAQOEGdkAAAAAAKcB1QAAAAMD1cHVAAAAAYGY2dkAAAADAjSh2QAAAAKCZmXVAAAAAgOv5dEAAAABgzEh0QAAAAAAAEHNAAAAAAAAYc0AAAAAAAOByQAAAAKCZnXJAAAAAoEddc0AAAAAghRN0QAAAAKBHfXRAAAAAAAD4dEAAAACgR7F0QAAAAMDMyHRAAAAA4FFcdEAAAAAghc90QAAAACCuz3RAAAAAwMzAdEAAAAAg26p0QAAAAAApdHRAAAAAQAoLdEAAAADAzJR0QAAAAEAzU3RAAAAAgMLFdEAAAABgZkp0QAAAACCFV3ZAAAAAoJktdkAAAACAKER2QAAAACBce3VAAAAAgMJtdUAAAACAPYZ0QAAAAMDMsHRAAAAAgBSSdEA=",
          "dtype": "f8"
         },
         "low": {
          "bdata": "AAAAgBSOcUAAAADgUZRxQAAAAKCZGXFAAAAAwPWscUAAAADgetBxQAAAAMDMVHFAAAAAAHFdcEAAAACA6+FwQAAAACBcu3BAAAAAQDPzcEAAAADgUVxwQAAAAOBRQHBAAAAAIFxXb0AAAAAgXCdwQAAAAEDhMmxAAAAAgBSGa0AAAADA9UBrQAAAAGCP8mtAAAAAQDMjbkAAAAAAALhuQAAAAMD1MG1AAAAAYGZubUAAAAAgrhduQAAAAKBw7W5AAAAAYJoZbUAAAACASHltQAAAAMD1yGtAAAAAgJ7pa0AAAACgbqZsQAAAAIA9Am1AAAAAYJrBbEAAAADgevxsQAAAAAAAUm1AAAAA4KOQbkAAAACgRwVwQAAAAMD1FHFAAAAA4Hr0cEAAAABgZlJxQAAAAGBm2nBAAAAAACmocEAAAABAJf1wQAAAAMD1AHFAAAAA4KNMcEAAAACgR0lwQAAAAACGa25AAAAAoNiTb0AAAAAAADRwQAAAAKBwsXBAAAAA4KNob0AAAAAgXMdwQAAAAOBRWHBAAAAAgMKNcEAAAAAAAIBtQAAAAKBwzW1AAAAAAADIakAAAADgAHhsQAAAAGBmhmxAAAAAoJk5a0AAAADgevxrQAAAAKCZEW1AAAAAYI/qbUAAAACgpKBuQAAAAOCcK25AAAAAgOuhbkAAAACAwr1uQAAAAGBm5m5AAAAAoJnxbkAAAABA4VpvQAAAAGBmpm5AAAAA4Ho8bUAAAACg3bVtQAAAAAAA2G1AAAAA4Irla0AAAACgmdlrQAAAAAA0u2xAAAAAgM5ObUAAAACAwo1uQAAAAEDhSm9AAAAAYGYmb0AAAABAPtJvQAAAAIAUOnBAAAAAwMyQcUAAAABguAZxQAAAAIA9NnFAAAAAIIN3cUAAAABgZsJxQAAAAOCj7HBAAAAAIK5bcUAAAAAgrn9xQAAAAMD1fHFAAAAAwPV8cUAAAADgUdxxQAAAAGBmJnFAAAAAwPV0cUAAAACAwvVwQAAAAAAADHFAAAAA4BQCcUAAAAAAKfBwQAAAAGCPdnFAAAAAgMLJcUAAAADAnyByQAAAAAApiHJAAAAAAAB4c0AAAACAPcJzQAAAAMDMzHNAAAAAYLiKdEAAAAAAABB1QAAAACD2dHVAAAAA4HHrdEAAAACgmTl1QAAAAKBHZXVAAAAAgMKtdUAAAACAFNZ0QAAAAOB67HRAAAAAQOFtdUAAAACAFFp1QAAAAOCj+HRAAAAAQDPDdEAAAACAPbZ0QAAAAGBmSnVAAAAAIFzTdEAAAADgUTB1QAAAAMAetXVAAAAAwMxcdkAAAACAPWp2QAAAAGCPPnZAAAAAoAp3dkAAAAAAAEB2QAAAAOCjlHVAAAAAQDOXdUAAAACgR9V0QAAAAIDrHXVAAAAAAJp9dUAAAADgo3B1QAAAAABLdXRAAAAAQDO/dEAAAAAAANhyQAAAACBcE3FAAAAAoDMzckAAAACAPVJyQAAAAKCZnXFAAAAAgD2OckAAAAAArGpzQAAAAOCj4HNAAAAA4HpgdEAAAADgUSx0QAAAAOBRLHRAAAAAgBTOc0AAAADAzJRzQAAAAAAANHRAAAAAYI9mdEAAAAAgXHN0QAAAAKBw1XNAAAAAAACsc0AAAABAM7dzQAAAAKBwAXRAAAAA4Hrcc0AAAADgFPpzQAAAAAAAeHRAAAAAQAqndUAAAABACkd1QAAAACCuR3VAAAAAYGYGdEAAAACgmSl0QAAAAIDCOXRAAAAAAABMdEA=",
          "dtype": "f8"
         },
         "name": "TSLA",
         "open": {
          "bdata": "AAAAAAAwckAAAACgRzVyQAAAACBcd3FAAAAAwPXgcUAAAABA4cVyQAAAAKAj2HFAAAAAwMzscEAAAABguPFwQAAAACBcD3FAAAAAAAAGcUAAAAAAAABxQAAAAAAAcHBAAAAAYGY0cEAAAADgUURwQAAAAEAzk29AAAAA4B1lbEAAAACgpChsQAAAAAAA+GtAAAAA4KPobkAAAAAA10NvQAAAAAAABG9AAAAAoEeBbUAAAACA6+luQAAAACCu/25AAAAAQAqfbkAAAADgYYttQAAAAIAUhmxAAAAAYI9ebEAAAAAghfNsQAAAAGC4Sm1AAAAAQAorbUAAAABAM0ttQAAAACCFX21AAAAAANerbkAAAABAMyFwQAAAAKBwIXFAAAAAAAC4cUAAAAAAKVRxQAAAAAApqnFAAAAA4FHucEAAAAAgrgdxQAAAACBcH3FAAAAAAAA4cUAAAADgo3RwQAAAAKBwJW9AAAAAoJnJb0AAAACAwntwQAAAAMDMFHFAAAAAQDPTb0AAAAAgXLlxQAAAAADXk3BAAAAAgD3EcEAAAAAA1+tvQAAAAGC4Hm5AAAAAwPX4a0AAAACgcCFtQAAAAKCZoW5AAAAAgD2ybEAAAAAAABJsQAAAAMDMzG5AAAAA4HpAcEAAAADAzLhuQAAAAEDhem9AAAAAIPSwbkAAAABAMyVwQAAAAEAK/25AAAAAIIU7b0AAAABgj4JvQAAAAIAU9m5AAAAAoHDVbkAAAADgo2xuQAAAAMDM7G1AAAAA4KPIbEAAAABgZu5rQAAAAGC43mxAAAAAIK57bUAAAAAghdtvQAAAACCu/29AAAAAQDNTb0AAAAAghetvQAAAAEAKW3BAAAAAgD3qcUAAAAAghQ9yQAAAAEDhSHFAAAAA4KPXcUAAAABgj85xQAAAAIDrfXFAAAAAANdfcUAAAACgR4FxQAAAAIDrwXFAAAAAACnQcUAAAABguEJyQAAAAMAeyXFAAAAA4KOIcUAAAACgcBFxQAAAACCFG3FAAAAAQApNcUAAAADA7DVxQAAAAIAUenFAAAAAgMLxcUAAAADA9SJyQAAAACBcn3JAAAAAwPUedEAAAAAgXOVzQAAAAKBH/3NAAAAAgD2WdEAAAAAgXGd1QAAAACCFiXVAAAAAIIVFdUAAAABACpd1QAAAAEAKoXVAAAAAYLi+dUAAAABgDhd1QAAAAAAAYHVAAAAAQAq/dUAAAACgcOV1QAAAAEDhhnVAAAAAIGwAdUAAAABACr90QAAAAAApjHVAAAAAgD0YdUAAAADgenB1QAAAAKCZtXVAAAAAANeXdkAAAACgcM12QAAAAKBHqXZAAAAA4KPUdkAAAAAAZpJ2QAAAAKBHOXZAAAAAAADGdUAAAACAPXp1QAAAAIDrI3VAAAAAIIWpdUAAAADA/Cd2QAAAACCFkXVAAAAAgOvNdEAAAAAA1yd0QAAAAIDC5XJAAAAAIFytckAAAABgB8FyQAAAAGC43nFAAAAAoHCRckAAAADAHrFzQAAAAIAUAHRAAAAAQOHgdEAAAABguK50QAAAAEAzMXRAAAAAIFxRdEAAAAAAAKBzQAAAAGAww3RAAAAAQOGydEAAAADgo5J0QAAAAOBRYHRAAAAA4Hroc0AAAADAzNRzQAAAAOCjIHRAAAAAwPV8dEAAAADgsxd0QAAAAIA9eHRAAAAAwB7zdUAAAABgj0J2QAAAACBcY3VAAAAA4KNcdUAAAABgZnB0QAAAAIDCSXRAAAAAACmQdEA=",
          "dtype": "f8"
         },
         "type": "candlestick",
         "x": [
          "2025-02-27T09:30:00-05:00",
          "2025-02-27T13:30:00-05:00",
          "2025-02-28T09:30:00-05:00",
          "2025-02-28T13:30:00-05:00",
          "2025-03-03T09:30:00-05:00",
          "2025-03-03T13:30:00-05:00",
          "2025-03-04T09:30:00-05:00",
          "2025-03-04T13:30:00-05:00",
          "2025-03-05T09:30:00-05:00",
          "2025-03-05T13:30:00-05:00",
          "2025-03-06T09:30:00-05:00",
          "2025-03-06T13:30:00-05:00",
          "2025-03-07T09:30:00-05:00",
          "2025-03-07T13:30:00-05:00",
          "2025-03-10T09:30:00-04:00",
          "2025-03-10T13:30:00-04:00",
          "2025-03-11T09:30:00-04:00",
          "2025-03-11T13:30:00-04:00",
          "2025-03-12T09:30:00-04:00",
          "2025-03-12T13:30:00-04:00",
          "2025-03-13T09:30:00-04:00",
          "2025-03-13T13:30:00-04:00",
          "2025-03-14T09:30:00-04:00",
          "2025-03-14T13:30:00-04:00",
          "2025-03-17T09:30:00-04:00",
          "2025-03-17T13:30:00-04:00",
          "2025-03-18T09:30:00-04:00",
          "2025-03-18T13:30:00-04:00",
          "2025-03-19T09:30:00-04:00",
          "2025-03-19T13:30:00-04:00",
          "2025-03-20T09:30:00-04:00",
          "2025-03-20T13:30:00-04:00",
          "2025-03-21T09:30:00-04:00",
          "2025-03-21T13:30:00-04:00",
          "2025-03-24T09:30:00-04:00",
          "2025-03-24T13:30:00-04:00",
          "2025-03-25T09:30:00-04:00",
          "2025-03-25T13:30:00-04:00",
          "2025-03-26T09:30:00-04:00",
          "2025-03-26T13:30:00-04:00",
          "2025-03-27T09:30:00-04:00",
          "2025-03-27T13:30:00-04:00",
          "2025-03-28T09:30:00-04:00",
          "2025-03-28T13:30:00-04:00",
          "2025-03-31T09:30:00-04:00",
          "2025-03-31T13:30:00-04:00",
          "2025-04-01T09:30:00-04:00",
          "2025-04-01T13:30:00-04:00",
          "2025-04-02T09:30:00-04:00",
          "2025-04-02T13:30:00-04:00",
          "2025-04-03T09:30:00-04:00",
          "2025-04-03T13:30:00-04:00",
          "2025-04-04T09:30:00-04:00",
          "2025-04-04T13:30:00-04:00",
          "2025-04-07T09:30:00-04:00",
          "2025-04-07T13:30:00-04:00",
          "2025-04-08T09:30:00-04:00",
          "2025-04-08T13:30:00-04:00",
          "2025-04-09T09:30:00-04:00",
          "2025-04-09T13:30:00-04:00",
          "2025-04-10T09:30:00-04:00",
          "2025-04-10T13:30:00-04:00",
          "2025-04-11T09:30:00-04:00",
          "2025-04-11T13:30:00-04:00",
          "2025-04-14T09:30:00-04:00",
          "2025-04-14T13:30:00-04:00",
          "2025-04-15T09:30:00-04:00",
          "2025-04-15T13:30:00-04:00",
          "2025-04-16T09:30:00-04:00",
          "2025-04-16T13:30:00-04:00",
          "2025-04-17T09:30:00-04:00",
          "2025-04-17T13:30:00-04:00",
          "2025-04-21T09:30:00-04:00",
          "2025-04-21T13:30:00-04:00",
          "2025-04-22T09:30:00-04:00",
          "2025-04-22T13:30:00-04:00",
          "2025-04-23T09:30:00-04:00",
          "2025-04-23T13:30:00-04:00",
          "2025-04-24T09:30:00-04:00",
          "2025-04-24T13:30:00-04:00",
          "2025-04-25T09:30:00-04:00",
          "2025-04-25T13:30:00-04:00",
          "2025-04-28T09:30:00-04:00",
          "2025-04-28T13:30:00-04:00",
          "2025-04-29T09:30:00-04:00",
          "2025-04-29T13:30:00-04:00",
          "2025-04-30T09:30:00-04:00",
          "2025-04-30T13:30:00-04:00",
          "2025-05-01T09:30:00-04:00",
          "2025-05-01T13:30:00-04:00",
          "2025-05-02T09:30:00-04:00",
          "2025-05-02T13:30:00-04:00",
          "2025-05-05T09:30:00-04:00",
          "2025-05-05T13:30:00-04:00",
          "2025-05-06T09:30:00-04:00",
          "2025-05-06T13:30:00-04:00",
          "2025-05-07T09:30:00-04:00",
          "2025-05-07T13:30:00-04:00",
          "2025-05-08T09:30:00-04:00",
          "2025-05-08T13:30:00-04:00",
          "2025-05-09T09:30:00-04:00",
          "2025-05-09T13:30:00-04:00",
          "2025-05-12T09:30:00-04:00",
          "2025-05-12T13:30:00-04:00",
          "2025-05-13T09:30:00-04:00",
          "2025-05-13T13:30:00-04:00",
          "2025-05-14T09:30:00-04:00",
          "2025-05-14T13:30:00-04:00",
          "2025-05-15T09:30:00-04:00",
          "2025-05-15T13:30:00-04:00",
          "2025-05-16T09:30:00-04:00",
          "2025-05-16T13:30:00-04:00",
          "2025-05-19T09:30:00-04:00",
          "2025-05-19T13:30:00-04:00",
          "2025-05-20T09:30:00-04:00",
          "2025-05-20T13:30:00-04:00",
          "2025-05-21T09:30:00-04:00",
          "2025-05-21T13:30:00-04:00",
          "2025-05-22T09:30:00-04:00",
          "2025-05-22T13:30:00-04:00",
          "2025-05-23T09:30:00-04:00",
          "2025-05-23T13:30:00-04:00",
          "2025-05-27T09:30:00-04:00",
          "2025-05-27T13:30:00-04:00",
          "2025-05-28T09:30:00-04:00",
          "2025-05-28T13:30:00-04:00",
          "2025-05-29T09:30:00-04:00",
          "2025-05-29T13:30:00-04:00",
          "2025-05-30T09:30:00-04:00",
          "2025-05-30T13:30:00-04:00",
          "2025-06-02T09:30:00-04:00",
          "2025-06-02T13:30:00-04:00",
          "2025-06-03T09:30:00-04:00",
          "2025-06-03T13:30:00-04:00",
          "2025-06-04T09:30:00-04:00",
          "2025-06-04T13:30:00-04:00",
          "2025-06-05T09:30:00-04:00",
          "2025-06-05T13:30:00-04:00",
          "2025-06-06T09:30:00-04:00",
          "2025-06-06T13:30:00-04:00",
          "2025-06-09T09:30:00-04:00",
          "2025-06-09T13:30:00-04:00",
          "2025-06-10T09:30:00-04:00",
          "2025-06-10T13:30:00-04:00",
          "2025-06-11T09:30:00-04:00",
          "2025-06-11T13:30:00-04:00",
          "2025-06-12T09:30:00-04:00",
          "2025-06-12T13:30:00-04:00",
          "2025-06-13T09:30:00-04:00",
          "2025-06-13T13:30:00-04:00",
          "2025-06-16T09:30:00-04:00",
          "2025-06-16T13:30:00-04:00",
          "2025-06-17T09:30:00-04:00",
          "2025-06-17T13:30:00-04:00",
          "2025-06-18T09:30:00-04:00",
          "2025-06-18T13:30:00-04:00",
          "2025-06-20T09:30:00-04:00",
          "2025-06-20T13:30:00-04:00",
          "2025-06-23T09:30:00-04:00",
          "2025-06-23T13:30:00-04:00",
          "2025-06-24T09:30:00-04:00",
          "2025-06-24T13:30:00-04:00",
          "2025-06-25T09:30:00-04:00",
          "2025-06-25T13:30:00-04:00",
          "2025-06-26T09:30:00-04:00",
          "2025-06-26T13:30:00-04:00"
         ]
        },
        {
         "line": {
          "color": "blue",
          "width": 2
         },
         "mode": "lines",
         "name": "SMA Short",
         "type": "scatter",
         "x": [
          "2025-02-27T09:30:00-05:00",
          "2025-02-27T13:30:00-05:00",
          "2025-02-28T09:30:00-05:00",
          "2025-02-28T13:30:00-05:00",
          "2025-03-03T09:30:00-05:00",
          "2025-03-03T13:30:00-05:00",
          "2025-03-04T09:30:00-05:00",
          "2025-03-04T13:30:00-05:00",
          "2025-03-05T09:30:00-05:00",
          "2025-03-05T13:30:00-05:00",
          "2025-03-06T09:30:00-05:00",
          "2025-03-06T13:30:00-05:00",
          "2025-03-07T09:30:00-05:00",
          "2025-03-07T13:30:00-05:00",
          "2025-03-10T09:30:00-04:00",
          "2025-03-10T13:30:00-04:00",
          "2025-03-11T09:30:00-04:00",
          "2025-03-11T13:30:00-04:00",
          "2025-03-12T09:30:00-04:00",
          "2025-03-12T13:30:00-04:00",
          "2025-03-13T09:30:00-04:00",
          "2025-03-13T13:30:00-04:00",
          "2025-03-14T09:30:00-04:00",
          "2025-03-14T13:30:00-04:00",
          "2025-03-17T09:30:00-04:00",
          "2025-03-17T13:30:00-04:00",
          "2025-03-18T09:30:00-04:00",
          "2025-03-18T13:30:00-04:00",
          "2025-03-19T09:30:00-04:00",
          "2025-03-19T13:30:00-04:00",
          "2025-03-20T09:30:00-04:00",
          "2025-03-20T13:30:00-04:00",
          "2025-03-21T09:30:00-04:00",
          "2025-03-21T13:30:00-04:00",
          "2025-03-24T09:30:00-04:00",
          "2025-03-24T13:30:00-04:00",
          "2025-03-25T09:30:00-04:00",
          "2025-03-25T13:30:00-04:00",
          "2025-03-26T09:30:00-04:00",
          "2025-03-26T13:30:00-04:00",
          "2025-03-27T09:30:00-04:00",
          "2025-03-27T13:30:00-04:00",
          "2025-03-28T09:30:00-04:00",
          "2025-03-28T13:30:00-04:00",
          "2025-03-31T09:30:00-04:00",
          "2025-03-31T13:30:00-04:00",
          "2025-04-01T09:30:00-04:00",
          "2025-04-01T13:30:00-04:00",
          "2025-04-02T09:30:00-04:00",
          "2025-04-02T13:30:00-04:00",
          "2025-04-03T09:30:00-04:00",
          "2025-04-03T13:30:00-04:00",
          "2025-04-04T09:30:00-04:00",
          "2025-04-04T13:30:00-04:00",
          "2025-04-07T09:30:00-04:00",
          "2025-04-07T13:30:00-04:00",
          "2025-04-08T09:30:00-04:00",
          "2025-04-08T13:30:00-04:00",
          "2025-04-09T09:30:00-04:00",
          "2025-04-09T13:30:00-04:00",
          "2025-04-10T09:30:00-04:00",
          "2025-04-10T13:30:00-04:00",
          "2025-04-11T09:30:00-04:00",
          "2025-04-11T13:30:00-04:00",
          "2025-04-14T09:30:00-04:00",
          "2025-04-14T13:30:00-04:00",
          "2025-04-15T09:30:00-04:00",
          "2025-04-15T13:30:00-04:00",
          "2025-04-16T09:30:00-04:00",
          "2025-04-16T13:30:00-04:00",
          "2025-04-17T09:30:00-04:00",
          "2025-04-17T13:30:00-04:00",
          "2025-04-21T09:30:00-04:00",
          "2025-04-21T13:30:00-04:00",
          "2025-04-22T09:30:00-04:00",
          "2025-04-22T13:30:00-04:00",
          "2025-04-23T09:30:00-04:00",
          "2025-04-23T13:30:00-04:00",
          "2025-04-24T09:30:00-04:00",
          "2025-04-24T13:30:00-04:00",
          "2025-04-25T09:30:00-04:00",
          "2025-04-25T13:30:00-04:00",
          "2025-04-28T09:30:00-04:00",
          "2025-04-28T13:30:00-04:00",
          "2025-04-29T09:30:00-04:00",
          "2025-04-29T13:30:00-04:00",
          "2025-04-30T09:30:00-04:00",
          "2025-04-30T13:30:00-04:00",
          "2025-05-01T09:30:00-04:00",
          "2025-05-01T13:30:00-04:00",
          "2025-05-02T09:30:00-04:00",
          "2025-05-02T13:30:00-04:00",
          "2025-05-05T09:30:00-04:00",
          "2025-05-05T13:30:00-04:00",
          "2025-05-06T09:30:00-04:00",
          "2025-05-06T13:30:00-04:00",
          "2025-05-07T09:30:00-04:00",
          "2025-05-07T13:30:00-04:00",
          "2025-05-08T09:30:00-04:00",
          "2025-05-08T13:30:00-04:00",
          "2025-05-09T09:30:00-04:00",
          "2025-05-09T13:30:00-04:00",
          "2025-05-12T09:30:00-04:00",
          "2025-05-12T13:30:00-04:00",
          "2025-05-13T09:30:00-04:00",
          "2025-05-13T13:30:00-04:00",
          "2025-05-14T09:30:00-04:00",
          "2025-05-14T13:30:00-04:00",
          "2025-05-15T09:30:00-04:00",
          "2025-05-15T13:30:00-04:00",
          "2025-05-16T09:30:00-04:00",
          "2025-05-16T13:30:00-04:00",
          "2025-05-19T09:30:00-04:00",
          "2025-05-19T13:30:00-04:00",
          "2025-05-20T09:30:00-04:00",
          "2025-05-20T13:30:00-04:00",
          "2025-05-21T09:30:00-04:00",
          "2025-05-21T13:30:00-04:00",
          "2025-05-22T09:30:00-04:00",
          "2025-05-22T13:30:00-04:00",
          "2025-05-23T09:30:00-04:00",
          "2025-05-23T13:30:00-04:00",
          "2025-05-27T09:30:00-04:00",
          "2025-05-27T13:30:00-04:00",
          "2025-05-28T09:30:00-04:00",
          "2025-05-28T13:30:00-04:00",
          "2025-05-29T09:30:00-04:00",
          "2025-05-29T13:30:00-04:00",
          "2025-05-30T09:30:00-04:00",
          "2025-05-30T13:30:00-04:00",
          "2025-06-02T09:30:00-04:00",
          "2025-06-02T13:30:00-04:00",
          "2025-06-03T09:30:00-04:00",
          "2025-06-03T13:30:00-04:00",
          "2025-06-04T09:30:00-04:00",
          "2025-06-04T13:30:00-04:00",
          "2025-06-05T09:30:00-04:00",
          "2025-06-05T13:30:00-04:00",
          "2025-06-06T09:30:00-04:00",
          "2025-06-06T13:30:00-04:00",
          "2025-06-09T09:30:00-04:00",
          "2025-06-09T13:30:00-04:00",
          "2025-06-10T09:30:00-04:00",
          "2025-06-10T13:30:00-04:00",
          "2025-06-11T09:30:00-04:00",
          "2025-06-11T13:30:00-04:00",
          "2025-06-12T09:30:00-04:00",
          "2025-06-12T13:30:00-04:00",
          "2025-06-13T09:30:00-04:00",
          "2025-06-13T13:30:00-04:00",
          "2025-06-16T09:30:00-04:00",
          "2025-06-16T13:30:00-04:00",
          "2025-06-17T09:30:00-04:00",
          "2025-06-17T13:30:00-04:00",
          "2025-06-18T09:30:00-04:00",
          "2025-06-18T13:30:00-04:00",
          "2025-06-20T09:30:00-04:00",
          "2025-06-20T13:30:00-04:00",
          "2025-06-23T09:30:00-04:00",
          "2025-06-23T13:30:00-04:00",
          "2025-06-24T09:30:00-04:00",
          "2025-06-24T13:30:00-04:00",
          "2025-06-25T09:30:00-04:00",
          "2025-06-25T13:30:00-04:00",
          "2025-06-26T09:30:00-04:00",
          "2025-06-26T13:30:00-04:00"
         ],
         "y": {
          "bdata": "AAAAAAAA+H8AAAAAAAD4fwAAAAAAAPh/AAAAAAAA+H8AAAAAAAD4fwAAAAAAAPh/AAAAAAAA+H8AAAAAAAD4fwAAAAAAAPh/AAAAAAAA+H8AAAAAAAD4fwAAAAAAAPh/AAAAAAAA+H8AAAAAAAD4fwAAAAAAAPh/AAAAAAAA+H8AAAAAAAD4fwAAAAAAAPh/AAAAAAAA+H8AAAAAAAD4fwAAAAAAAPh/AAAAAAAA+H8AAAAAAAD4fwAAAAAAAPh/AAAAAAAA+H8AAAAAAAD4fwAAAAAAAPh/AAAAAAAA+H8AAAAAAAD4fwAAAAAAAPh/AAAAAAAA+H8AAAAAAAD4fwAAAAAAAPh/AAAAAAAA+H8AAAAAAAD4fwAAAAAAAPh/AAAAAAAA+H8AAAAAAAD4fwAAAAAAAPh/AAAAAAAA+H8AAAAAAAD4fwAAAAAAAPh/AAAAAAAA+H8AAAAAAAD4fwAAAAAAAPh/AAAAAAAA+H8AAAAAAAD4fwAAAAAAAPh/AAAAAAAA+H/D9SiMtjNwQOF6FO5XLHBAw/UoLNEncEA9CtdTYhlwQK5H4RodCHBA9ihcX8rub0AAAABA1s1vQPYoXC9Js29A9ihcXwSTb0BI4XqERoJvQJqZmQmhfW9A9ihcX69yb0B7FK43oGtvQMP1KAw7Ym9Arkfh6opbb0CkcD268WhvQNejcM1SfG9AMzMzA3aOb0CamZnpk51vQD0K19NCm29A9ihcL/SWb0D2KFx/DJlvQClcj8KXmW9AUrgeNeaJb0D2KFzPentvQI/C9Vgre29ACtejsGR7b0DD9Sjc5o1vQGZmZqYZnm9Aw/UozIurb0CkcD3qw7pvQGZmZtZJ3G9A7FG4jmj7b0DD9ShsrAdwQI/C9SBwE3BA4XoU9ugWcEDhehSmQBtwQPYoXAeBG3BApHA90pIZcECamZnByx1wQPYoXLeFIHBA16NwZV4mcEAfhevp2ipwQIXrUfBbMHBArkfh0rQ1cEDD9Sh07ztwQBSuR4kMQXBA7FG49rJBcEBxPQq/KURwQPYoXMdHRXBAw/UopP1FcEBI4XoceE9wQK5H4TIpWXBA16NwdeNxcEC4HoUTQotwQFyPwoUQqnBAuB6F80TKcECuR+EyC+9wQNejcA1RF3FAPQrX4wc3cUBcj8L1qU1xQAAAAHBPbnFAH4XrcXqNcUCF61FIWqxxQKRwPZoSyXFAhetRwNTpcUDXo3A9FAdyQNejcD3pIXJA16NwbaQ7ckAfheuxDVtyQIXrUQDfenJAj8L1yA2cckAK16OoXbtyQEjheoSK53JAhetRYNYSc0BI4Xq8ZTtzQIXrUWBnYXNAw/UoXBGDc0BmZmbehKVzQK5H4TpLw3NASOF61OTec0AAAACgZO9zQGZmZqblAXRA4XoUntgadEBI4XpkmC10QPYoXK/xPHRAXI/C1c5JdEAUrkchl1F0QPYoXE9tUnRAuB6F+4lXdEDhehQ+N1x0QPYoXF/FXXRA7FG4Dp9kdEBcj8LlQnF0QOxRuB73f3RA16NwHUaSdEAfheuxq6J0QOF6FO6UsnRASOF6FFfAdECPwvW4xM50QEjhejS323RAPQrXk77ldEBmZmbGqu90QEjheuTC73RAMzMzMwPvdECPwvXYnux0QDMzM1PV6HRArkfhynHhdEBcj8JFXNl0QOF6FH4y23RAFK5HgRzddEC4HoVLT9t0QMP1KNxT2HRAmpmZOYXTdEDhehR+7s50QK5H4QoZyHRAzczMTFfCdEA=",
          "dtype": "f8"
         }
        },
        {
         "line": {
          "color": "red",
          "width": 2
         },
         "mode": "lines",
         "name": "SMA Long",
         "type": "scatter",
         "x": [
          "2025-02-27T09:30:00-05:00",
          "2025-02-27T13:30:00-05:00",
          "2025-02-28T09:30:00-05:00",
          "2025-02-28T13:30:00-05:00",
          "2025-03-03T09:30:00-05:00",
          "2025-03-03T13:30:00-05:00",
          "2025-03-04T09:30:00-05:00",
          "2025-03-04T13:30:00-05:00",
          "2025-03-05T09:30:00-05:00",
          "2025-03-05T13:30:00-05:00",
          "2025-03-06T09:30:00-05:00",
          "2025-03-06T13:30:00-05:00",
          "2025-03-07T09:30:00-05:00",
          "2025-03-07T13:30:00-05:00",
          "2025-03-10T09:30:00-04:00",
          "2025-03-10T13:30:00-04:00",
          "2025-03-11T09:30:00-04:00",
          "2025-03-11T13:30:00-04:00",
          "2025-03-12T09:30:00-04:00",
          "2025-03-12T13:30:00-04:00",
          "2025-03-13T09:30:00-04:00",
          "2025-03-13T13:30:00-04:00",
          "2025-03-14T09:30:00-04:00",
          "2025-03-14T13:30:00-04:00",
          "2025-03-17T09:30:00-04:00",
          "2025-03-17T13:30:00-04:00",
          "2025-03-18T09:30:00-04:00",
          "2025-03-18T13:30:00-04:00",
          "2025-03-19T09:30:00-04:00",
          "2025-03-19T13:30:00-04:00",
          "2025-03-20T09:30:00-04:00",
          "2025-03-20T13:30:00-04:00",
          "2025-03-21T09:30:00-04:00",
          "2025-03-21T13:30:00-04:00",
          "2025-03-24T09:30:00-04:00",
          "2025-03-24T13:30:00-04:00",
          "2025-03-25T09:30:00-04:00",
          "2025-03-25T13:30:00-04:00",
          "2025-03-26T09:30:00-04:00",
          "2025-03-26T13:30:00-04:00",
          "2025-03-27T09:30:00-04:00",
          "2025-03-27T13:30:00-04:00",
          "2025-03-28T09:30:00-04:00",
          "2025-03-28T13:30:00-04:00",
          "2025-03-31T09:30:00-04:00",
          "2025-03-31T13:30:00-04:00",
          "2025-04-01T09:30:00-04:00",
          "2025-04-01T13:30:00-04:00",
          "2025-04-02T09:30:00-04:00",
          "2025-04-02T13:30:00-04:00",
          "2025-04-03T09:30:00-04:00",
          "2025-04-03T13:30:00-04:00",
          "2025-04-04T09:30:00-04:00",
          "2025-04-04T13:30:00-04:00",
          "2025-04-07T09:30:00-04:00",
          "2025-04-07T13:30:00-04:00",
          "2025-04-08T09:30:00-04:00",
          "2025-04-08T13:30:00-04:00",
          "2025-04-09T09:30:00-04:00",
          "2025-04-09T13:30:00-04:00",
          "2025-04-10T09:30:00-04:00",
          "2025-04-10T13:30:00-04:00",
          "2025-04-11T09:30:00-04:00",
          "2025-04-11T13:30:00-04:00",
          "2025-04-14T09:30:00-04:00",
          "2025-04-14T13:30:00-04:00",
          "2025-04-15T09:30:00-04:00",
          "2025-04-15T13:30:00-04:00",
          "2025-04-16T09:30:00-04:00",
          "2025-04-16T13:30:00-04:00",
          "2025-04-17T09:30:00-04:00",
          "2025-04-17T13:30:00-04:00",
          "2025-04-21T09:30:00-04:00",
          "2025-04-21T13:30:00-04:00",
          "2025-04-22T09:30:00-04:00",
          "2025-04-22T13:30:00-04:00",
          "2025-04-23T09:30:00-04:00",
          "2025-04-23T13:30:00-04:00",
          "2025-04-24T09:30:00-04:00",
          "2025-04-24T13:30:00-04:00",
          "2025-04-25T09:30:00-04:00",
          "2025-04-25T13:30:00-04:00",
          "2025-04-28T09:30:00-04:00",
          "2025-04-28T13:30:00-04:00",
          "2025-04-29T09:30:00-04:00",
          "2025-04-29T13:30:00-04:00",
          "2025-04-30T09:30:00-04:00",
          "2025-04-30T13:30:00-04:00",
          "2025-05-01T09:30:00-04:00",
          "2025-05-01T13:30:00-04:00",
          "2025-05-02T09:30:00-04:00",
          "2025-05-02T13:30:00-04:00",
          "2025-05-05T09:30:00-04:00",
          "2025-05-05T13:30:00-04:00",
          "2025-05-06T09:30:00-04:00",
          "2025-05-06T13:30:00-04:00",
          "2025-05-07T09:30:00-04:00",
          "2025-05-07T13:30:00-04:00",
          "2025-05-08T09:30:00-04:00",
          "2025-05-08T13:30:00-04:00",
          "2025-05-09T09:30:00-04:00",
          "2025-05-09T13:30:00-04:00",
          "2025-05-12T09:30:00-04:00",
          "2025-05-12T13:30:00-04:00",
          "2025-05-13T09:30:00-04:00",
          "2025-05-13T13:30:00-04:00",
          "2025-05-14T09:30:00-04:00",
          "2025-05-14T13:30:00-04:00",
          "2025-05-15T09:30:00-04:00",
          "2025-05-15T13:30:00-04:00",
          "2025-05-16T09:30:00-04:00",
          "2025-05-16T13:30:00-04:00",
          "2025-05-19T09:30:00-04:00",
          "2025-05-19T13:30:00-04:00",
          "2025-05-20T09:30:00-04:00",
          "2025-05-20T13:30:00-04:00",
          "2025-05-21T09:30:00-04:00",
          "2025-05-21T13:30:00-04:00",
          "2025-05-22T09:30:00-04:00",
          "2025-05-22T13:30:00-04:00",
          "2025-05-23T09:30:00-04:00",
          "2025-05-23T13:30:00-04:00",
          "2025-05-27T09:30:00-04:00",
          "2025-05-27T13:30:00-04:00",
          "2025-05-28T09:30:00-04:00",
          "2025-05-28T13:30:00-04:00",
          "2025-05-29T09:30:00-04:00",
          "2025-05-29T13:30:00-04:00",
          "2025-05-30T09:30:00-04:00",
          "2025-05-30T13:30:00-04:00",
          "2025-06-02T09:30:00-04:00",
          "2025-06-02T13:30:00-04:00",
          "2025-06-03T09:30:00-04:00",
          "2025-06-03T13:30:00-04:00",
          "2025-06-04T09:30:00-04:00",
          "2025-06-04T13:30:00-04:00",
          "2025-06-05T09:30:00-04:00",
          "2025-06-05T13:30:00-04:00",
          "2025-06-06T09:30:00-04:00",
          "2025-06-06T13:30:00-04:00",
          "2025-06-09T09:30:00-04:00",
          "2025-06-09T13:30:00-04:00",
          "2025-06-10T09:30:00-04:00",
          "2025-06-10T13:30:00-04:00",
          "2025-06-11T09:30:00-04:00",
          "2025-06-11T13:30:00-04:00",
          "2025-06-12T09:30:00-04:00",
          "2025-06-12T13:30:00-04:00",
          "2025-06-13T09:30:00-04:00",
          "2025-06-13T13:30:00-04:00",
          "2025-06-16T09:30:00-04:00",
          "2025-06-16T13:30:00-04:00",
          "2025-06-17T09:30:00-04:00",
          "2025-06-17T13:30:00-04:00",
          "2025-06-18T09:30:00-04:00",
          "2025-06-18T13:30:00-04:00",
          "2025-06-20T09:30:00-04:00",
          "2025-06-20T13:30:00-04:00",
          "2025-06-23T09:30:00-04:00",
          "2025-06-23T13:30:00-04:00",
          "2025-06-24T09:30:00-04:00",
          "2025-06-24T13:30:00-04:00",
          "2025-06-25T09:30:00-04:00",
          "2025-06-25T13:30:00-04:00",
          "2025-06-26T09:30:00-04:00",
          "2025-06-26T13:30:00-04:00"
         ],
         "y": {
          "bdata": "AAAAAAAA+H8AAAAAAAD4fwAAAAAAAPh/AAAAAAAA+H8AAAAAAAD4fwAAAAAAAPh/AAAAAAAA+H8AAAAAAAD4fwAAAAAAAPh/AAAAAAAA+H8AAAAAAAD4fwAAAAAAAPh/AAAAAAAA+H8AAAAAAAD4fwAAAAAAAPh/AAAAAAAA+H8AAAAAAAD4fwAAAAAAAPh/AAAAAAAA+H8zMzNDHndwQM3MzBztSnBAzczMBOkpcECamZkxZgtwQAAAAKB40W9AzczMpPmCb0AzMzOjzjdvQJqZmbEu8W5AmpmZGcCmbkBmZmYW0mluQJqZmTEsJG5AZmZm5kj2bUCamZn5y8ptQAAAAHgLs21AmpmZuWudbUDNzMzUmuhtQDMzM+PHQm5AAAAAgEaYbkAAAADwg/RuQDMzM0OQFW9AAAAA4H87b0AzMzNTE3hvQGZmZrYjrG9AmpmZGZ7Eb0BmZmaWO9pvQJqZmWHd9m9AZmZmvpsMcECamZnFrjFwQM3MzCwVVHBAAAAAUHd7cEDNzMygBKFwQDMzM9s5vHBAZmZmXnrVcEAzMzPnANJwQDMzM/suynBAzczMyHypcEAAAAAQXoVwQJqZmclKX3BAzczMQAkqcEDNzMywVhZwQJqZmb1YFnBAMzMz68P/b0CamZnxb95vQGZmZn4Hwm9AMzMz6+6vb0AzMzPT6qVvQGZmZn7cmm9AZmZmrvV4b0CamZnR+2FvQJqZmQHZJm9AAAAAQA7lbkCamZnRwbZuQDMzM5O3jG5AzczMRKBwbkAAAAAgml1uQM3MzBTsYW5AzczMvLJpbkCamZnhuJNuQDMzM0t1wm5AmpmZSf/QbkAzMzNjA71uQAAAABBL/m5AMzMz00Ayb0BmZmb21WNvQDMzMxPBmW9AmpmZUcvUb0AAAAAQHgpwQGZmZk7SHnBAmpmZITg1cEDNzMz8MVNwQDMzM/9ccnBAAAAACKaccEDNzMxwN8FwQDMzMyPV7nBAMzMzVwgZcUAAAAAkTzdxQM3MzDj9VHFAMzMzm41kcUBmZmZ63XhxQDMzMwM8knFAZmZm1ommcUBmZmbWia9xQDMzM6seunFAZmZmforbcUCamZnZu/VxQAAAALBfGXJAmpmZ0eg6ckBmZmY2JHByQM3MzNRkpHJAZmZmBm3VckCamZlZMwdzQAAAAJC8M3NAzczMzMZlc0AzMzOb/5ZzQAAAAOhhyHNAAAAAqLIFdECamZmBgTx0QAAAAIgCbXRAzczMnLCbdEAzMzNL28l0QGZmZoa69nRAAAAAGNcadUAAAADw3jt1QAAAAMhxXnVAAAAA0L+BdUAzMzMTS5x1QGZmZm6vrnVAAAAA2Ou7dUAAAAAwvMR1QGZmZv4nx3VAZmZm3pTJdUAAAACA2sF1QM3MzGwsvHVAmpmZ0SbGdUAzMzMDL8h1QGZmZv4tunVAzczMjPCwdUAAAAAIBZZ1QGZmZlYubnVAzczMtGhKdUCamZmZuSV1QAAAAADxAHVAAAAA8FrodEBmZmYWIsd0QDMzMzPaqXRAZmZmFoCQdEDNzMwEKHh0QAAAAIhWW3RAmpmZAes7dEBmZma+6y50QGZmZsaXHnRAAAAAuGoXdEAzMzN7iwx0QGZmZi7U73NAZmZm3kbZc0AAAACYkNBzQDMzMwt5yHNAZmZm3sbXc0DNzMw8uvVzQM3MzEySHnRAmpmZgXBJdEBmZmZelW10QGZmZs4Kh3RAzczMbKWMdEBmZmZWzI10QJqZmflBjHRAzczMhK6LdEA=",
          "dtype": "f8"
         }
        },
        {
         "marker": {
          "color": "green",
          "size": 15,
          "symbol": "triangle-up"
         },
         "mode": "markers+text",
         "name": "Buy Signal",
         "text": "BUY",
         "textfont": {
          "color": "green",
          "family": "Arial Black",
          "size": 12
         },
         "textposition": "top center",
         "type": "scatter",
         "x": [
          "2025-04-15T09:30:00-04:00",
          "2025-06-11T09:30:00-04:00"
         ],
         "y": {
          "bdata": "AAAAAMyEb0AAAABA4a50QA==",
          "dtype": "f8"
         }
        },
        {
         "marker": {
          "color": "red",
          "size": 15,
          "symbol": "triangle-down"
         },
         "mode": "markers+text",
         "name": "Sell Signal",
         "text": "SELL",
         "textfont": {
          "color": "red",
          "family": "Arial Black",
          "size": 12
         },
         "textposition": "bottom center",
         "type": "scatter",
         "x": [
          "2025-04-30T09:30:00-04:00"
         ],
         "y": {
          "bdata": "AAAA4HpgcUA=",
          "dtype": "f8"
         }
        }
       ],
       "layout": {
        "template": {
         "data": {
          "bar": [
           {
            "error_x": {
             "color": "#2a3f5f"
            },
            "error_y": {
             "color": "#2a3f5f"
            },
            "marker": {
             "line": {
              "color": "#E5ECF6",
              "width": 0.5
             },
             "pattern": {
              "fillmode": "overlay",
              "size": 10,
              "solidity": 0.2
             }
            },
            "type": "bar"
           }
          ],
          "barpolar": [
           {
            "marker": {
             "line": {
              "color": "#E5ECF6",
              "width": 0.5
             },
             "pattern": {
              "fillmode": "overlay",
              "size": 10,
              "solidity": 0.2
             }
            },
            "type": "barpolar"
           }
          ],
          "carpet": [
           {
            "aaxis": {
             "endlinecolor": "#2a3f5f",
             "gridcolor": "white",
             "linecolor": "white",
             "minorgridcolor": "white",
             "startlinecolor": "#2a3f5f"
            },
            "baxis": {
             "endlinecolor": "#2a3f5f",
             "gridcolor": "white",
             "linecolor": "white",
             "minorgridcolor": "white",
             "startlinecolor": "#2a3f5f"
            },
            "type": "carpet"
           }
          ],
          "choropleth": [
           {
            "colorbar": {
             "outlinewidth": 0,
             "ticks": ""
            },
            "type": "choropleth"
           }
          ],
          "contour": [
           {
            "colorbar": {
             "outlinewidth": 0,
             "ticks": ""
            },
            "colorscale": [
             [
              0,
              "#0d0887"
             ],
             [
              0.1111111111111111,
              "#46039f"
             ],
             [
              0.2222222222222222,
              "#7201a8"
             ],
             [
              0.3333333333333333,
              "#9c179e"
             ],
             [
              0.4444444444444444,
              "#bd3786"
             ],
             [
              0.5555555555555556,
              "#d8576b"
             ],
             [
              0.6666666666666666,
              "#ed7953"
             ],
             [
              0.7777777777777778,
              "#fb9f3a"
             ],
             [
              0.8888888888888888,
              "#fdca26"
             ],
             [
              1,
              "#f0f921"
             ]
            ],
            "type": "contour"
           }
          ],
          "contourcarpet": [
           {
            "colorbar": {
             "outlinewidth": 0,
             "ticks": ""
            },
            "type": "contourcarpet"
           }
          ],
          "heatmap": [
           {
            "colorbar": {
             "outlinewidth": 0,
             "ticks": ""
            },
            "colorscale": [
             [
              0,
              "#0d0887"
             ],
             [
              0.1111111111111111,
              "#46039f"
             ],
             [
              0.2222222222222222,
              "#7201a8"
             ],
             [
              0.3333333333333333,
              "#9c179e"
             ],
             [
              0.4444444444444444,
              "#bd3786"
             ],
             [
              0.5555555555555556,
              "#d8576b"
             ],
             [
              0.6666666666666666,
              "#ed7953"
             ],
             [
              0.7777777777777778,
              "#fb9f3a"
             ],
             [
              0.8888888888888888,
              "#fdca26"
             ],
             [
              1,
              "#f0f921"
             ]
            ],
            "type": "heatmap"
           }
          ],
          "histogram": [
           {
            "marker": {
             "pattern": {
              "fillmode": "overlay",
              "size": 10,
              "solidity": 0.2
             }
            },
            "type": "histogram"
           }
          ],
          "histogram2d": [
           {
            "colorbar": {
             "outlinewidth": 0,
             "ticks": ""
            },
            "colorscale": [
             [
              0,
              "#0d0887"
             ],
             [
              0.1111111111111111,
              "#46039f"
             ],
             [
              0.2222222222222222,
              "#7201a8"
             ],
             [
              0.3333333333333333,
              "#9c179e"
             ],
             [
              0.4444444444444444,
              "#bd3786"
             ],
             [
              0.5555555555555556,
              "#d8576b"
             ],
             [
              0.6666666666666666,
              "#ed7953"
             ],
             [
              0.7777777777777778,
              "#fb9f3a"
             ],
             [
              0.8888888888888888,
              "#fdca26"
             ],
             [
              1,
              "#f0f921"
             ]
            ],
            "type": "histogram2d"
           }
          ],
          "histogram2dcontour": [
           {
            "colorbar": {
             "outlinewidth": 0,
             "ticks": ""
            },
            "colorscale": [
             [
              0,
              "#0d0887"
             ],
             [
              0.1111111111111111,
              "#46039f"
             ],
             [
              0.2222222222222222,
              "#7201a8"
             ],
             [
              0.3333333333333333,
              "#9c179e"
             ],
             [
              0.4444444444444444,
              "#bd3786"
             ],
             [
              0.5555555555555556,
              "#d8576b"
             ],
             [
              0.6666666666666666,
              "#ed7953"
             ],
             [
              0.7777777777777778,
              "#fb9f3a"
             ],
             [
              0.8888888888888888,
              "#fdca26"
             ],
             [
              1,
              "#f0f921"
             ]
            ],
            "type": "histogram2dcontour"
           }
          ],
          "mesh3d": [
           {
            "colorbar": {
             "outlinewidth": 0,
             "ticks": ""
            },
            "type": "mesh3d"
           }
          ],
          "parcoords": [
           {
            "line": {
             "colorbar": {
              "outlinewidth": 0,
              "ticks": ""
             }
            },
            "type": "parcoords"
           }
          ],
          "pie": [
           {
            "automargin": true,
            "type": "pie"
           }
          ],
          "scatter": [
           {
            "fillpattern": {
             "fillmode": "overlay",
             "size": 10,
             "solidity": 0.2
            },
            "type": "scatter"
           }
          ],
          "scatter3d": [
           {
            "line": {
             "colorbar": {
              "outlinewidth": 0,
              "ticks": ""
             }
            },
            "marker": {
             "colorbar": {
              "outlinewidth": 0,
              "ticks": ""
             }
            },
            "type": "scatter3d"
           }
          ],
          "scattercarpet": [
           {
            "marker": {
             "colorbar": {
              "outlinewidth": 0,
              "ticks": ""
             }
            },
            "type": "scattercarpet"
           }
          ],
          "scattergeo": [
           {
            "marker": {
             "colorbar": {
              "outlinewidth": 0,
              "ticks": ""
             }
            },
            "type": "scattergeo"
           }
          ],
          "scattergl": [
           {
            "marker": {
             "colorbar": {
              "outlinewidth": 0,
              "ticks": ""
             }
            },
            "type": "scattergl"
           }
          ],
          "scattermap": [
           {
            "marker": {
             "colorbar": {
              "outlinewidth": 0,
              "ticks": ""
             }
            },
            "type": "scattermap"
           }
          ],
          "scattermapbox": [
           {
            "marker": {
             "colorbar": {
              "outlinewidth": 0,
              "ticks": ""
             }
            },
            "type": "scattermapbox"
           }
          ],
          "scatterpolar": [
           {
            "marker": {
             "colorbar": {
              "outlinewidth": 0,
              "ticks": ""
             }
            },
            "type": "scatterpolar"
           }
          ],
          "scatterpolargl": [
           {
            "marker": {
             "colorbar": {
              "outlinewidth": 0,
              "ticks": ""
             }
            },
            "type": "scatterpolargl"
           }
          ],
          "scatterternary": [
           {
            "marker": {
             "colorbar": {
              "outlinewidth": 0,
              "ticks": ""
             }
            },
            "type": "scatterternary"
           }
          ],
          "surface": [
           {
            "colorbar": {
             "outlinewidth": 0,
             "ticks": ""
            },
            "colorscale": [
             [
              0,
              "#0d0887"
             ],
             [
              0.1111111111111111,
              "#46039f"
             ],
             [
              0.2222222222222222,
              "#7201a8"
             ],
             [
              0.3333333333333333,
              "#9c179e"
             ],
             [
              0.4444444444444444,
              "#bd3786"
             ],
             [
              0.5555555555555556,
              "#d8576b"
             ],
             [
              0.6666666666666666,
              "#ed7953"
             ],
             [
              0.7777777777777778,
              "#fb9f3a"
             ],
             [
              0.8888888888888888,
              "#fdca26"
             ],
             [
              1,
              "#f0f921"
             ]
            ],
            "type": "surface"
           }
          ],
          "table": [
           {
            "cells": {
             "fill": {
              "color": "#EBF0F8"
             },
             "line": {
              "color": "white"
             }
            },
            "header": {
             "fill": {
              "color": "#C8D4E3"
             },
             "line": {
              "color": "white"
             }
            },
            "type": "table"
           }
          ]
         },
         "layout": {
          "annotationdefaults": {
           "arrowcolor": "#2a3f5f",
           "arrowhead": 0,
           "arrowwidth": 1
          },
          "autotypenumbers": "strict",
          "coloraxis": {
           "colorbar": {
            "outlinewidth": 0,
            "ticks": ""
           }
          },
          "colorscale": {
           "diverging": [
            [
             0,
             "#8e0152"
            ],
            [
             0.1,
             "#c51b7d"
            ],
            [
             0.2,
             "#de77ae"
            ],
            [
             0.3,
             "#f1b6da"
            ],
            [
             0.4,
             "#fde0ef"
            ],
            [
             0.5,
             "#f7f7f7"
            ],
            [
             0.6,
             "#e6f5d0"
            ],
            [
             0.7,
             "#b8e186"
            ],
            [
             0.8,
             "#7fbc41"
            ],
            [
             0.9,
             "#4d9221"
            ],
            [
             1,
             "#276419"
            ]
           ],
           "sequential": [
            [
             0,
             "#0d0887"
            ],
            [
             0.1111111111111111,
             "#46039f"
            ],
            [
             0.2222222222222222,
             "#7201a8"
            ],
            [
             0.3333333333333333,
             "#9c179e"
            ],
            [
             0.4444444444444444,
             "#bd3786"
            ],
            [
             0.5555555555555556,
             "#d8576b"
            ],
            [
             0.6666666666666666,
             "#ed7953"
            ],
            [
             0.7777777777777778,
             "#fb9f3a"
            ],
            [
             0.8888888888888888,
             "#fdca26"
            ],
            [
             1,
             "#f0f921"
            ]
           ],
           "sequentialminus": [
            [
             0,
             "#0d0887"
            ],
            [
             0.1111111111111111,
             "#46039f"
            ],
            [
             0.2222222222222222,
             "#7201a8"
            ],
            [
             0.3333333333333333,
             "#9c179e"
            ],
            [
             0.4444444444444444,
             "#bd3786"
            ],
            [
             0.5555555555555556,
             "#d8576b"
            ],
            [
             0.6666666666666666,
             "#ed7953"
            ],
            [
             0.7777777777777778,
             "#fb9f3a"
            ],
            [
             0.8888888888888888,
             "#fdca26"
            ],
            [
             1,
             "#f0f921"
            ]
           ]
          },
          "colorway": [
           "#636efa",
           "#EF553B",
           "#00cc96",
           "#ab63fa",
           "#FFA15A",
           "#19d3f3",
           "#FF6692",
           "#B6E880",
           "#FF97FF",
           "#FECB52"
          ],
          "font": {
           "color": "#2a3f5f"
          },
          "geo": {
           "bgcolor": "white",
           "lakecolor": "white",
           "landcolor": "#E5ECF6",
           "showlakes": true,
           "showland": true,
           "subunitcolor": "white"
          },
          "hoverlabel": {
           "align": "left"
          },
          "hovermode": "closest",
          "mapbox": {
           "style": "light"
          },
          "paper_bgcolor": "white",
          "plot_bgcolor": "#E5ECF6",
          "polar": {
           "angularaxis": {
            "gridcolor": "white",
            "linecolor": "white",
            "ticks": ""
           },
           "bgcolor": "#E5ECF6",
           "radialaxis": {
            "gridcolor": "white",
            "linecolor": "white",
            "ticks": ""
           }
          },
          "scene": {
           "xaxis": {
            "backgroundcolor": "#E5ECF6",
            "gridcolor": "white",
            "gridwidth": 2,
            "linecolor": "white",
            "showbackground": true,
            "ticks": "",
            "zerolinecolor": "white"
           },
           "yaxis": {
            "backgroundcolor": "#E5ECF6",
            "gridcolor": "white",
            "gridwidth": 2,
            "linecolor": "white",
            "showbackground": true,
            "ticks": "",
            "zerolinecolor": "white"
           },
           "zaxis": {
            "backgroundcolor": "#E5ECF6",
            "gridcolor": "white",
            "gridwidth": 2,
            "linecolor": "white",
            "showbackground": true,
            "ticks": "",
            "zerolinecolor": "white"
           }
          },
          "shapedefaults": {
           "line": {
            "color": "#2a3f5f"
           }
          },
          "ternary": {
           "aaxis": {
            "gridcolor": "white",
            "linecolor": "white",
            "ticks": ""
           },
           "baxis": {
            "gridcolor": "white",
            "linecolor": "white",
            "ticks": ""
           },
           "bgcolor": "#E5ECF6",
           "caxis": {
            "gridcolor": "white",
            "linecolor": "white",
            "ticks": ""
           }
          },
          "title": {
           "x": 0.05
          },
          "xaxis": {
           "automargin": true,
           "gridcolor": "white",
           "linecolor": "white",
           "ticks": "",
           "title": {
            "standoff": 15
           },
           "zerolinecolor": "white",
           "zerolinewidth": 2
          },
          "yaxis": {
           "automargin": true,
           "gridcolor": "white",
           "linecolor": "white",
           "ticks": "",
           "title": {
            "standoff": 15
           },
           "zerolinecolor": "white",
           "zerolinewidth": 2
          }
         }
        },
        "title": {
         "text": "TSLA with MA Crossover Signals"
        },
        "xaxis": {
         "rangeslider": {
          "visible": false
         }
        }
       }
      },
      "image/png": "[encoded data removed]"
     },
     "metadata": {},
     "output_type": "display_data"
    }
   ],
   "source": [
    "visualize_interactive_with_signals(df_with_signals)"
   ]
  }
 ],
 "metadata": {
  "kernelspec": {
   "display_name": "Python 3 (ipykernel)",
   "language": "python",
   "name": "python3"
  },
  "language_info": {
   "codemirror_mode": {
    "name": "ipython",
    "version": 3
   },
   "file_extension": ".py",
   "mimetype": "text/x-python",
   "name": "python",
   "nbconvert_exporter": "python",
   "pygments_lexer": "ipython3",
   "version": "3.9.4"
  }
 },
 "nbformat": 4,
 "nbformat_minor": 5
}
