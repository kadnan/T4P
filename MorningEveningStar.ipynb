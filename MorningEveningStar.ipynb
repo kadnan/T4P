{
 "cells": [
  {
   "cell_type": "code",
   "execution_count": 165,
   "id": "3b0fe6b1-4d49-47af-b44d-e926b94c4a67",
   "metadata": {},
   "outputs": [],
   "source": [
    "import numpy as np\n",
    "import pandas as pd\n",
    "import pandas_ta as ta\n",
    "import matplotlib.pyplot as plt\n",
    "import yfinance as yf\n",
    "import mplfinance as mpf\n",
    "import requests\n",
    "import plotly.graph_objects as go\n",
    "import talib"
   ]
  },
  {
   "cell_type": "code",
   "execution_count": 166,
   "id": "355eae18-22fe-4597-be07-37808965a824",
   "metadata": {},
   "outputs": [],
   "source": [
    "def get_tsla_recent_data():\n",
    "    session = requests.Session()\n",
    "    session.headers.update({'User-Agent': 'Mozilla/5.0 (Windows NT 10.0; Win64; x64) AppleWebKit/537.36 (KHTML, like Gecko) Chrome/58.0.3029.110 Safari/537.3'})\n",
    "    tsla = yf.Ticker('TSLA')\n",
    "    df = tsla.history(period='4mo', interval='1d')\n",
    "    return df\n",
    "\n",
    "def detect_morning_star(df):\n",
    "    df = df.copy()\n",
    "    #df['morning_star'] = ta.cdl.morningstar(df['Open'], df['High'], df['Low'], df['Close'])\n",
    "    #df['morning_star'] = ta.cdl_pattern(df['Open'], df['High'], df['Low'], df['Close'], name=\"morningstar\")\n",
    "    df['CDLENGULFING'] = talib.CDLENGULFING(df['Open'], df['High'], df['Low'], df['Close'])\n",
    "    \n",
    "    return df[df['morning_star'] != 0][['Open', 'High', 'Low', 'Close', 'morning_star','Engulfing']]\n",
    "\n",
    "def detect_morning_star_talib(df):\n",
    "    df['ENGULFING'] = talib.CDLMORNINGSTAR(df['Open'], df['High'], df['Low'], df['Close'])\n",
    "    return df\n",
    "\n",
    "def detect_morning_star(df, threshold=100):\n",
    "    \"\"\"\n",
    "    Detect Morning Star patterns in price data using TA-Lib.\n",
    "    \n",
    "    Parameters:\n",
    "    -----------\n",
    "    df : pandas.DataFrame\n",
    "        DataFrame containing OHLC price data. Must have columns: 'Open', 'High', 'Low', 'Close'\n",
    "    threshold : int, optional (default=100)\n",
    "        The threshold value for pattern strength. Higher values mean more strict detection.\n",
    "        \n",
    "    Returns:\n",
    "    --------\n",
    "    pandas.Series\n",
    "        Series with boolean values where True indicates a Morning Star pattern.\n",
    "    \"\"\"\n",
    "    # Convert DataFrame to numpy arrays required by TA-Lib\n",
    "    open_data = df['Open'].values\n",
    "    high_data = df['High'].values\n",
    "    low_data = df['Low'].values\n",
    "    close_data = df['Close'].values\n",
    "    \n",
    "    # Use talib to detect Morning Star pattern\n",
    "    # integer value represents the strength of the pattern\n",
    "    # positive values indicate bullish signals, negative values indicate bearish signals\n",
    "    integer_result = talib.CDLMORNINGSTAR(open_data, high_data, low_data, close_data, penetration=0.3)\n",
    "    \n",
    "    # Convert to boolean Series where True means pattern detected\n",
    "    result = pd.Series(integer_result >= threshold, index=df.index)\n",
    "    \n",
    "    return result\n",
    "\n",
    "def fake_data():\n",
    "    data = {\n",
    "    'Open':  [100, 80, 75, 73, 85, 90],\n",
    "    'High':  [101, 82, 76, 79, 95, 96],\n",
    "    'Low':   [80, 75, 70, 72, 84, 89], \n",
    "    'Close': [80, 76, 74, 85, 94, 95],\n",
    "    }\n",
    "    df = pd.DataFrame(data)\n",
    "    return df"
   ]
  },
  {
   "cell_type": "code",
   "execution_count": 167,
   "id": "b3ad21a4-1687-4622-82d1-c16ad9605670",
   "metadata": {},
   "outputs": [],
   "source": [
    "df = fake_data()"
   ]
  },
  {
   "cell_type": "code",
   "execution_count": 168,
   "id": "36a073db-31cb-42a6-99de-9b99a99db5aa",
   "metadata": {},
   "outputs": [
    {
     "ename": "Exception",
     "evalue": "input array type is not double",
     "output_type": "error",
     "traceback": [
      "\u001b[0;31m---------------------------------------------------------------------------\u001b[0m",
      "\u001b[0;31mException\u001b[0m                                 Traceback (most recent call last)",
      "Cell \u001b[0;32mIn[168], line 1\u001b[0m\n\u001b[0;32m----> 1\u001b[0m signals \u001b[38;5;241m=\u001b[39m \u001b[43mdetect_morning_star\u001b[49m\u001b[43m(\u001b[49m\u001b[43mdf\u001b[49m\u001b[43m)\u001b[49m\n\u001b[1;32m      2\u001b[0m signals\n",
      "Cell \u001b[0;32mIn[166], line 45\u001b[0m, in \u001b[0;36mdetect_morning_star\u001b[0;34m(df, threshold)\u001b[0m\n\u001b[1;32m     40\u001b[0m close_data \u001b[38;5;241m=\u001b[39m df[\u001b[38;5;124m'\u001b[39m\u001b[38;5;124mClose\u001b[39m\u001b[38;5;124m'\u001b[39m]\u001b[38;5;241m.\u001b[39mvalues\n\u001b[1;32m     42\u001b[0m \u001b[38;5;66;03m# Use talib to detect Morning Star pattern\u001b[39;00m\n\u001b[1;32m     43\u001b[0m \u001b[38;5;66;03m# integer value represents the strength of the pattern\u001b[39;00m\n\u001b[1;32m     44\u001b[0m \u001b[38;5;66;03m# positive values indicate bullish signals, negative values indicate bearish signals\u001b[39;00m\n\u001b[0;32m---> 45\u001b[0m integer_result \u001b[38;5;241m=\u001b[39m \u001b[43mtalib\u001b[49m\u001b[38;5;241;43m.\u001b[39;49m\u001b[43mCDLMORNINGSTAR\u001b[49m\u001b[43m(\u001b[49m\u001b[43mopen_data\u001b[49m\u001b[43m,\u001b[49m\u001b[43m \u001b[49m\u001b[43mhigh_data\u001b[49m\u001b[43m,\u001b[49m\u001b[43m \u001b[49m\u001b[43mlow_data\u001b[49m\u001b[43m,\u001b[49m\u001b[43m \u001b[49m\u001b[43mclose_data\u001b[49m\u001b[43m,\u001b[49m\u001b[43m \u001b[49m\u001b[43mpenetration\u001b[49m\u001b[38;5;241;43m=\u001b[39;49m\u001b[38;5;241;43m0.3\u001b[39;49m\u001b[43m)\u001b[49m\n\u001b[1;32m     47\u001b[0m \u001b[38;5;66;03m# Convert to boolean Series where True means pattern detected\u001b[39;00m\n\u001b[1;32m     48\u001b[0m result \u001b[38;5;241m=\u001b[39m pd\u001b[38;5;241m.\u001b[39mSeries(integer_result \u001b[38;5;241m>\u001b[39m\u001b[38;5;241m=\u001b[39m threshold, index\u001b[38;5;241m=\u001b[39mdf\u001b[38;5;241m.\u001b[39mindex)\n",
      "File \u001b[0;32m~/.pyenv/versions/3.9.4/lib/python3.9/site-packages/talib/__init__.py:80\u001b[0m, in \u001b[0;36m_wrapper.<locals>.wrapper\u001b[0;34m(*args, **kwds)\u001b[0m\n\u001b[1;32m     77\u001b[0m     _args \u001b[38;5;241m=\u001b[39m args\n\u001b[1;32m     78\u001b[0m     _kwds \u001b[38;5;241m=\u001b[39m kwds\n\u001b[0;32m---> 80\u001b[0m result \u001b[38;5;241m=\u001b[39m \u001b[43mfunc\u001b[49m\u001b[43m(\u001b[49m\u001b[38;5;241;43m*\u001b[39;49m\u001b[43m_args\u001b[49m\u001b[43m,\u001b[49m\u001b[43m \u001b[49m\u001b[38;5;241;43m*\u001b[39;49m\u001b[38;5;241;43m*\u001b[39;49m\u001b[43m_kwds\u001b[49m\u001b[43m)\u001b[49m\n\u001b[1;32m     82\u001b[0m \u001b[38;5;66;03m# check to see if we got a streaming result\u001b[39;00m\n\u001b[1;32m     83\u001b[0m first_result \u001b[38;5;241m=\u001b[39m result[\u001b[38;5;241m0\u001b[39m] \u001b[38;5;28;01mif\u001b[39;00m \u001b[38;5;28misinstance\u001b[39m(result, \u001b[38;5;28mtuple\u001b[39m) \u001b[38;5;28;01melse\u001b[39;00m result\n",
      "File \u001b[0;32m~/.pyenv/versions/3.9.4/lib/python3.9/site-packages/talib/_func.pxi:2175\u001b[0m, in \u001b[0;36mtalib._ta_lib.CDLMORNINGSTAR\u001b[0;34m()\u001b[0m\n",
      "File \u001b[0;32m~/.pyenv/versions/3.9.4/lib/python3.9/site-packages/talib/_func.pxi:22\u001b[0m, in \u001b[0;36mtalib._ta_lib.check_array\u001b[0;34m()\u001b[0m\n",
      "\u001b[0;31mException\u001b[0m: input array type is not double"
     ]
    }
   ],
   "source": [
    "signals = detect_morning_star(df)\n",
    "signals"
   ]
  },
  {
   "cell_type": "code",
   "execution_count": null,
   "id": "5df00f9a-fb50-4824-9230-21521f728214",
   "metadata": {},
   "outputs": [],
   "source": [
    "count = (signals['ENGULFING'] != 0).sum()\n",
    "print(f\"Number of Morning Star patterns detected: {count}\")"
   ]
  },
  {
   "cell_type": "code",
   "execution_count": null,
   "id": "7074039e-f8ce-4d88-a5a1-51118e54c19e",
   "metadata": {},
   "outputs": [],
   "source": []
  }
 ],
 "metadata": {
  "kernelspec": {
   "display_name": "Python 3 (ipykernel)",
   "language": "python",
   "name": "python3"
  },
  "language_info": {
   "codemirror_mode": {
    "name": "ipython",
    "version": 3
   },
   "file_extension": ".py",
   "mimetype": "text/x-python",
   "name": "python",
   "nbconvert_exporter": "python",
   "pygments_lexer": "ipython3",
   "version": "3.9.4"
  }
 },
 "nbformat": 4,
 "nbformat_minor": 5
}
