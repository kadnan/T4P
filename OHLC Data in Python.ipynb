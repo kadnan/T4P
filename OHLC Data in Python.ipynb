{
 "cells": [
  {
   "cell_type": "code",
   "execution_count": 5,
   "id": "276feac7",
   "metadata": {},
   "outputs": [],
   "source": [
    "import yfinance as yf"
   ]
  },
  {
   "cell_type": "code",
   "execution_count": 6,
   "id": "cedd2e72",
   "metadata": {},
   "outputs": [
    {
     "name": "stdout",
     "output_type": "stream",
     "text": [
      "[*********************100%%**********************]  1 of 1 completed\n"
     ]
    },
    {
     "name": "stderr",
     "output_type": "stream",
     "text": [
      "/Users/AdnanAhmad/.pyenv/versions/3.9.4/lib/python3.9/site-packages/yfinance/utils.py:782: FutureWarning: The 'unit' keyword in TimedeltaIndex construction is deprecated and will be removed in a future version. Use pd.to_timedelta instead.\n",
      "  df.index += _pd.TimedeltaIndex(dst_error_hours, 'h')\n"
     ]
    },
    {
     "data": {
      "text/html": [
       "<div>\n",
       "<style scoped>\n",
       "    .dataframe tbody tr th:only-of-type {\n",
       "        vertical-align: middle;\n",
       "    }\n",
       "\n",
       "    .dataframe tbody tr th {\n",
       "        vertical-align: top;\n",
       "    }\n",
       "\n",
       "    .dataframe thead th {\n",
       "        text-align: right;\n",
       "    }\n",
       "</style>\n",
       "<table border=\"1\" class=\"dataframe\">\n",
       "  <thead>\n",
       "    <tr style=\"text-align: right;\">\n",
       "      <th></th>\n",
       "      <th>Open</th>\n",
       "      <th>High</th>\n",
       "      <th>Low</th>\n",
       "      <th>Close</th>\n",
       "      <th>Adj Close</th>\n",
       "      <th>Volume</th>\n",
       "    </tr>\n",
       "    <tr>\n",
       "      <th>Date</th>\n",
       "      <th></th>\n",
       "      <th></th>\n",
       "      <th></th>\n",
       "      <th></th>\n",
       "      <th></th>\n",
       "      <th></th>\n",
       "    </tr>\n",
       "  </thead>\n",
       "  <tbody>\n",
       "    <tr>\n",
       "      <th>2023-01-03</th>\n",
       "      <td>243.080002</td>\n",
       "      <td>245.750000</td>\n",
       "      <td>237.399994</td>\n",
       "      <td>239.580002</td>\n",
       "      <td>236.183517</td>\n",
       "      <td>25740000</td>\n",
       "    </tr>\n",
       "    <tr>\n",
       "      <th>2023-01-04</th>\n",
       "      <td>232.279999</td>\n",
       "      <td>232.869995</td>\n",
       "      <td>225.960007</td>\n",
       "      <td>229.100006</td>\n",
       "      <td>225.852097</td>\n",
       "      <td>50623400</td>\n",
       "    </tr>\n",
       "    <tr>\n",
       "      <th>2023-01-05</th>\n",
       "      <td>227.199997</td>\n",
       "      <td>227.550003</td>\n",
       "      <td>221.759995</td>\n",
       "      <td>222.309998</td>\n",
       "      <td>219.158356</td>\n",
       "      <td>39585600</td>\n",
       "    </tr>\n",
       "    <tr>\n",
       "      <th>2023-01-06</th>\n",
       "      <td>223.000000</td>\n",
       "      <td>225.759995</td>\n",
       "      <td>219.350006</td>\n",
       "      <td>224.929993</td>\n",
       "      <td>221.741196</td>\n",
       "      <td>43613600</td>\n",
       "    </tr>\n",
       "    <tr>\n",
       "      <th>2023-01-09</th>\n",
       "      <td>226.449997</td>\n",
       "      <td>231.240005</td>\n",
       "      <td>226.410004</td>\n",
       "      <td>227.119995</td>\n",
       "      <td>223.900146</td>\n",
       "      <td>27369800</td>\n",
       "    </tr>\n",
       "  </tbody>\n",
       "</table>\n",
       "</div>"
      ],
      "text/plain": [
       "                  Open        High         Low       Close   Adj Close  \\\n",
       "Date                                                                     \n",
       "2023-01-03  243.080002  245.750000  237.399994  239.580002  236.183517   \n",
       "2023-01-04  232.279999  232.869995  225.960007  229.100006  225.852097   \n",
       "2023-01-05  227.199997  227.550003  221.759995  222.309998  219.158356   \n",
       "2023-01-06  223.000000  225.759995  219.350006  224.929993  221.741196   \n",
       "2023-01-09  226.449997  231.240005  226.410004  227.119995  223.900146   \n",
       "\n",
       "              Volume  \n",
       "Date                  \n",
       "2023-01-03  25740000  \n",
       "2023-01-04  50623400  \n",
       "2023-01-05  39585600  \n",
       "2023-01-06  43613600  \n",
       "2023-01-09  27369800  "
      ]
     },
     "execution_count": 6,
     "metadata": {},
     "output_type": "execute_result"
    }
   ],
   "source": [
    "# Define the stock symbol for Microsoft\n",
    "symbol = 'MSFT'\n",
    "data = yf.download(symbol, start='2023-01-01', end='2024-01-01')\n",
    "# Display the first few rows of the data \n",
    "data.head()"
   ]
  },
  {
   "cell_type": "code",
   "execution_count": null,
   "id": "df41aaaa",
   "metadata": {},
   "outputs": [],
   "source": []
  }
 ],
 "metadata": {
  "kernelspec": {
   "display_name": "Python 3 (ipykernel)",
   "language": "python",
   "name": "python3"
  },
  "language_info": {
   "codemirror_mode": {
    "name": "ipython",
    "version": 3
   },
   "file_extension": ".py",
   "mimetype": "text/x-python",
   "name": "python",
   "nbconvert_exporter": "python",
   "pygments_lexer": "ipython3",
   "version": "3.9.4"
  }
 },
 "nbformat": 4,
 "nbformat_minor": 5
}
