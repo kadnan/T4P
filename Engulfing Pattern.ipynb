{
 "cells": [
  {
   "cell_type": "code",
   "execution_count": 1,
   "id": "52ca0124",
   "metadata": {},
   "outputs": [],
   "source": [
    "import numpy as np\n",
    "import pandas as pd\n",
    "import pandas_ta as ta\n",
    "import matplotlib.pyplot as plt\n",
    "import yfinance as yf\n",
    "import mplfinance as mpf\n",
    "import requests\n",
    "import plotly.graph_objects as go\n",
    "import talib"
   ]
  },
  {
   "cell_type": "code",
   "execution_count": 2,
   "id": "1a83cd77",
   "metadata": {},
   "outputs": [],
   "source": [
    "def visualize(df, title=\"TSLA Candlestick Chart\"):\n",
    "    \"\"\"\n",
    "    Plots a candlestick chart using mplfinance for the given DataFrame.\n",
    "\n",
    "    Parameters:\n",
    "    df (pd.DataFrame): The DataFrame containing OHLC data.\n",
    "    title (str): The title of the chart.\n",
    "    \"\"\"\n",
    "    # Ensure the DataFrame index is a datetime index\n",
    "    df = df.copy()\n",
    "    df.index = pd.to_datetime(df.index)\n",
    "\n",
    "    # Plot the candlestick chart\n",
    "    mpf.plot(df, type='candle', style='charles', title=title, ylabel=\"Price\",\n",
    "             volume=True, figsize=(10, 5))\n",
    "\n",
    "def visualize_interactive(df, title=\"TSLA Candlestick Chart\"):\n",
    "    \"\"\"\n",
    "    Plots an interactive candlestick chart using Plotly.\n",
    "\n",
    "    Parameters:\n",
    "    df (pd.DataFrame): The DataFrame containing OHLC data.\n",
    "    title (str): The title of the chart.\n",
    "    \"\"\"\n",
    "    fig = go.Figure(data=[go.Candlestick(\n",
    "        x=df.index,\n",
    "        open=df['Open'],\n",
    "        high=df['High'],\n",
    "        low=df['Low'],\n",
    "        close=df['Close'],\n",
    "        name='TSLA'\n",
    "    )])\n",
    "\n",
    "    fig.update_layout(title=title, xaxis_rangeslider_visible=False)\n",
    "    fig.show()\n",
    "\n",
    "def get_tsla_recent_data():\n",
    "    session = requests.Session()\n",
    "    session.headers.update({'User-Agent': 'Mozilla/5.0 (Windows NT 10.0; Win64; x64) AppleWebKit/537.36 (KHTML, like Gecko) Chrome/58.0.3029.110 Safari/537.3'})\n",
    "    tsla = yf.Ticker('TSLA')\n",
    "    df = tsla.history(period='4mo', interval='1d')\n",
    "    return df\n",
    "\n",
    "def detect_engulfing_pattern(tsla_df):\n",
    "    tsla_df['Engulfing'] = ta.cdl_pattern(tsla_df['Open'], tsla_df['High'], tsla_df['Low'], tsla_df['Close'], name=\"engulfing\")\n",
    "    return tsla_df\n",
    "\n",
    "def visualize_engulfing_pattern(tsla_df):\n",
    "    # Create the candlestick chart\n",
    "    fig = go.Figure(data=[go.Candlestick(\n",
    "        x=tsla_df.index,\n",
    "        open=tsla_df['Open'],\n",
    "        high=tsla_df['High'],\n",
    "        low=tsla_df['Low'],\n",
    "        close=tsla_df['Close'],\n",
    "        name='TSLA'\n",
    "    )])\n",
    "\n",
    "    # Highlight Engulfing Patterns\n",
    "    engulfing_candles = tsla_df[tsla_df['Engulfing'] != 0]\n",
    "    \n",
    "    # Separate Bullish and Bearish Engulfing Patterns\n",
    "    bullish_engulfing = tsla_df[tsla_df['Engulfing'] == 100]\n",
    "    bearish_engulfing = tsla_df[tsla_df['Engulfing'] == -100]\n",
    "    \n",
    "    # Mark Bullish Engulfing Patterns (Green Triangle-Up)\n",
    "    fig.add_trace(go.Scatter(\n",
    "        x=bullish_engulfing.index,\n",
    "        y=bullish_engulfing['High']+10,\n",
    "        mode='markers',\n",
    "        marker=dict(size=10, color='green', symbol='triangle-up'),\n",
    "        name='Bullish Engulfing'\n",
    "    ))\n",
    "\n",
    "    # Mark Bearish Engulfing Patterns (Red Triangle-Down)\n",
    "    fig.add_trace(go.Scatter(\n",
    "        x=bearish_engulfing.index,\n",
    "        y=bearish_engulfing['High']+10,\n",
    "        mode='markers',\n",
    "        marker=dict(size=10, color='red', symbol='triangle-down'),\n",
    "        name='Bearish Engulfing'\n",
    "    ))\n",
    "\n",
    "    # Chart Layout\n",
    "    fig.update_layout(\n",
    "        title=\"TSLA Candlestick Chart with Engulfing Patterns\",\n",
    "        xaxis_title=\"Date\",\n",
    "        yaxis_title=\"Price\",\n",
    "        xaxis_rangeslider_visible=False\n",
    "    )\n",
    "\n",
    "    # Show the figure\n",
    "    fig.show()"
   ]
  },
  {
   "cell_type": "code",
   "execution_count": 3,
   "id": "f75a178d",
   "metadata": {},
   "outputs": [],
   "source": [
    "tsla_data = get_tsla_recent_data()"
   ]
  },
  {
   "cell_type": "code",
   "execution_count": 4,
   "id": "929db802",
   "metadata": {},
   "outputs": [],
   "source": [
    "tsla_data.to_csv(\"engulfing_patterns.csv\", index=True)  # Saves with index (Date)"
   ]
  },
  {
   "cell_type": "code",
   "execution_count": 5,
   "id": "239946f2",
   "metadata": {},
   "outputs": [
    {
     "data": {
      "application/vnd.plotly.v1+json": {
       "config": {
        "plotlyServerURL": "https://plot.ly"
       },
       "data": [
        {
         "close": {
          "bdata": "AAAAQDOfcUAAAAAgrk9yQAAAAGBmynFAAAAA4KMAcUAAAACgmXFxQAAAAEAzd3BAAAAAYLhqcEAAAADAzMRrQAAAAGCP0mxAAAAAQOECb0AAAACAwhVuQAAAACBcP29AAAAA4FHAbUAAAACA6ylsQAAAACCFe21AAAAA4FGIbUAAAABguBZvQAAAAIA9ZnFAAAAAgD0CckAAAADA9QBxQAAAAIAUEnFAAAAAwMx4cEAAAABgjzJwQAAAACBcx3BAAAAAACmscUAAAADgerRwQAAAAIDC7W1AAAAAoEcpbUAAAAAghbtrQAAAAEAzA3FAAAAAwMyMb0AAAACA64lvQAAAAEAzi29AAAAAIIXDb0AAAACgmTFuQAAAAADXK25AAAAAAABwbEAAAABACr9tQAAAACCuV29AAAAAACk4cEAAAABAM89xQAAAAIAU3nFAAAAA4HpAckAAAABgj6JxQAAAAOBRiHFAAAAAIFzzcUAAAAAAKYRxQAAAAKCZNXFAAAAAIIVDcUAAAADAHs1xQAAAAAAppHJAAAAAgBTmc0AAAADAHuF0QAAAAEDhunVAAAAAwB5tdUAAAAAgrt91QAAAAKBwYXVAAAAAwB59dUAAAACA6+l0QAAAAOCjUHVAAAAAoHA1dUAAAACAPa52QAAAAGBmTnZAAAAAQOFmdkAAAAAgXKd1QAAAAEAKa3VAAAAA4FGEdUAAAADAzMB0QAAAAEAzy3FAAAAAgD1yckAAAACgR0lzQAAAAKBwYXRAAAAAQOFmdEAAAACAwvFzQAAAAMD1VHRAAAAAgBSSdEAAAACgmcVzQAAAAMDMIHRAAAAAYI8idEAAAABA4cp1QAAAACCFR3VAAAAAwMx4dEAAAADgelx0QA==",
          "dtype": "f8"
         },
         "high": {
          "bdata": "AAAAIK6TckAAAACAFF5yQAAAAEAK/3JAAAAAoJnFcUAAAADAzHhxQAAAAGBmCnFAAAAAAACkcEAAAAAA16tvQAAAAIDroW1AAAAAQOF6b0AAAACgRwlvQAAAAGCPcm9AAAAAwMysbkAAAABAM8NsQAAAAMAeLW5AAAAAAADAbUAAAADgozBvQAAAAIA9anFAAAAAQDMDckAAAABgZs5xQAAAAKCZPXJAAAAAoJlBcUAAAADA9UhwQAAAAEAzV3FAAAAAANfPcUAAAADAzERxQAAAAAAAUHBAAAAAAACAb0AAAACAFE5vQAAAAEAKK3FAAAAAANdncEAAAAAA1xtwQAAAAMDMXHBAAAAAAAAscEAAAABACn9vQAAAAEDhim5AAAAAYLgGbUAAAACgR1luQAAAAEAzN3BAAAAA4KM4cEAAAACgme1xQAAAAIDCbXJAAAAAwB5VckAAAABAM8dxQAAAAIDrLXJAAAAA4HpsckAAAACgmc1xQAAAACCuW3FAAAAAYLhecUAAAADAzBxyQAAAAOCjMHNAAAAAIFwjdEAAAACgcBl1QAAAAAAA4HVAAAAAgD2idUAAAACA6/l1QAAAAAAAcHVAAAAAANcvdkAAAACgmbV1QAAAAOBRtHVAAAAAQOFydUAAAADgo7x2QAAAAAAA0HZAAAAAIFz7dkAAAABA4bp2QAAAAOBRwHVAAAAAYGY2dkAAAACgmZl1QAAAAMDMSHRAAAAAAAAYc0AAAACgR11zQAAAAKBHfXRAAAAAAAD4dEAAAADA9ch0QAAAAADXz3RAAAAAwMzAdEAAAAAAKXR0QAAAAMAelXRAAAAAgMLFdEAAAADgo1h2QAAAAAApRHZAAAAAAABwdUAAAADAzLB0QA==",
          "dtype": "f8"
         },
         "low": {
          "bdata": "AAAAgBSOcUAAAACgmRlxQAAAAMDMVHFAAAAAoHBdcEAAAAAgXLtwQAAAAOBRQHBAAAAAIFxXb0AAAAAAAIBrQAAAAOCjIGtAAAAAQDMjbkAAAABAMxNtQAAAACBcF25AAAAAoJkZbUAAAADA9chrQAAAAGBmpmxAAAAAoJnBbEAAAACgmVFtQAAAAKBHBXBAAAAA4Hr0cEAAAAAAKahwQAAAAMAe/XBAAAAAwB5JcEAAAAAghWtuQAAAAAAANHBAAAAA4KNob0AAAAAAKVhwQAAAAAAAgG1AAAAAAADIakAAAACgmTlrQAAAAAAp/GtAAAAAYI/qbUAAAAAghStuQAAAAIDCvW5AAAAAoEfxbkAAAADgejxtQAAAAIDCtW1AAAAAoEfZa0AAAABAM7tsQAAAAIDCjW5AAAAAYGYmb0AAAACAFDpwQAAAAGC4BnFAAAAAIIV3cUAAAADgeuxwQAAAAMD1fHFAAAAAwPV8cUAAAABgZiZxQAAAAKCZ9XBAAAAAAADwcEAAAABgj3ZxQAAAAAAAIHJAAAAAAAB4c0AAAADAzMxzQAAAAAAAEHVAAAAAIIXrdEAAAACgR2V1QAAAAIDr1XRAAAAAgBRadUAAAABAM8N0QAAAAIA9tnRAAAAAIFzTdEAAAADAHrV1QAAAAGCPPnZAAAAAAABAdkAAAADgo5R1QAAAAKBH1XRAAAAA4KNwdUAAAACgR3V0QAAAACBcE3FAAAAAgD0yckAAAACgmZ1xQAAAAGC4anNAAAAAAAAodEAAAACAws1zQAAAAMDMlHNAAAAAYI9mdEAAAAAA16tzQAAAAEAzt3NAAAAA4Hrcc0AAAAAgrnd0QAAAAEAKR3VAAAAAYGYGdEAAAACAwjl0QA==",
          "dtype": "f8"
         },
         "name": "TSLA",
         "open": {
          "bdata": "AAAAYI8yckAAAAAAAHhxQAAAAKBwxXJAAAAAQOHucEAAAABguA5xQAAAAMD1AHFAAAAAwB41cEAAAACgR5FvQAAAAIDrKWxAAAAAQArnbkAAAAAAKQRvQAAAAIDr6W5AAAAAgOuhbkAAAADAHoVsQAAAACCF82xAAAAAQDMrbUAAAAAgrl9tQAAAAKBHIXBAAAAAoJm5cUAAAABgj6pxQAAAACCuB3FAAAAAoEc5cUAAAACA6ylvQAAAAMDMfHBAAAAAQDPTb0AAAADgo5RwQAAAAAAp7G9AAAAAwPX4a0AAAAAAAKBuQAAAAIAUFmxAAAAAAABAcEAAAABA4XpvQAAAAIDCJXBAAAAAwB49b0AAAAAghfNuQAAAAEAKb25AAAAA4FHIbEAAAABguN5sQAAAACCF229AAAAAAABQb0AAAABACltwQAAAACCuD3JAAAAAAADYcUAAAABgZn5xQAAAAAApgHFAAAAAYGbOcUAAAADAHslxQAAAAIDCEXFAAAAAgBROcUAAAACAFHpxQAAAACBcI3JAAAAAANcfdEAAAAAAAAB0QAAAAAAAaHVAAAAAoHBFdUAAAAAA16N1QAAAAMDMBHVAAAAAgOu9dUAAAABA4YZ1QAAAAGBmvnRAAAAAYLgedUAAAACgmbV1QAAAAKBwzXZAAAAA4KPUdkAAAADgUTh2QAAAAAAAeHVAAAAAoJmpdUAAAACgmZF1QAAAAADXJ3RAAAAAoEetckAAAAAgXN9xQAAAAEAKr3NAAAAAYGbmdEAAAACgRzF0QAAAACCFn3NAAAAA4KO0dEAAAACgcGF0QAAAAMD11HNAAAAAQDN/dEAAAADgo3h0QAAAAGC4QnZAAAAAQDNrdUAAAACAwkl0QA==",
          "dtype": "f8"
         },
         "type": "candlestick",
         "x": [
          "2025-02-27T00:00:00-05:00",
          "2025-02-28T00:00:00-05:00",
          "2025-03-03T00:00:00-05:00",
          "2025-03-04T00:00:00-05:00",
          "2025-03-05T00:00:00-05:00",
          "2025-03-06T00:00:00-05:00",
          "2025-03-07T00:00:00-05:00",
          "2025-03-10T00:00:00-04:00",
          "2025-03-11T00:00:00-04:00",
          "2025-03-12T00:00:00-04:00",
          "2025-03-13T00:00:00-04:00",
          "2025-03-14T00:00:00-04:00",
          "2025-03-17T00:00:00-04:00",
          "2025-03-18T00:00:00-04:00",
          "2025-03-19T00:00:00-04:00",
          "2025-03-20T00:00:00-04:00",
          "2025-03-21T00:00:00-04:00",
          "2025-03-24T00:00:00-04:00",
          "2025-03-25T00:00:00-04:00",
          "2025-03-26T00:00:00-04:00",
          "2025-03-27T00:00:00-04:00",
          "2025-03-28T00:00:00-04:00",
          "2025-03-31T00:00:00-04:00",
          "2025-04-01T00:00:00-04:00",
          "2025-04-02T00:00:00-04:00",
          "2025-04-03T00:00:00-04:00",
          "2025-04-04T00:00:00-04:00",
          "2025-04-07T00:00:00-04:00",
          "2025-04-08T00:00:00-04:00",
          "2025-04-09T00:00:00-04:00",
          "2025-04-10T00:00:00-04:00",
          "2025-04-11T00:00:00-04:00",
          "2025-04-14T00:00:00-04:00",
          "2025-04-15T00:00:00-04:00",
          "2025-04-16T00:00:00-04:00",
          "2025-04-17T00:00:00-04:00",
          "2025-04-21T00:00:00-04:00",
          "2025-04-22T00:00:00-04:00",
          "2025-04-23T00:00:00-04:00",
          "2025-04-24T00:00:00-04:00",
          "2025-04-25T00:00:00-04:00",
          "2025-04-28T00:00:00-04:00",
          "2025-04-29T00:00:00-04:00",
          "2025-04-30T00:00:00-04:00",
          "2025-05-01T00:00:00-04:00",
          "2025-05-02T00:00:00-04:00",
          "2025-05-05T00:00:00-04:00",
          "2025-05-06T00:00:00-04:00",
          "2025-05-07T00:00:00-04:00",
          "2025-05-08T00:00:00-04:00",
          "2025-05-09T00:00:00-04:00",
          "2025-05-12T00:00:00-04:00",
          "2025-05-13T00:00:00-04:00",
          "2025-05-14T00:00:00-04:00",
          "2025-05-15T00:00:00-04:00",
          "2025-05-16T00:00:00-04:00",
          "2025-05-19T00:00:00-04:00",
          "2025-05-20T00:00:00-04:00",
          "2025-05-21T00:00:00-04:00",
          "2025-05-22T00:00:00-04:00",
          "2025-05-23T00:00:00-04:00",
          "2025-05-27T00:00:00-04:00",
          "2025-05-28T00:00:00-04:00",
          "2025-05-29T00:00:00-04:00",
          "2025-05-30T00:00:00-04:00",
          "2025-06-02T00:00:00-04:00",
          "2025-06-03T00:00:00-04:00",
          "2025-06-04T00:00:00-04:00",
          "2025-06-05T00:00:00-04:00",
          "2025-06-06T00:00:00-04:00",
          "2025-06-09T00:00:00-04:00",
          "2025-06-10T00:00:00-04:00",
          "2025-06-11T00:00:00-04:00",
          "2025-06-12T00:00:00-04:00",
          "2025-06-13T00:00:00-04:00",
          "2025-06-16T00:00:00-04:00",
          "2025-06-17T00:00:00-04:00",
          "2025-06-18T00:00:00-04:00",
          "2025-06-20T00:00:00-04:00",
          "2025-06-23T00:00:00-04:00",
          "2025-06-24T00:00:00-04:00",
          "2025-06-25T00:00:00-04:00",
          "2025-06-26T00:00:00-04:00"
         ]
        }
       ],
       "layout": {
        "template": {
         "data": {
          "bar": [
           {
            "error_x": {
             "color": "#2a3f5f"
            },
            "error_y": {
             "color": "#2a3f5f"
            },
            "marker": {
             "line": {
              "color": "#E5ECF6",
              "width": 0.5
             },
             "pattern": {
              "fillmode": "overlay",
              "size": 10,
              "solidity": 0.2
             }
            },
            "type": "bar"
           }
          ],
          "barpolar": [
           {
            "marker": {
             "line": {
              "color": "#E5ECF6",
              "width": 0.5
             },
             "pattern": {
              "fillmode": "overlay",
              "size": 10,
              "solidity": 0.2
             }
            },
            "type": "barpolar"
           }
          ],
          "carpet": [
           {
            "aaxis": {
             "endlinecolor": "#2a3f5f",
             "gridcolor": "white",
             "linecolor": "white",
             "minorgridcolor": "white",
             "startlinecolor": "#2a3f5f"
            },
            "baxis": {
             "endlinecolor": "#2a3f5f",
             "gridcolor": "white",
             "linecolor": "white",
             "minorgridcolor": "white",
             "startlinecolor": "#2a3f5f"
            },
            "type": "carpet"
           }
          ],
          "choropleth": [
           {
            "colorbar": {
             "outlinewidth": 0,
             "ticks": ""
            },
            "type": "choropleth"
           }
          ],
          "contour": [
           {
            "colorbar": {
             "outlinewidth": 0,
             "ticks": ""
            },
            "colorscale": [
             [
              0,
              "#0d0887"
             ],
             [
              0.1111111111111111,
              "#46039f"
             ],
             [
              0.2222222222222222,
              "#7201a8"
             ],
             [
              0.3333333333333333,
              "#9c179e"
             ],
             [
              0.4444444444444444,
              "#bd3786"
             ],
             [
              0.5555555555555556,
              "#d8576b"
             ],
             [
              0.6666666666666666,
              "#ed7953"
             ],
             [
              0.7777777777777778,
              "#fb9f3a"
             ],
             [
              0.8888888888888888,
              "#fdca26"
             ],
             [
              1,
              "#f0f921"
             ]
            ],
            "type": "contour"
           }
          ],
          "contourcarpet": [
           {
            "colorbar": {
             "outlinewidth": 0,
             "ticks": ""
            },
            "type": "contourcarpet"
           }
          ],
          "heatmap": [
           {
            "colorbar": {
             "outlinewidth": 0,
             "ticks": ""
            },
            "colorscale": [
             [
              0,
              "#0d0887"
             ],
             [
              0.1111111111111111,
              "#46039f"
             ],
             [
              0.2222222222222222,
              "#7201a8"
             ],
             [
              0.3333333333333333,
              "#9c179e"
             ],
             [
              0.4444444444444444,
              "#bd3786"
             ],
             [
              0.5555555555555556,
              "#d8576b"
             ],
             [
              0.6666666666666666,
              "#ed7953"
             ],
             [
              0.7777777777777778,
              "#fb9f3a"
             ],
             [
              0.8888888888888888,
              "#fdca26"
             ],
             [
              1,
              "#f0f921"
             ]
            ],
            "type": "heatmap"
           }
          ],
          "histogram": [
           {
            "marker": {
             "pattern": {
              "fillmode": "overlay",
              "size": 10,
              "solidity": 0.2
             }
            },
            "type": "histogram"
           }
          ],
          "histogram2d": [
           {
            "colorbar": {
             "outlinewidth": 0,
             "ticks": ""
            },
            "colorscale": [
             [
              0,
              "#0d0887"
             ],
             [
              0.1111111111111111,
              "#46039f"
             ],
             [
              0.2222222222222222,
              "#7201a8"
             ],
             [
              0.3333333333333333,
              "#9c179e"
             ],
             [
              0.4444444444444444,
              "#bd3786"
             ],
             [
              0.5555555555555556,
              "#d8576b"
             ],
             [
              0.6666666666666666,
              "#ed7953"
             ],
             [
              0.7777777777777778,
              "#fb9f3a"
             ],
             [
              0.8888888888888888,
              "#fdca26"
             ],
             [
              1,
              "#f0f921"
             ]
            ],
            "type": "histogram2d"
           }
          ],
          "histogram2dcontour": [
           {
            "colorbar": {
             "outlinewidth": 0,
             "ticks": ""
            },
            "colorscale": [
             [
              0,
              "#0d0887"
             ],
             [
              0.1111111111111111,
              "#46039f"
             ],
             [
              0.2222222222222222,
              "#7201a8"
             ],
             [
              0.3333333333333333,
              "#9c179e"
             ],
             [
              0.4444444444444444,
              "#bd3786"
             ],
             [
              0.5555555555555556,
              "#d8576b"
             ],
             [
              0.6666666666666666,
              "#ed7953"
             ],
             [
              0.7777777777777778,
              "#fb9f3a"
             ],
             [
              0.8888888888888888,
              "#fdca26"
             ],
             [
              1,
              "#f0f921"
             ]
            ],
            "type": "histogram2dcontour"
           }
          ],
          "mesh3d": [
           {
            "colorbar": {
             "outlinewidth": 0,
             "ticks": ""
            },
            "type": "mesh3d"
           }
          ],
          "parcoords": [
           {
            "line": {
             "colorbar": {
              "outlinewidth": 0,
              "ticks": ""
             }
            },
            "type": "parcoords"
           }
          ],
          "pie": [
           {
            "automargin": true,
            "type": "pie"
           }
          ],
          "scatter": [
           {
            "fillpattern": {
             "fillmode": "overlay",
             "size": 10,
             "solidity": 0.2
            },
            "type": "scatter"
           }
          ],
          "scatter3d": [
           {
            "line": {
             "colorbar": {
              "outlinewidth": 0,
              "ticks": ""
             }
            },
            "marker": {
             "colorbar": {
              "outlinewidth": 0,
              "ticks": ""
             }
            },
            "type": "scatter3d"
           }
          ],
          "scattercarpet": [
           {
            "marker": {
             "colorbar": {
              "outlinewidth": 0,
              "ticks": ""
             }
            },
            "type": "scattercarpet"
           }
          ],
          "scattergeo": [
           {
            "marker": {
             "colorbar": {
              "outlinewidth": 0,
              "ticks": ""
             }
            },
            "type": "scattergeo"
           }
          ],
          "scattergl": [
           {
            "marker": {
             "colorbar": {
              "outlinewidth": 0,
              "ticks": ""
             }
            },
            "type": "scattergl"
           }
          ],
          "scattermap": [
           {
            "marker": {
             "colorbar": {
              "outlinewidth": 0,
              "ticks": ""
             }
            },
            "type": "scattermap"
           }
          ],
          "scattermapbox": [
           {
            "marker": {
             "colorbar": {
              "outlinewidth": 0,
              "ticks": ""
             }
            },
            "type": "scattermapbox"
           }
          ],
          "scatterpolar": [
           {
            "marker": {
             "colorbar": {
              "outlinewidth": 0,
              "ticks": ""
             }
            },
            "type": "scatterpolar"
           }
          ],
          "scatterpolargl": [
           {
            "marker": {
             "colorbar": {
              "outlinewidth": 0,
              "ticks": ""
             }
            },
            "type": "scatterpolargl"
           }
          ],
          "scatterternary": [
           {
            "marker": {
             "colorbar": {
              "outlinewidth": 0,
              "ticks": ""
             }
            },
            "type": "scatterternary"
           }
          ],
          "surface": [
           {
            "colorbar": {
             "outlinewidth": 0,
             "ticks": ""
            },
            "colorscale": [
             [
              0,
              "#0d0887"
             ],
             [
              0.1111111111111111,
              "#46039f"
             ],
             [
              0.2222222222222222,
              "#7201a8"
             ],
             [
              0.3333333333333333,
              "#9c179e"
             ],
             [
              0.4444444444444444,
              "#bd3786"
             ],
             [
              0.5555555555555556,
              "#d8576b"
             ],
             [
              0.6666666666666666,
              "#ed7953"
             ],
             [
              0.7777777777777778,
              "#fb9f3a"
             ],
             [
              0.8888888888888888,
              "#fdca26"
             ],
             [
              1,
              "#f0f921"
             ]
            ],
            "type": "surface"
           }
          ],
          "table": [
           {
            "cells": {
             "fill": {
              "color": "#EBF0F8"
             },
             "line": {
              "color": "white"
             }
            },
            "header": {
             "fill": {
              "color": "#C8D4E3"
             },
             "line": {
              "color": "white"
             }
            },
            "type": "table"
           }
          ]
         },
         "layout": {
          "annotationdefaults": {
           "arrowcolor": "#2a3f5f",
           "arrowhead": 0,
           "arrowwidth": 1
          },
          "autotypenumbers": "strict",
          "coloraxis": {
           "colorbar": {
            "outlinewidth": 0,
            "ticks": ""
           }
          },
          "colorscale": {
           "diverging": [
            [
             0,
             "#8e0152"
            ],
            [
             0.1,
             "#c51b7d"
            ],
            [
             0.2,
             "#de77ae"
            ],
            [
             0.3,
             "#f1b6da"
            ],
            [
             0.4,
             "#fde0ef"
            ],
            [
             0.5,
             "#f7f7f7"
            ],
            [
             0.6,
             "#e6f5d0"
            ],
            [
             0.7,
             "#b8e186"
            ],
            [
             0.8,
             "#7fbc41"
            ],
            [
             0.9,
             "#4d9221"
            ],
            [
             1,
             "#276419"
            ]
           ],
           "sequential": [
            [
             0,
             "#0d0887"
            ],
            [
             0.1111111111111111,
             "#46039f"
            ],
            [
             0.2222222222222222,
             "#7201a8"
            ],
            [
             0.3333333333333333,
             "#9c179e"
            ],
            [
             0.4444444444444444,
             "#bd3786"
            ],
            [
             0.5555555555555556,
             "#d8576b"
            ],
            [
             0.6666666666666666,
             "#ed7953"
            ],
            [
             0.7777777777777778,
             "#fb9f3a"
            ],
            [
             0.8888888888888888,
             "#fdca26"
            ],
            [
             1,
             "#f0f921"
            ]
           ],
           "sequentialminus": [
            [
             0,
             "#0d0887"
            ],
            [
             0.1111111111111111,
             "#46039f"
            ],
            [
             0.2222222222222222,
             "#7201a8"
            ],
            [
             0.3333333333333333,
             "#9c179e"
            ],
            [
             0.4444444444444444,
             "#bd3786"
            ],
            [
             0.5555555555555556,
             "#d8576b"
            ],
            [
             0.6666666666666666,
             "#ed7953"
            ],
            [
             0.7777777777777778,
             "#fb9f3a"
            ],
            [
             0.8888888888888888,
             "#fdca26"
            ],
            [
             1,
             "#f0f921"
            ]
           ]
          },
          "colorway": [
           "#636efa",
           "#EF553B",
           "#00cc96",
           "#ab63fa",
           "#FFA15A",
           "#19d3f3",
           "#FF6692",
           "#B6E880",
           "#FF97FF",
           "#FECB52"
          ],
          "font": {
           "color": "#2a3f5f"
          },
          "geo": {
           "bgcolor": "white",
           "lakecolor": "white",
           "landcolor": "#E5ECF6",
           "showlakes": true,
           "showland": true,
           "subunitcolor": "white"
          },
          "hoverlabel": {
           "align": "left"
          },
          "hovermode": "closest",
          "mapbox": {
           "style": "light"
          },
          "paper_bgcolor": "white",
          "plot_bgcolor": "#E5ECF6",
          "polar": {
           "angularaxis": {
            "gridcolor": "white",
            "linecolor": "white",
            "ticks": ""
           },
           "bgcolor": "#E5ECF6",
           "radialaxis": {
            "gridcolor": "white",
            "linecolor": "white",
            "ticks": ""
           }
          },
          "scene": {
           "xaxis": {
            "backgroundcolor": "#E5ECF6",
            "gridcolor": "white",
            "gridwidth": 2,
            "linecolor": "white",
            "showbackground": true,
            "ticks": "",
            "zerolinecolor": "white"
           },
           "yaxis": {
            "backgroundcolor": "#E5ECF6",
            "gridcolor": "white",
            "gridwidth": 2,
            "linecolor": "white",
            "showbackground": true,
            "ticks": "",
            "zerolinecolor": "white"
           },
           "zaxis": {
            "backgroundcolor": "#E5ECF6",
            "gridcolor": "white",
            "gridwidth": 2,
            "linecolor": "white",
            "showbackground": true,
            "ticks": "",
            "zerolinecolor": "white"
           }
          },
          "shapedefaults": {
           "line": {
            "color": "#2a3f5f"
           }
          },
          "ternary": {
           "aaxis": {
            "gridcolor": "white",
            "linecolor": "white",
            "ticks": ""
           },
           "baxis": {
            "gridcolor": "white",
            "linecolor": "white",
            "ticks": ""
           },
           "bgcolor": "#E5ECF6",
           "caxis": {
            "gridcolor": "white",
            "linecolor": "white",
            "ticks": ""
           }
          },
          "title": {
           "x": 0.05
          },
          "xaxis": {
           "automargin": true,
           "gridcolor": "white",
           "linecolor": "white",
           "ticks": "",
           "title": {
            "standoff": 15
           },
           "zerolinecolor": "white",
           "zerolinewidth": 2
          },
          "yaxis": {
           "automargin": true,
           "gridcolor": "white",
           "linecolor": "white",
           "ticks": "",
           "title": {
            "standoff": 15
           },
           "zerolinecolor": "white",
           "zerolinewidth": 2
          }
         }
        },
        "title": {
         "text": "TSLA Candlestick Chart"
        },
        "xaxis": {
         "rangeslider": {
          "visible": false
         }
        }
       }
      },
      "image/png": "[encoded data removed]"
     },
     "metadata": {},
     "output_type": "display_data"
    }
   ],
   "source": [
    "#visualize(tsla_data)\n",
    "visualize_interactive(tsla_data)"
   ]
  },
  {
   "cell_type": "code",
   "execution_count": 6,
   "id": "1cb367b8",
   "metadata": {},
   "outputs": [
    {
     "data": {
      "text/html": [
       "<div>\n",
       "<style scoped>\n",
       "    .dataframe tbody tr th:only-of-type {\n",
       "        vertical-align: middle;\n",
       "    }\n",
       "\n",
       "    .dataframe tbody tr th {\n",
       "        vertical-align: top;\n",
       "    }\n",
       "\n",
       "    .dataframe thead th {\n",
       "        text-align: right;\n",
       "    }\n",
       "</style>\n",
       "<table border=\"1\" class=\"dataframe\">\n",
       "  <thead>\n",
       "    <tr style=\"text-align: right;\">\n",
       "      <th></th>\n",
       "      <th>Open</th>\n",
       "      <th>High</th>\n",
       "      <th>Low</th>\n",
       "      <th>Close</th>\n",
       "      <th>Volume</th>\n",
       "      <th>Dividends</th>\n",
       "      <th>Stock Splits</th>\n",
       "      <th>Engulfing</th>\n",
       "    </tr>\n",
       "    <tr>\n",
       "      <th>Date</th>\n",
       "      <th></th>\n",
       "      <th></th>\n",
       "      <th></th>\n",
       "      <th></th>\n",
       "      <th></th>\n",
       "      <th></th>\n",
       "      <th></th>\n",
       "      <th></th>\n",
       "    </tr>\n",
       "  </thead>\n",
       "  <tbody>\n",
       "    <tr>\n",
       "      <th>2025-03-13 00:00:00-04:00</th>\n",
       "      <td>248.130005</td>\n",
       "      <td>248.289993</td>\n",
       "      <td>232.600006</td>\n",
       "      <td>240.679993</td>\n",
       "      <td>114813500</td>\n",
       "      <td>0.0</td>\n",
       "      <td>0.0</td>\n",
       "      <td>-100.0</td>\n",
       "    </tr>\n",
       "    <tr>\n",
       "      <th>2025-03-28 00:00:00-04:00</th>\n",
       "      <td>275.579987</td>\n",
       "      <td>276.100006</td>\n",
       "      <td>260.570007</td>\n",
       "      <td>263.549988</td>\n",
       "      <td>123809400</td>\n",
       "      <td>0.0</td>\n",
       "      <td>0.0</td>\n",
       "      <td>-100.0</td>\n",
       "    </tr>\n",
       "    <tr>\n",
       "      <th>2025-04-08 00:00:00-04:00</th>\n",
       "      <td>245.000000</td>\n",
       "      <td>250.440002</td>\n",
       "      <td>217.800003</td>\n",
       "      <td>221.860001</td>\n",
       "      <td>171603500</td>\n",
       "      <td>0.0</td>\n",
       "      <td>0.0</td>\n",
       "      <td>-100.0</td>\n",
       "    </tr>\n",
       "    <tr>\n",
       "      <th>2025-04-24 00:00:00-04:00</th>\n",
       "      <td>250.500000</td>\n",
       "      <td>259.540009</td>\n",
       "      <td>249.199997</td>\n",
       "      <td>259.510010</td>\n",
       "      <td>94464200</td>\n",
       "      <td>0.0</td>\n",
       "      <td>0.0</td>\n",
       "      <td>100.0</td>\n",
       "    </tr>\n",
       "    <tr>\n",
       "      <th>2025-04-29 00:00:00-04:00</th>\n",
       "      <td>285.500000</td>\n",
       "      <td>293.320007</td>\n",
       "      <td>279.470001</td>\n",
       "      <td>292.029999</td>\n",
       "      <td>108906600</td>\n",
       "      <td>0.0</td>\n",
       "      <td>0.0</td>\n",
       "      <td>100.0</td>\n",
       "    </tr>\n",
       "    <tr>\n",
       "      <th>2025-06-09 00:00:00-04:00</th>\n",
       "      <td>285.959991</td>\n",
       "      <td>309.829987</td>\n",
       "      <td>281.850006</td>\n",
       "      <td>308.579987</td>\n",
       "      <td>140908900</td>\n",
       "      <td>0.0</td>\n",
       "      <td>0.0</td>\n",
       "      <td>100.0</td>\n",
       "    </tr>\n",
       "    <tr>\n",
       "      <th>2025-06-13 00:00:00-04:00</th>\n",
       "      <td>313.970001</td>\n",
       "      <td>332.989990</td>\n",
       "      <td>313.299988</td>\n",
       "      <td>325.309998</td>\n",
       "      <td>128964300</td>\n",
       "      <td>0.0</td>\n",
       "      <td>0.0</td>\n",
       "      <td>100.0</td>\n",
       "    </tr>\n",
       "  </tbody>\n",
       "</table>\n",
       "</div>"
      ],
      "text/plain": [
       "                                 Open        High         Low       Close  \\\n",
       "Date                                                                        \n",
       "2025-03-13 00:00:00-04:00  248.130005  248.289993  232.600006  240.679993   \n",
       "2025-03-28 00:00:00-04:00  275.579987  276.100006  260.570007  263.549988   \n",
       "2025-04-08 00:00:00-04:00  245.000000  250.440002  217.800003  221.860001   \n",
       "2025-04-24 00:00:00-04:00  250.500000  259.540009  249.199997  259.510010   \n",
       "2025-04-29 00:00:00-04:00  285.500000  293.320007  279.470001  292.029999   \n",
       "2025-06-09 00:00:00-04:00  285.959991  309.829987  281.850006  308.579987   \n",
       "2025-06-13 00:00:00-04:00  313.970001  332.989990  313.299988  325.309998   \n",
       "\n",
       "                              Volume  Dividends  Stock Splits  Engulfing  \n",
       "Date                                                                      \n",
       "2025-03-13 00:00:00-04:00  114813500        0.0           0.0     -100.0  \n",
       "2025-03-28 00:00:00-04:00  123809400        0.0           0.0     -100.0  \n",
       "2025-04-08 00:00:00-04:00  171603500        0.0           0.0     -100.0  \n",
       "2025-04-24 00:00:00-04:00   94464200        0.0           0.0      100.0  \n",
       "2025-04-29 00:00:00-04:00  108906600        0.0           0.0      100.0  \n",
       "2025-06-09 00:00:00-04:00  140908900        0.0           0.0      100.0  \n",
       "2025-06-13 00:00:00-04:00  128964300        0.0           0.0      100.0  "
      ]
     },
     "execution_count": 6,
     "metadata": {},
     "output_type": "execute_result"
    }
   ],
   "source": [
    "#Run the function and get Engulfing Pattern data\n",
    "engulfing_patterns = detect_engulfing_pattern(tsla_data)\n",
    "\n",
    "engulfing_df = engulfing_patterns[engulfing_patterns['Engulfing'] != 0]\n",
    "engulfing_df"
   ]
  },
  {
   "cell_type": "markdown",
   "id": "31551189",
   "metadata": {},
   "source": [
    "### Displaying markers"
   ]
  },
  {
   "cell_type": "code",
   "execution_count": 7,
   "id": "cea0a4e4",
   "metadata": {},
   "outputs": [
    {
     "data": {
      "application/vnd.plotly.v1+json": {
       "config": {
        "plotlyServerURL": "https://plot.ly"
       },
       "data": [
        {
         "close": {
          "bdata": "AAAAQDOfcUAAAAAgrk9yQAAAAGBmynFAAAAA4KMAcUAAAACgmXFxQAAAAEAzd3BAAAAAYLhqcEAAAADAzMRrQAAAAGCP0mxAAAAAQOECb0AAAACAwhVuQAAAACBcP29AAAAA4FHAbUAAAACA6ylsQAAAACCFe21AAAAA4FGIbUAAAABguBZvQAAAAIA9ZnFAAAAAgD0CckAAAADA9QBxQAAAAIAUEnFAAAAAwMx4cEAAAABgjzJwQAAAACBcx3BAAAAAACmscUAAAADgerRwQAAAAIDC7W1AAAAAoEcpbUAAAAAghbtrQAAAAEAzA3FAAAAAwMyMb0AAAACA64lvQAAAAEAzi29AAAAAIIXDb0AAAACgmTFuQAAAAADXK25AAAAAAABwbEAAAABACr9tQAAAACCuV29AAAAAACk4cEAAAABAM89xQAAAAIAU3nFAAAAA4HpAckAAAABgj6JxQAAAAOBRiHFAAAAAIFzzcUAAAAAAKYRxQAAAAKCZNXFAAAAAIIVDcUAAAADAHs1xQAAAAAAppHJAAAAAgBTmc0AAAADAHuF0QAAAAEDhunVAAAAAwB5tdUAAAAAgrt91QAAAAKBwYXVAAAAAwB59dUAAAACA6+l0QAAAAOCjUHVAAAAAoHA1dUAAAACAPa52QAAAAGBmTnZAAAAAQOFmdkAAAAAgXKd1QAAAAEAKa3VAAAAA4FGEdUAAAADAzMB0QAAAAEAzy3FAAAAAgD1yckAAAACgR0lzQAAAAKBwYXRAAAAAQOFmdEAAAACAwvFzQAAAAMD1VHRAAAAAgBSSdEAAAACgmcVzQAAAAMDMIHRAAAAAYI8idEAAAABA4cp1QAAAACCFR3VAAAAAwMx4dEAAAADgelx0QA==",
          "dtype": "f8"
         },
         "high": {
          "bdata": "AAAAIK6TckAAAACAFF5yQAAAAEAK/3JAAAAAoJnFcUAAAADAzHhxQAAAAGBmCnFAAAAAAACkcEAAAAAA16tvQAAAAIDroW1AAAAAQOF6b0AAAACgRwlvQAAAAGCPcm9AAAAAwMysbkAAAABAM8NsQAAAAMAeLW5AAAAAAADAbUAAAADgozBvQAAAAIA9anFAAAAAQDMDckAAAABgZs5xQAAAAKCZPXJAAAAAoJlBcUAAAADA9UhwQAAAAEAzV3FAAAAAANfPcUAAAADAzERxQAAAAAAAUHBAAAAAAACAb0AAAACAFE5vQAAAAEAKK3FAAAAAANdncEAAAAAA1xtwQAAAAMDMXHBAAAAAAAAscEAAAABACn9vQAAAAEDhim5AAAAAYLgGbUAAAACgR1luQAAAAEAzN3BAAAAA4KM4cEAAAACgme1xQAAAAIDCbXJAAAAAwB5VckAAAABAM8dxQAAAAIDrLXJAAAAA4HpsckAAAACgmc1xQAAAACCuW3FAAAAAYLhecUAAAADAzBxyQAAAAOCjMHNAAAAAIFwjdEAAAACgcBl1QAAAAAAA4HVAAAAAgD2idUAAAACA6/l1QAAAAAAAcHVAAAAAANcvdkAAAACgmbV1QAAAAOBRtHVAAAAAQOFydUAAAADgo7x2QAAAAAAA0HZAAAAAIFz7dkAAAABA4bp2QAAAAOBRwHVAAAAAYGY2dkAAAACgmZl1QAAAAMDMSHRAAAAAAAAYc0AAAACgR11zQAAAAKBHfXRAAAAAAAD4dEAAAADA9ch0QAAAAADXz3RAAAAAwMzAdEAAAAAAKXR0QAAAAMAelXRAAAAAgMLFdEAAAADgo1h2QAAAAAApRHZAAAAAAABwdUAAAADAzLB0QA==",
          "dtype": "f8"
         },
         "low": {
          "bdata": "AAAAgBSOcUAAAACgmRlxQAAAAMDMVHFAAAAAoHBdcEAAAAAgXLtwQAAAAOBRQHBAAAAAIFxXb0AAAAAAAIBrQAAAAOCjIGtAAAAAQDMjbkAAAABAMxNtQAAAACBcF25AAAAAoJkZbUAAAADA9chrQAAAAGBmpmxAAAAAoJnBbEAAAACgmVFtQAAAAKBHBXBAAAAA4Hr0cEAAAAAAKahwQAAAAMAe/XBAAAAAwB5JcEAAAAAghWtuQAAAAAAANHBAAAAA4KNob0AAAAAAKVhwQAAAAAAAgG1AAAAAAADIakAAAACgmTlrQAAAAAAp/GtAAAAAYI/qbUAAAAAghStuQAAAAIDCvW5AAAAAoEfxbkAAAADgejxtQAAAAIDCtW1AAAAAoEfZa0AAAABAM7tsQAAAAIDCjW5AAAAAYGYmb0AAAACAFDpwQAAAAGC4BnFAAAAAIIV3cUAAAADgeuxwQAAAAMD1fHFAAAAAwPV8cUAAAABgZiZxQAAAAKCZ9XBAAAAAAADwcEAAAABgj3ZxQAAAAAAAIHJAAAAAAAB4c0AAAADAzMxzQAAAAAAAEHVAAAAAIIXrdEAAAACgR2V1QAAAAIDr1XRAAAAAgBRadUAAAABAM8N0QAAAAIA9tnRAAAAAIFzTdEAAAADAHrV1QAAAAGCPPnZAAAAAAABAdkAAAADgo5R1QAAAAKBH1XRAAAAA4KNwdUAAAACgR3V0QAAAACBcE3FAAAAAgD0yckAAAACgmZ1xQAAAAGC4anNAAAAAAAAodEAAAACAws1zQAAAAMDMlHNAAAAAYI9mdEAAAAAA16tzQAAAAEAzt3NAAAAA4Hrcc0AAAAAgrnd0QAAAAEAKR3VAAAAAYGYGdEAAAACAwjl0QA==",
          "dtype": "f8"
         },
         "name": "TSLA",
         "open": {
          "bdata": "AAAAYI8yckAAAAAAAHhxQAAAAKBwxXJAAAAAQOHucEAAAABguA5xQAAAAMD1AHFAAAAAwB41cEAAAACgR5FvQAAAAIDrKWxAAAAAQArnbkAAAAAAKQRvQAAAAIDr6W5AAAAAgOuhbkAAAADAHoVsQAAAACCF82xAAAAAQDMrbUAAAAAgrl9tQAAAAKBHIXBAAAAAoJm5cUAAAABgj6pxQAAAACCuB3FAAAAAoEc5cUAAAACA6ylvQAAAAMDMfHBAAAAAQDPTb0AAAADgo5RwQAAAAAAp7G9AAAAAwPX4a0AAAAAAAKBuQAAAAIAUFmxAAAAAAABAcEAAAABA4XpvQAAAAIDCJXBAAAAAwB49b0AAAAAghfNuQAAAAEAKb25AAAAA4FHIbEAAAABguN5sQAAAACCF229AAAAAAABQb0AAAABACltwQAAAACCuD3JAAAAAAADYcUAAAABgZn5xQAAAAAApgHFAAAAAYGbOcUAAAADAHslxQAAAAIDCEXFAAAAAgBROcUAAAACAFHpxQAAAACBcI3JAAAAAANcfdEAAAAAAAAB0QAAAAAAAaHVAAAAAoHBFdUAAAAAA16N1QAAAAMDMBHVAAAAAgOu9dUAAAABA4YZ1QAAAAGBmvnRAAAAAYLgedUAAAACgmbV1QAAAAKBwzXZAAAAA4KPUdkAAAADgUTh2QAAAAAAAeHVAAAAAoJmpdUAAAACgmZF1QAAAAADXJ3RAAAAAoEetckAAAAAgXN9xQAAAAEAKr3NAAAAAYGbmdEAAAACgRzF0QAAAACCFn3NAAAAA4KO0dEAAAACgcGF0QAAAAMD11HNAAAAAQDN/dEAAAADgo3h0QAAAAGC4QnZAAAAAQDNrdUAAAACAwkl0QA==",
          "dtype": "f8"
         },
         "type": "candlestick",
         "x": [
          "2025-02-27T00:00:00-05:00",
          "2025-02-28T00:00:00-05:00",
          "2025-03-03T00:00:00-05:00",
          "2025-03-04T00:00:00-05:00",
          "2025-03-05T00:00:00-05:00",
          "2025-03-06T00:00:00-05:00",
          "2025-03-07T00:00:00-05:00",
          "2025-03-10T00:00:00-04:00",
          "2025-03-11T00:00:00-04:00",
          "2025-03-12T00:00:00-04:00",
          "2025-03-13T00:00:00-04:00",
          "2025-03-14T00:00:00-04:00",
          "2025-03-17T00:00:00-04:00",
          "2025-03-18T00:00:00-04:00",
          "2025-03-19T00:00:00-04:00",
          "2025-03-20T00:00:00-04:00",
          "2025-03-21T00:00:00-04:00",
          "2025-03-24T00:00:00-04:00",
          "2025-03-25T00:00:00-04:00",
          "2025-03-26T00:00:00-04:00",
          "2025-03-27T00:00:00-04:00",
          "2025-03-28T00:00:00-04:00",
          "2025-03-31T00:00:00-04:00",
          "2025-04-01T00:00:00-04:00",
          "2025-04-02T00:00:00-04:00",
          "2025-04-03T00:00:00-04:00",
          "2025-04-04T00:00:00-04:00",
          "2025-04-07T00:00:00-04:00",
          "2025-04-08T00:00:00-04:00",
          "2025-04-09T00:00:00-04:00",
          "2025-04-10T00:00:00-04:00",
          "2025-04-11T00:00:00-04:00",
          "2025-04-14T00:00:00-04:00",
          "2025-04-15T00:00:00-04:00",
          "2025-04-16T00:00:00-04:00",
          "2025-04-17T00:00:00-04:00",
          "2025-04-21T00:00:00-04:00",
          "2025-04-22T00:00:00-04:00",
          "2025-04-23T00:00:00-04:00",
          "2025-04-24T00:00:00-04:00",
          "2025-04-25T00:00:00-04:00",
          "2025-04-28T00:00:00-04:00",
          "2025-04-29T00:00:00-04:00",
          "2025-04-30T00:00:00-04:00",
          "2025-05-01T00:00:00-04:00",
          "2025-05-02T00:00:00-04:00",
          "2025-05-05T00:00:00-04:00",
          "2025-05-06T00:00:00-04:00",
          "2025-05-07T00:00:00-04:00",
          "2025-05-08T00:00:00-04:00",
          "2025-05-09T00:00:00-04:00",
          "2025-05-12T00:00:00-04:00",
          "2025-05-13T00:00:00-04:00",
          "2025-05-14T00:00:00-04:00",
          "2025-05-15T00:00:00-04:00",
          "2025-05-16T00:00:00-04:00",
          "2025-05-19T00:00:00-04:00",
          "2025-05-20T00:00:00-04:00",
          "2025-05-21T00:00:00-04:00",
          "2025-05-22T00:00:00-04:00",
          "2025-05-23T00:00:00-04:00",
          "2025-05-27T00:00:00-04:00",
          "2025-05-28T00:00:00-04:00",
          "2025-05-29T00:00:00-04:00",
          "2025-05-30T00:00:00-04:00",
          "2025-06-02T00:00:00-04:00",
          "2025-06-03T00:00:00-04:00",
          "2025-06-04T00:00:00-04:00",
          "2025-06-05T00:00:00-04:00",
          "2025-06-06T00:00:00-04:00",
          "2025-06-09T00:00:00-04:00",
          "2025-06-10T00:00:00-04:00",
          "2025-06-11T00:00:00-04:00",
          "2025-06-12T00:00:00-04:00",
          "2025-06-13T00:00:00-04:00",
          "2025-06-16T00:00:00-04:00",
          "2025-06-17T00:00:00-04:00",
          "2025-06-18T00:00:00-04:00",
          "2025-06-20T00:00:00-04:00",
          "2025-06-23T00:00:00-04:00",
          "2025-06-24T00:00:00-04:00",
          "2025-06-25T00:00:00-04:00",
          "2025-06-26T00:00:00-04:00"
         ]
        },
        {
         "marker": {
          "color": "green",
          "size": 10,
          "symbol": "triangle-up"
         },
         "mode": "markers",
         "name": "Bullish Engulfing",
         "type": "scatter",
         "x": [
          "2025-04-24T00:00:00-04:00",
          "2025-04-29T00:00:00-04:00",
          "2025-06-09T00:00:00-04:00",
          "2025-06-13T00:00:00-04:00"
         ],
         "y": {
          "bdata": "AAAA4KPYcEAAAADAHvVyQAAAAKBH/XNAAAAAANdvdUA=",
          "dtype": "f8"
         }
        },
        {
         "marker": {
          "color": "red",
          "size": 10,
          "symbol": "triangle-down"
         },
         "mode": "markers",
         "name": "Bearish Engulfing",
         "type": "scatter",
         "x": [
          "2025-03-13T00:00:00-04:00",
          "2025-03-28T00:00:00-04:00",
          "2025-04-08T00:00:00-04:00"
         ],
         "y": {
          "bdata": "AAAA0KMkcEAAAACgmeFxQAAAAEAKR3BA",
          "dtype": "f8"
         }
        }
       ],
       "layout": {
        "template": {
         "data": {
          "bar": [
           {
            "error_x": {
             "color": "#2a3f5f"
            },
            "error_y": {
             "color": "#2a3f5f"
            },
            "marker": {
             "line": {
              "color": "#E5ECF6",
              "width": 0.5
             },
             "pattern": {
              "fillmode": "overlay",
              "size": 10,
              "solidity": 0.2
             }
            },
            "type": "bar"
           }
          ],
          "barpolar": [
           {
            "marker": {
             "line": {
              "color": "#E5ECF6",
              "width": 0.5
             },
             "pattern": {
              "fillmode": "overlay",
              "size": 10,
              "solidity": 0.2
             }
            },
            "type": "barpolar"
           }
          ],
          "carpet": [
           {
            "aaxis": {
             "endlinecolor": "#2a3f5f",
             "gridcolor": "white",
             "linecolor": "white",
             "minorgridcolor": "white",
             "startlinecolor": "#2a3f5f"
            },
            "baxis": {
             "endlinecolor": "#2a3f5f",
             "gridcolor": "white",
             "linecolor": "white",
             "minorgridcolor": "white",
             "startlinecolor": "#2a3f5f"
            },
            "type": "carpet"
           }
          ],
          "choropleth": [
           {
            "colorbar": {
             "outlinewidth": 0,
             "ticks": ""
            },
            "type": "choropleth"
           }
          ],
          "contour": [
           {
            "colorbar": {
             "outlinewidth": 0,
             "ticks": ""
            },
            "colorscale": [
             [
              0,
              "#0d0887"
             ],
             [
              0.1111111111111111,
              "#46039f"
             ],
             [
              0.2222222222222222,
              "#7201a8"
             ],
             [
              0.3333333333333333,
              "#9c179e"
             ],
             [
              0.4444444444444444,
              "#bd3786"
             ],
             [
              0.5555555555555556,
              "#d8576b"
             ],
             [
              0.6666666666666666,
              "#ed7953"
             ],
             [
              0.7777777777777778,
              "#fb9f3a"
             ],
             [
              0.8888888888888888,
              "#fdca26"
             ],
             [
              1,
              "#f0f921"
             ]
            ],
            "type": "contour"
           }
          ],
          "contourcarpet": [
           {
            "colorbar": {
             "outlinewidth": 0,
             "ticks": ""
            },
            "type": "contourcarpet"
           }
          ],
          "heatmap": [
           {
            "colorbar": {
             "outlinewidth": 0,
             "ticks": ""
            },
            "colorscale": [
             [
              0,
              "#0d0887"
             ],
             [
              0.1111111111111111,
              "#46039f"
             ],
             [
              0.2222222222222222,
              "#7201a8"
             ],
             [
              0.3333333333333333,
              "#9c179e"
             ],
             [
              0.4444444444444444,
              "#bd3786"
             ],
             [
              0.5555555555555556,
              "#d8576b"
             ],
             [
              0.6666666666666666,
              "#ed7953"
             ],
             [
              0.7777777777777778,
              "#fb9f3a"
             ],
             [
              0.8888888888888888,
              "#fdca26"
             ],
             [
              1,
              "#f0f921"
             ]
            ],
            "type": "heatmap"
           }
          ],
          "histogram": [
           {
            "marker": {
             "pattern": {
              "fillmode": "overlay",
              "size": 10,
              "solidity": 0.2
             }
            },
            "type": "histogram"
           }
          ],
          "histogram2d": [
           {
            "colorbar": {
             "outlinewidth": 0,
             "ticks": ""
            },
            "colorscale": [
             [
              0,
              "#0d0887"
             ],
             [
              0.1111111111111111,
              "#46039f"
             ],
             [
              0.2222222222222222,
              "#7201a8"
             ],
             [
              0.3333333333333333,
              "#9c179e"
             ],
             [
              0.4444444444444444,
              "#bd3786"
             ],
             [
              0.5555555555555556,
              "#d8576b"
             ],
             [
              0.6666666666666666,
              "#ed7953"
             ],
             [
              0.7777777777777778,
              "#fb9f3a"
             ],
             [
              0.8888888888888888,
              "#fdca26"
             ],
             [
              1,
              "#f0f921"
             ]
            ],
            "type": "histogram2d"
           }
          ],
          "histogram2dcontour": [
           {
            "colorbar": {
             "outlinewidth": 0,
             "ticks": ""
            },
            "colorscale": [
             [
              0,
              "#0d0887"
             ],
             [
              0.1111111111111111,
              "#46039f"
             ],
             [
              0.2222222222222222,
              "#7201a8"
             ],
             [
              0.3333333333333333,
              "#9c179e"
             ],
             [
              0.4444444444444444,
              "#bd3786"
             ],
             [
              0.5555555555555556,
              "#d8576b"
             ],
             [
              0.6666666666666666,
              "#ed7953"
             ],
             [
              0.7777777777777778,
              "#fb9f3a"
             ],
             [
              0.8888888888888888,
              "#fdca26"
             ],
             [
              1,
              "#f0f921"
             ]
            ],
            "type": "histogram2dcontour"
           }
          ],
          "mesh3d": [
           {
            "colorbar": {
             "outlinewidth": 0,
             "ticks": ""
            },
            "type": "mesh3d"
           }
          ],
          "parcoords": [
           {
            "line": {
             "colorbar": {
              "outlinewidth": 0,
              "ticks": ""
             }
            },
            "type": "parcoords"
           }
          ],
          "pie": [
           {
            "automargin": true,
            "type": "pie"
           }
          ],
          "scatter": [
           {
            "fillpattern": {
             "fillmode": "overlay",
             "size": 10,
             "solidity": 0.2
            },
            "type": "scatter"
           }
          ],
          "scatter3d": [
           {
            "line": {
             "colorbar": {
              "outlinewidth": 0,
              "ticks": ""
             }
            },
            "marker": {
             "colorbar": {
              "outlinewidth": 0,
              "ticks": ""
             }
            },
            "type": "scatter3d"
           }
          ],
          "scattercarpet": [
           {
            "marker": {
             "colorbar": {
              "outlinewidth": 0,
              "ticks": ""
             }
            },
            "type": "scattercarpet"
           }
          ],
          "scattergeo": [
           {
            "marker": {
             "colorbar": {
              "outlinewidth": 0,
              "ticks": ""
             }
            },
            "type": "scattergeo"
           }
          ],
          "scattergl": [
           {
            "marker": {
             "colorbar": {
              "outlinewidth": 0,
              "ticks": ""
             }
            },
            "type": "scattergl"
           }
          ],
          "scattermap": [
           {
            "marker": {
             "colorbar": {
              "outlinewidth": 0,
              "ticks": ""
             }
            },
            "type": "scattermap"
           }
          ],
          "scattermapbox": [
           {
            "marker": {
             "colorbar": {
              "outlinewidth": 0,
              "ticks": ""
             }
            },
            "type": "scattermapbox"
           }
          ],
          "scatterpolar": [
           {
            "marker": {
             "colorbar": {
              "outlinewidth": 0,
              "ticks": ""
             }
            },
            "type": "scatterpolar"
           }
          ],
          "scatterpolargl": [
           {
            "marker": {
             "colorbar": {
              "outlinewidth": 0,
              "ticks": ""
             }
            },
            "type": "scatterpolargl"
           }
          ],
          "scatterternary": [
           {
            "marker": {
             "colorbar": {
              "outlinewidth": 0,
              "ticks": ""
             }
            },
            "type": "scatterternary"
           }
          ],
          "surface": [
           {
            "colorbar": {
             "outlinewidth": 0,
             "ticks": ""
            },
            "colorscale": [
             [
              0,
              "#0d0887"
             ],
             [
              0.1111111111111111,
              "#46039f"
             ],
             [
              0.2222222222222222,
              "#7201a8"
             ],
             [
              0.3333333333333333,
              "#9c179e"
             ],
             [
              0.4444444444444444,
              "#bd3786"
             ],
             [
              0.5555555555555556,
              "#d8576b"
             ],
             [
              0.6666666666666666,
              "#ed7953"
             ],
             [
              0.7777777777777778,
              "#fb9f3a"
             ],
             [
              0.8888888888888888,
              "#fdca26"
             ],
             [
              1,
              "#f0f921"
             ]
            ],
            "type": "surface"
           }
          ],
          "table": [
           {
            "cells": {
             "fill": {
              "color": "#EBF0F8"
             },
             "line": {
              "color": "white"
             }
            },
            "header": {
             "fill": {
              "color": "#C8D4E3"
             },
             "line": {
              "color": "white"
             }
            },
            "type": "table"
           }
          ]
         },
         "layout": {
          "annotationdefaults": {
           "arrowcolor": "#2a3f5f",
           "arrowhead": 0,
           "arrowwidth": 1
          },
          "autotypenumbers": "strict",
          "coloraxis": {
           "colorbar": {
            "outlinewidth": 0,
            "ticks": ""
           }
          },
          "colorscale": {
           "diverging": [
            [
             0,
             "#8e0152"
            ],
            [
             0.1,
             "#c51b7d"
            ],
            [
             0.2,
             "#de77ae"
            ],
            [
             0.3,
             "#f1b6da"
            ],
            [
             0.4,
             "#fde0ef"
            ],
            [
             0.5,
             "#f7f7f7"
            ],
            [
             0.6,
             "#e6f5d0"
            ],
            [
             0.7,
             "#b8e186"
            ],
            [
             0.8,
             "#7fbc41"
            ],
            [
             0.9,
             "#4d9221"
            ],
            [
             1,
             "#276419"
            ]
           ],
           "sequential": [
            [
             0,
             "#0d0887"
            ],
            [
             0.1111111111111111,
             "#46039f"
            ],
            [
             0.2222222222222222,
             "#7201a8"
            ],
            [
             0.3333333333333333,
             "#9c179e"
            ],
            [
             0.4444444444444444,
             "#bd3786"
            ],
            [
             0.5555555555555556,
             "#d8576b"
            ],
            [
             0.6666666666666666,
             "#ed7953"
            ],
            [
             0.7777777777777778,
             "#fb9f3a"
            ],
            [
             0.8888888888888888,
             "#fdca26"
            ],
            [
             1,
             "#f0f921"
            ]
           ],
           "sequentialminus": [
            [
             0,
             "#0d0887"
            ],
            [
             0.1111111111111111,
             "#46039f"
            ],
            [
             0.2222222222222222,
             "#7201a8"
            ],
            [
             0.3333333333333333,
             "#9c179e"
            ],
            [
             0.4444444444444444,
             "#bd3786"
            ],
            [
             0.5555555555555556,
             "#d8576b"
            ],
            [
             0.6666666666666666,
             "#ed7953"
            ],
            [
             0.7777777777777778,
             "#fb9f3a"
            ],
            [
             0.8888888888888888,
             "#fdca26"
            ],
            [
             1,
             "#f0f921"
            ]
           ]
          },
          "colorway": [
           "#636efa",
           "#EF553B",
           "#00cc96",
           "#ab63fa",
           "#FFA15A",
           "#19d3f3",
           "#FF6692",
           "#B6E880",
           "#FF97FF",
           "#FECB52"
          ],
          "font": {
           "color": "#2a3f5f"
          },
          "geo": {
           "bgcolor": "white",
           "lakecolor": "white",
           "landcolor": "#E5ECF6",
           "showlakes": true,
           "showland": true,
           "subunitcolor": "white"
          },
          "hoverlabel": {
           "align": "left"
          },
          "hovermode": "closest",
          "mapbox": {
           "style": "light"
          },
          "paper_bgcolor": "white",
          "plot_bgcolor": "#E5ECF6",
          "polar": {
           "angularaxis": {
            "gridcolor": "white",
            "linecolor": "white",
            "ticks": ""
           },
           "bgcolor": "#E5ECF6",
           "radialaxis": {
            "gridcolor": "white",
            "linecolor": "white",
            "ticks": ""
           }
          },
          "scene": {
           "xaxis": {
            "backgroundcolor": "#E5ECF6",
            "gridcolor": "white",
            "gridwidth": 2,
            "linecolor": "white",
            "showbackground": true,
            "ticks": "",
            "zerolinecolor": "white"
           },
           "yaxis": {
            "backgroundcolor": "#E5ECF6",
            "gridcolor": "white",
            "gridwidth": 2,
            "linecolor": "white",
            "showbackground": true,
            "ticks": "",
            "zerolinecolor": "white"
           },
           "zaxis": {
            "backgroundcolor": "#E5ECF6",
            "gridcolor": "white",
            "gridwidth": 2,
            "linecolor": "white",
            "showbackground": true,
            "ticks": "",
            "zerolinecolor": "white"
           }
          },
          "shapedefaults": {
           "line": {
            "color": "#2a3f5f"
           }
          },
          "ternary": {
           "aaxis": {
            "gridcolor": "white",
            "linecolor": "white",
            "ticks": ""
           },
           "baxis": {
            "gridcolor": "white",
            "linecolor": "white",
            "ticks": ""
           },
           "bgcolor": "#E5ECF6",
           "caxis": {
            "gridcolor": "white",
            "linecolor": "white",
            "ticks": ""
           }
          },
          "title": {
           "x": 0.05
          },
          "xaxis": {
           "automargin": true,
           "gridcolor": "white",
           "linecolor": "white",
           "ticks": "",
           "title": {
            "standoff": 15
           },
           "zerolinecolor": "white",
           "zerolinewidth": 2
          },
          "yaxis": {
           "automargin": true,
           "gridcolor": "white",
           "linecolor": "white",
           "ticks": "",
           "title": {
            "standoff": 15
           },
           "zerolinecolor": "white",
           "zerolinewidth": 2
          }
         }
        },
        "title": {
         "text": "TSLA Candlestick Chart with Engulfing Patterns"
        },
        "xaxis": {
         "rangeslider": {
          "visible": false
         },
         "title": {
          "text": "Date"
         }
        },
        "yaxis": {
         "title": {
          "text": "Price"
         }
        }
       }
      },
      "image/png": "[encoded data removed]"
     },
     "metadata": {},
     "output_type": "display_data"
    }
   ],
   "source": [
    "visualize_engulfing_pattern(tsla_data)"
   ]
  }
 ],
 "metadata": {
  "kernelspec": {
   "display_name": "Python 3 (ipykernel)",
   "language": "python",
   "name": "python3"
  },
  "language_info": {
   "codemirror_mode": {
    "name": "ipython",
    "version": 3
   },
   "file_extension": ".py",
   "mimetype": "text/x-python",
   "name": "python",
   "nbconvert_exporter": "python",
   "pygments_lexer": "ipython3",
   "version": "3.9.4"
  }
 },
 "nbformat": 4,
 "nbformat_minor": 5
}
